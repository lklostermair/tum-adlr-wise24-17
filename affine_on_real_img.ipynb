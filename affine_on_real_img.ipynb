{
 "cells": [
  {
   "cell_type": "code",
   "execution_count": 1,
   "id": "b555af92-3ace-4bb2-a2f3-627799765909",
   "metadata": {
    "tags": []
   },
   "outputs": [],
   "source": [
    "device = \"cpu\"\n",
    "import torch\n",
    "if torch.cuda.is_available():\n",
    "    device = torch.device(\"cuda:0\")\n",
    "    torch.cuda.set_device(device)"
   ]
  },
  {
   "cell_type": "code",
   "execution_count": 2,
   "id": "037dfefb-b740-48aa-8dc8-9968012831cc",
   "metadata": {
    "tags": []
   },
   "outputs": [],
   "source": [
    "import h5py\n",
    "with h5py.File(\"tactmat.h5\", 'r') as dataset:\n",
    "    samples = dataset['samples'][:]  # Shape: [materials, samples, time_steps, taxels_x, taxels_y]\n",
    "    materials = dataset['materials'][:]"
   ]
  },
  {
   "cell_type": "code",
   "execution_count": 17,
   "id": "2fba5579-a0ab-437f-98bb-89f736b4a93a",
   "metadata": {
    "tags": []
   },
   "outputs": [],
   "source": [
    "import numpy as np\n",
    "from torch.utils.data import Dataset\n",
    "\n",
    "class TactileMaterialDataset(Dataset):\n",
    "    def __init__(self, file_path):\n",
    "\n",
    "        with h5py.File(file_path, 'r') as dataset:\n",
    "            samples = dataset['samples'][:]/154.\n",
    "            materials = dataset['materials'][:]\n",
    "        \n",
    "        # Only the sample 1 for now\n",
    "        self.samples = np.fft.fft(samples[1,:,:,:,:].reshape(100,1000,16), axis = 1).real\n",
    "        self.samples = torch.tensor(self.samples[:,30:970,:]).float()\n",
    "        self.labels = torch.tensor(np.repeat(range(len(materials)), 100))\n",
    "        \n",
    "    def __len__(self):\n",
    "        return len(self.samples)\n",
    "\n",
    "    def __getitem__(self, idx):\n",
    "        return self.samples[idx].to(device), self.labels[idx].to(device)"
   ]
  },
  {
   "cell_type": "code",
   "execution_count": 18,
   "id": "bfc2819d-379e-43a5-8056-bb2b6048da65",
   "metadata": {
    "tags": []
   },
   "outputs": [],
   "source": [
    "from torch.utils.data import DataLoader\n",
    "from tqdm import tqdm\n",
    "train_dataset = TactileMaterialDataset(\"tactmat.h5\")\n",
    "\n",
    "train_loader = DataLoader(train_dataset, batch_size=1, shuffle=True)"
   ]
  },
  {
   "cell_type": "code",
   "execution_count": 7,
   "id": "33a2458c-1a29-454d-9bf9-1a553a9c0ad0",
   "metadata": {
    "tags": []
   },
   "outputs": [
    {
     "ename": "KeyboardInterrupt",
     "evalue": "",
     "output_type": "error",
     "traceback": [
      "\u001b[0;31m---------------------------------------------------------------------------\u001b[0m",
      "\u001b[0;31mKeyboardInterrupt\u001b[0m                         Traceback (most recent call last)",
      "Cell \u001b[0;32mIn[7], line 17\u001b[0m\n\u001b[1;32m     15\u001b[0m inn \u001b[38;5;241m=\u001b[39m Ff\u001b[38;5;241m.\u001b[39mSequenceINN(N_DIM)\u001b[38;5;241m.\u001b[39mto(device)\n\u001b[1;32m     16\u001b[0m \u001b[38;5;28;01mfor\u001b[39;00m k \u001b[38;5;129;01min\u001b[39;00m \u001b[38;5;28mrange\u001b[39m(\u001b[38;5;241m4\u001b[39m):\n\u001b[0;32m---> 17\u001b[0m     \u001b[43minn\u001b[49m\u001b[38;5;241;43m.\u001b[39;49m\u001b[43mappend\u001b[49m\u001b[43m(\u001b[49m\u001b[43mFm\u001b[49m\u001b[38;5;241;43m.\u001b[39;49m\u001b[43mAllInOneBlock\u001b[49m\u001b[43m,\u001b[49m\u001b[43m \u001b[49m\u001b[43msubnet_constructor\u001b[49m\u001b[38;5;241;43m=\u001b[39;49m\u001b[43msubnet_fc\u001b[49m\u001b[43m,\u001b[49m\u001b[43m \u001b[49m\u001b[43mpermute_soft\u001b[49m\u001b[38;5;241;43m=\u001b[39;49m\u001b[38;5;28;43;01mTrue\u001b[39;49;00m\u001b[43m)\u001b[49m\n\u001b[1;32m     19\u001b[0m optimizer \u001b[38;5;241m=\u001b[39m torch\u001b[38;5;241m.\u001b[39moptim\u001b[38;5;241m.\u001b[39mAdam(inn\u001b[38;5;241m.\u001b[39mparameters(), lr\u001b[38;5;241m=\u001b[39m\u001b[38;5;241m0.001\u001b[39m)\n\u001b[1;32m     21\u001b[0m \u001b[38;5;28;01mfor\u001b[39;00m i \u001b[38;5;129;01min\u001b[39;00m \u001b[38;5;28mrange\u001b[39m(\u001b[38;5;241m20\u001b[39m):\n",
      "File \u001b[0;32m~/ibinn_imagenet/FrEIA/FrEIA/framework/sequence_inn.py:71\u001b[0m, in \u001b[0;36mSequenceINN.append\u001b[0;34m(self, module_class, cond, cond_shape, **kwargs)\u001b[0m\n\u001b[1;32m     69\u001b[0m     \u001b[38;5;28;01mif\u001b[39;00m cond \u001b[38;5;129;01mis\u001b[39;00m \u001b[38;5;129;01mnot\u001b[39;00m \u001b[38;5;28;01mNone\u001b[39;00m:\n\u001b[1;32m     70\u001b[0m         kwargs[\u001b[38;5;124m'\u001b[39m\u001b[38;5;124mdims_c\u001b[39m\u001b[38;5;124m'\u001b[39m] \u001b[38;5;241m=\u001b[39m [cond_shape]\n\u001b[0;32m---> 71\u001b[0m     module \u001b[38;5;241m=\u001b[39m \u001b[43mmodule_class\u001b[49m\u001b[43m(\u001b[49m\u001b[43mdims_in\u001b[49m\u001b[43m,\u001b[49m\u001b[43m \u001b[49m\u001b[38;5;241;43m*\u001b[39;49m\u001b[38;5;241;43m*\u001b[39;49m\u001b[43mkwargs\u001b[49m\u001b[43m)\u001b[49m\n\u001b[1;32m     72\u001b[0m \u001b[38;5;28mself\u001b[39m\u001b[38;5;241m.\u001b[39mmodule_list\u001b[38;5;241m.\u001b[39mappend(module)\n\u001b[1;32m     73\u001b[0m output_dims \u001b[38;5;241m=\u001b[39m module\u001b[38;5;241m.\u001b[39moutput_dims(dims_in)\n",
      "File \u001b[0;32m~/ibinn_imagenet/FrEIA/FrEIA/modules/all_in_one_block.py:144\u001b[0m, in \u001b[0;36mAllInOneBlock.__init__\u001b[0;34m(self, dims_in, dims_c, subnet_constructor, affine_clamping, gin_block, global_affine_init, global_affine_type, permute_soft, learned_householder_permutation, reverse_permutation)\u001b[0m\n\u001b[1;32m    141\u001b[0m \u001b[38;5;28mself\u001b[39m\u001b[38;5;241m.\u001b[39mglobal_offset \u001b[38;5;241m=\u001b[39m nn\u001b[38;5;241m.\u001b[39mParameter(torch\u001b[38;5;241m.\u001b[39mzeros(\u001b[38;5;241m1\u001b[39m, \u001b[38;5;28mself\u001b[39m\u001b[38;5;241m.\u001b[39min_channels, \u001b[38;5;241m*\u001b[39m([\u001b[38;5;241m1\u001b[39m] \u001b[38;5;241m*\u001b[39m \u001b[38;5;28mself\u001b[39m\u001b[38;5;241m.\u001b[39minput_rank)))\n\u001b[1;32m    143\u001b[0m \u001b[38;5;28;01mif\u001b[39;00m permute_soft:\n\u001b[0;32m--> 144\u001b[0m     w \u001b[38;5;241m=\u001b[39m \u001b[43mspecial_ortho_group\u001b[49m\u001b[38;5;241;43m.\u001b[39;49m\u001b[43mrvs\u001b[49m\u001b[43m(\u001b[49m\u001b[43mchannels\u001b[49m\u001b[43m)\u001b[49m\n\u001b[1;32m    145\u001b[0m \u001b[38;5;28;01melse\u001b[39;00m:\n\u001b[1;32m    146\u001b[0m     w \u001b[38;5;241m=\u001b[39m np\u001b[38;5;241m.\u001b[39mzeros((channels, channels))\n",
      "File \u001b[0;32m/opt/conda/lib/python3.10/site-packages/scipy/stats/_multivariate.py:3681\u001b[0m, in \u001b[0;36mspecial_ortho_group_gen.rvs\u001b[0;34m(self, dim, size, random_state)\u001b[0m\n\u001b[1;32m   3677\u001b[0m     x \u001b[38;5;241m/\u001b[39m\u001b[38;5;241m=\u001b[39m np\u001b[38;5;241m.\u001b[39msqrt((norm2 \u001b[38;5;241m-\u001b[39m x0\u001b[38;5;241m*\u001b[39m\u001b[38;5;241m*\u001b[39m\u001b[38;5;241m2\u001b[39m \u001b[38;5;241m+\u001b[39m x[\u001b[38;5;241m.\u001b[39m\u001b[38;5;241m.\u001b[39m\u001b[38;5;241m.\u001b[39m, \u001b[38;5;241m0\u001b[39m]\u001b[38;5;241m*\u001b[39m\u001b[38;5;241m*\u001b[39m\u001b[38;5;241m2\u001b[39m) \u001b[38;5;241m/\u001b[39m \u001b[38;5;241m2.\u001b[39m)[\u001b[38;5;241m.\u001b[39m\u001b[38;5;241m.\u001b[39m\u001b[38;5;241m.\u001b[39m, \u001b[38;5;28;01mNone\u001b[39;00m]\n\u001b[1;32m   3679\u001b[0m     \u001b[38;5;66;03m# Householder transformation, without vectorization the RHS can be\u001b[39;00m\n\u001b[1;32m   3680\u001b[0m     \u001b[38;5;66;03m# written as outer(H @ x, x) (apart from the slicing)\u001b[39;00m\n\u001b[0;32m-> 3681\u001b[0m     H[\u001b[38;5;241m.\u001b[39m\u001b[38;5;241m.\u001b[39m\u001b[38;5;241m.\u001b[39m, :, n:] \u001b[38;5;241m-\u001b[39m\u001b[38;5;241m=\u001b[39m np\u001b[38;5;241m.\u001b[39mmatmul(H[\u001b[38;5;241m.\u001b[39m\u001b[38;5;241m.\u001b[39m\u001b[38;5;241m.\u001b[39m, :, n:], xcol) \u001b[38;5;241m*\u001b[39m xrow\n\u001b[1;32m   3683\u001b[0m D[\u001b[38;5;241m.\u001b[39m\u001b[38;5;241m.\u001b[39m\u001b[38;5;241m.\u001b[39m, \u001b[38;5;241m-\u001b[39m\u001b[38;5;241m1\u001b[39m] \u001b[38;5;241m=\u001b[39m (\u001b[38;5;241m-\u001b[39m\u001b[38;5;241m1\u001b[39m)\u001b[38;5;241m*\u001b[39m\u001b[38;5;241m*\u001b[39m(dim\u001b[38;5;241m-\u001b[39m\u001b[38;5;241m1\u001b[39m)\u001b[38;5;241m*\u001b[39mD[\u001b[38;5;241m.\u001b[39m\u001b[38;5;241m.\u001b[39m\u001b[38;5;241m.\u001b[39m, :\u001b[38;5;241m-\u001b[39m\u001b[38;5;241m1\u001b[39m]\u001b[38;5;241m.\u001b[39mprod(axis\u001b[38;5;241m=\u001b[39m\u001b[38;5;241m-\u001b[39m\u001b[38;5;241m1\u001b[39m)\n\u001b[1;32m   3685\u001b[0m \u001b[38;5;66;03m# Without vectorization this could be written as H = diag(D) @ H,\u001b[39;00m\n\u001b[1;32m   3686\u001b[0m \u001b[38;5;66;03m# left-multiplication by a diagonal matrix amounts to multiplying each\u001b[39;00m\n\u001b[1;32m   3687\u001b[0m \u001b[38;5;66;03m# row of H by an element of the diagonal, so we add a dummy axis for\u001b[39;00m\n\u001b[1;32m   3688\u001b[0m \u001b[38;5;66;03m# the column index\u001b[39;00m\n",
      "\u001b[0;31mKeyboardInterrupt\u001b[0m: "
     ]
    }
   ],
   "source": [
    "import torch\n",
    "import torch.nn as nn\n",
    "\n",
    "# FrEIA imports\n",
    "import FrEIA.framework as Ff\n",
    "import FrEIA.modules as Fm\n",
    "\n",
    "\n",
    "N_DIM = 16 *940\n",
    "\n",
    "def subnet_fc(dims_in, dims_out):\n",
    "    return nn.Sequential(nn.Linear(dims_in, 128), nn.ReLU(),\n",
    "                         nn.Linear(32,  dims_out))\n",
    "\n",
    "inn = Ff.SequenceINN(N_DIM).to(device)\n",
    "for k in range(4):\n",
    "    inn.append(Fm.AllInOneBlock, subnet_constructor=subnet_fc, permute_soft=True)\n",
    "\n",
    "optimizer = torch.optim.Adam(inn.parameters(), lr=0.001)\n",
    "\n",
    "for i in range(20):\n",
    "    optimizer.zero_grad()\n",
    "    for data in tqdm(train_loader):\n",
    "        x = torch.Tensor(data.reshape(940,16).float())\n",
    "    \n",
    "        z,_, log_jac_det = inn(x)\n",
    "    \n",
    "        loss = 0.5*torch.sum(z**2, 1) - log_jac_det\n",
    "        loss = loss.mean() / N_DIM\n",
    "    \n",
    "        loss.backward()\n",
    "        optimizer.step()\n"
   ]
  },
  {
   "cell_type": "code",
   "execution_count": null,
   "id": "1b224d1c-6bbc-4397-a1db-f651794b1c18",
   "metadata": {},
   "outputs": [],
   "source": [
    "z = torch.randn(1, 2)\n",
    "samples_pred, _ = inn(z, rev=True)"
   ]
  },
  {
   "cell_type": "code",
   "execution_count": 33,
   "id": "b285c642-0aaf-4e6d-b1ef-6665c2902af1",
   "metadata": {
    "tags": []
   },
   "outputs": [],
   "source": [
    "import torch\n",
    "import torch.nn as nn\n",
    "import torch.optim\n",
    "\n",
    "import FrEIA.framework as Ff\n",
    "import FrEIA.modules as Fm\n",
    "\n",
    "ndim_total = 940 * 16\n",
    "\n",
    "def one_hot(labels, out=None):\n",
    "    '''\n",
    "    Convert LongTensor labels (contains labels 0-9), to a one hot vector.\n",
    "    Can be done in-place using the out-argument (faster, re-use of GPU memory)\n",
    "    '''\n",
    "    if out is None:\n",
    "        out = torch.zeros(labels.shape[0], 36).to(labels.device)\n",
    "    else:\n",
    "        out.zeros_()\n",
    "\n",
    "    out.scatter_(dim=1, index=labels.view(-1,1), value=1.)\n",
    "    return out\n",
    "\n",
    "class MNIST_cINN(nn.Module):\n",
    "    '''cINN for class-conditional MNISt generation'''\n",
    "    def __init__(self, lr):\n",
    "        super().__init__()\n",
    "\n",
    "        self.cinn = self.build_inn()\n",
    "\n",
    "        self.trainable_parameters = [p for p in self.cinn.parameters() if p.requires_grad]\n",
    "        for p in self.trainable_parameters:\n",
    "            p.data = 0.01 * torch.randn_like(p)\n",
    "\n",
    "        self.optimizer = torch.optim.Adam(self.trainable_parameters, lr=lr, weight_decay=1e-5)\n",
    "\n",
    "    def build_inn(self):\n",
    "\n",
    "        def subnet(ch_in, ch_out):\n",
    "            return nn.Sequential(nn.Linear(ch_in, 512),\n",
    "                                 nn.ReLU(),\n",
    "                                 nn.Linear(512, ch_out))\n",
    "\n",
    "        cond = Ff.ConditionNode(36)\n",
    "        nodes = [Ff.InputNode(1, 940, 16)]\n",
    "\n",
    "        nodes.append(Ff.Node(nodes[-1], Fm.Flatten, {}))\n",
    "\n",
    "        for k in range(5):\n",
    "            nodes.append(Ff.Node(nodes[-1], Fm.PermuteRandom , {'seed':k}))\n",
    "            nodes.append(Ff.Node(nodes[-1], Fm.GLOWCouplingBlock,\n",
    "                                 {'subnet_constructor':subnet, 'clamp':1.0},\n",
    "                                 conditions=cond))\n",
    "\n",
    "        return Ff.ReversibleGraphNet(nodes + [cond, Ff.OutputNode(nodes[-1])], verbose=False)\n",
    "\n",
    "    def forward(self, x, l):\n",
    "        z,jac = self.cinn(x, c=one_hot(l), jac=True)\n",
    "        return z, jac\n",
    "\n",
    "    def reverse_sample(self, z, l):\n",
    "        return self.cinn(z, c=one_hot(l), rev=True)"
   ]
  },
  {
   "cell_type": "code",
   "execution_count": 34,
   "id": "fd153172-fea4-4e50-9274-d12a1fad8463",
   "metadata": {
    "tags": []
   },
   "outputs": [],
   "source": [
    "cinn = MNIST_cINN(5e-3).to(device)"
   ]
  },
  {
   "cell_type": "code",
   "execution_count": 35,
   "id": "def02ed3-ec3a-450c-8f27-c97ae97a7abc",
   "metadata": {
    "tags": []
   },
   "outputs": [],
   "source": [
    "from tqdm import tqdm"
   ]
  },
  {
   "cell_type": "code",
   "execution_count": 37,
   "id": "8d1c28bb-98ea-4e8c-bf24-4e481dcac40e",
   "metadata": {
    "tags": []
   },
   "outputs": [
    {
     "name": "stderr",
     "output_type": "stream",
     "text": [
      "100%|██████████| 100/100 [00:05<00:00, 19.44it/s]\n",
      "100%|██████████| 100/100 [00:05<00:00, 19.34it/s]\n",
      "100%|██████████| 100/100 [00:05<00:00, 19.31it/s]\n",
      "100%|██████████| 100/100 [00:05<00:00, 19.35it/s]\n",
      "100%|██████████| 100/100 [00:05<00:00, 19.35it/s]\n",
      "100%|██████████| 100/100 [00:05<00:00, 19.23it/s]\n",
      "100%|██████████| 100/100 [00:05<00:00, 19.21it/s]\n",
      "100%|██████████| 100/100 [00:05<00:00, 19.29it/s]\n",
      "100%|██████████| 100/100 [00:05<00:00, 19.31it/s]\n",
      "100%|██████████| 100/100 [00:05<00:00, 19.32it/s]\n",
      "100%|██████████| 100/100 [00:05<00:00, 19.24it/s]\n",
      "100%|██████████| 100/100 [00:05<00:00, 19.35it/s]\n",
      "100%|██████████| 100/100 [00:05<00:00, 19.32it/s]\n",
      "100%|██████████| 100/100 [00:05<00:00, 19.35it/s]\n",
      "100%|██████████| 100/100 [00:05<00:00, 19.38it/s]\n",
      "100%|██████████| 100/100 [00:05<00:00, 19.37it/s]\n",
      "100%|██████████| 100/100 [00:05<00:00, 19.38it/s]\n",
      "100%|██████████| 100/100 [00:05<00:00, 19.22it/s]\n",
      "100%|██████████| 100/100 [00:05<00:00, 19.36it/s]\n",
      "100%|██████████| 100/100 [00:05<00:00, 19.34it/s]\n"
     ]
    }
   ],
   "source": [
    "optimizer = torch.optim.Adam(cinn.parameters(), lr=0.001)\n",
    "nll_mean = []\n",
    "for epoch in range(20):\n",
    "    optimizer.zero_grad()\n",
    "    for (x, l) in tqdm(train_loader):\n",
    "        x, l = x.cuda(), l.cuda()\n",
    "        z, log_j = cinn(x, l)\n",
    "\n",
    "        nll = torch.mean(z**2) / 2 - torch.mean(log_j) / ndim_total\n",
    "        nll.backward()\n",
    "        nll_mean.append(nll.item())\n",
    "        optimizer.step()"
   ]
  },
  {
   "cell_type": "code",
   "execution_count": null,
   "id": "bb18dca2-ba78-4d2e-9bab-1e4967b0bcc1",
   "metadata": {},
   "outputs": [],
   "source": []
  }
 ],
 "metadata": {
  "environment": {
   "kernel": "conda-base-py",
   "name": "workbench-notebooks.m127",
   "type": "gcloud",
   "uri": "us-docker.pkg.dev/deeplearning-platform-release/gcr.io/workbench-notebooks:m127"
  },
  "kernelspec": {
   "display_name": "Python 3 (ipykernel)",
   "language": "python",
   "name": "conda-base-py"
  },
  "language_info": {
   "codemirror_mode": {
    "name": "ipython",
    "version": 3
   },
   "file_extension": ".py",
   "mimetype": "text/x-python",
   "name": "python",
   "nbconvert_exporter": "python",
   "pygments_lexer": "ipython3",
   "version": "3.10.16"
  }
 },
 "nbformat": 4,
 "nbformat_minor": 5
}
