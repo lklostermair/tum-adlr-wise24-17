{
 "cells": [
  {
   "cell_type": "markdown",
   "id": "15534edc",
   "metadata": {},
   "source": [
    "## Install & Imports\n",
    "Installs all necessary libraries for running model"
   ]
  },
  {
   "cell_type": "code",
   "execution_count": 3,
   "id": "12448640-8a9e-4e0c-abb9-dde59142f347",
   "metadata": {
    "tags": []
   },
   "outputs": [
    {
     "name": "stdout",
     "output_type": "stream",
     "text": [
      "Detected device: CPU\n",
      "Installing PyTorch for CPU...\n",
      "Requirement already satisfied: torch in /home/luki/myenv/lib/python3.12/site-packages (2.5.1+cpu)\n",
      "Requirement already satisfied: filelock in /home/luki/myenv/lib/python3.12/site-packages (from torch) (3.13.1)\n",
      "Requirement already satisfied: typing-extensions>=4.8.0 in /home/luki/myenv/lib/python3.12/site-packages (from torch) (4.12.2)\n",
      "Requirement already satisfied: networkx in /home/luki/myenv/lib/python3.12/site-packages (from torch) (3.2.1)\n",
      "Requirement already satisfied: jinja2 in /home/luki/myenv/lib/python3.12/site-packages (from torch) (3.1.4)\n",
      "Requirement already satisfied: fsspec in /home/luki/myenv/lib/python3.12/site-packages (from torch) (2024.2.0)\n",
      "Requirement already satisfied: setuptools in /home/luki/myenv/lib/python3.12/site-packages (from torch) (75.5.0)\n",
      "Requirement already satisfied: sympy==1.13.1 in /home/luki/myenv/lib/python3.12/site-packages (from torch) (1.13.1)\n",
      "Requirement already satisfied: mpmath<1.4,>=1.1.0 in /home/luki/myenv/lib/python3.12/site-packages (from sympy==1.13.1->torch) (1.3.0)\n",
      "Requirement already satisfied: MarkupSafe>=2.0 in /home/luki/myenv/lib/python3.12/site-packages (from jinja2->torch) (3.0.2)\n",
      "Requirement already satisfied: torchvision in /home/luki/myenv/lib/python3.12/site-packages (0.20.1+cpu)\n",
      "Requirement already satisfied: numpy in /home/luki/myenv/lib/python3.12/site-packages (from torchvision) (1.26.3)\n",
      "Requirement already satisfied: torch==2.5.1 in /home/luki/myenv/lib/python3.12/site-packages (from torchvision) (2.5.1+cpu)\n",
      "Requirement already satisfied: pillow!=8.3.*,>=5.3.0 in /home/luki/myenv/lib/python3.12/site-packages (from torchvision) (11.0.0)\n",
      "Requirement already satisfied: filelock in /home/luki/myenv/lib/python3.12/site-packages (from torch==2.5.1->torchvision) (3.13.1)\n",
      "Requirement already satisfied: typing-extensions>=4.8.0 in /home/luki/myenv/lib/python3.12/site-packages (from torch==2.5.1->torchvision) (4.12.2)\n",
      "Requirement already satisfied: networkx in /home/luki/myenv/lib/python3.12/site-packages (from torch==2.5.1->torchvision) (3.2.1)\n",
      "Requirement already satisfied: jinja2 in /home/luki/myenv/lib/python3.12/site-packages (from torch==2.5.1->torchvision) (3.1.4)\n",
      "Requirement already satisfied: fsspec in /home/luki/myenv/lib/python3.12/site-packages (from torch==2.5.1->torchvision) (2024.2.0)\n",
      "Requirement already satisfied: setuptools in /home/luki/myenv/lib/python3.12/site-packages (from torch==2.5.1->torchvision) (75.5.0)\n",
      "Requirement already satisfied: sympy==1.13.1 in /home/luki/myenv/lib/python3.12/site-packages (from torch==2.5.1->torchvision) (1.13.1)\n",
      "Requirement already satisfied: mpmath<1.4,>=1.1.0 in /home/luki/myenv/lib/python3.12/site-packages (from sympy==1.13.1->torch==2.5.1->torchvision) (1.3.0)\n",
      "Requirement already satisfied: MarkupSafe>=2.0 in /home/luki/myenv/lib/python3.12/site-packages (from jinja2->torch==2.5.1->torchvision) (3.0.2)\n",
      "Requirement already satisfied: torchaudio in /home/luki/myenv/lib/python3.12/site-packages (2.5.1+cpu)\n",
      "Requirement already satisfied: torch==2.5.1 in /home/luki/myenv/lib/python3.12/site-packages (from torchaudio) (2.5.1+cpu)\n",
      "Requirement already satisfied: filelock in /home/luki/myenv/lib/python3.12/site-packages (from torch==2.5.1->torchaudio) (3.13.1)\n",
      "Requirement already satisfied: typing-extensions>=4.8.0 in /home/luki/myenv/lib/python3.12/site-packages (from torch==2.5.1->torchaudio) (4.12.2)\n",
      "Requirement already satisfied: networkx in /home/luki/myenv/lib/python3.12/site-packages (from torch==2.5.1->torchaudio) (3.2.1)\n",
      "Requirement already satisfied: jinja2 in /home/luki/myenv/lib/python3.12/site-packages (from torch==2.5.1->torchaudio) (3.1.4)\n",
      "Requirement already satisfied: fsspec in /home/luki/myenv/lib/python3.12/site-packages (from torch==2.5.1->torchaudio) (2024.2.0)\n",
      "Requirement already satisfied: setuptools in /home/luki/myenv/lib/python3.12/site-packages (from torch==2.5.1->torchaudio) (75.5.0)\n",
      "Requirement already satisfied: sympy==1.13.1 in /home/luki/myenv/lib/python3.12/site-packages (from torch==2.5.1->torchaudio) (1.13.1)\n",
      "Requirement already satisfied: mpmath<1.4,>=1.1.0 in /home/luki/myenv/lib/python3.12/site-packages (from sympy==1.13.1->torch==2.5.1->torchaudio) (1.3.0)\n",
      "Requirement already satisfied: MarkupSafe>=2.0 in /home/luki/myenv/lib/python3.12/site-packages (from jinja2->torch==2.5.1->torchaudio) (3.0.2)\n",
      "Installing additional requirements...\n",
      "Requirement already satisfied: tqdm in /home/luki/myenv/lib/python3.12/site-packages (4.67.0)\n",
      "Requirement already satisfied: h5py in /home/luki/myenv/lib/python3.12/site-packages (3.12.1)\n",
      "Requirement already satisfied: numpy>=1.19.3 in /home/luki/myenv/lib/python3.12/site-packages (from h5py) (1.26.3)\n",
      "Requirement already satisfied: numpy in /home/luki/myenv/lib/python3.12/site-packages (1.26.3)\n",
      "Requirement already satisfied: matplotlib in /home/luki/myenv/lib/python3.12/site-packages (3.9.2)\n",
      "Requirement already satisfied: contourpy>=1.0.1 in /home/luki/myenv/lib/python3.12/site-packages (from matplotlib) (1.3.1)\n",
      "Requirement already satisfied: cycler>=0.10 in /home/luki/myenv/lib/python3.12/site-packages (from matplotlib) (0.12.1)\n",
      "Requirement already satisfied: fonttools>=4.22.0 in /home/luki/myenv/lib/python3.12/site-packages (from matplotlib) (4.55.0)\n",
      "Requirement already satisfied: kiwisolver>=1.3.1 in /home/luki/myenv/lib/python3.12/site-packages (from matplotlib) (1.4.7)\n",
      "Requirement already satisfied: numpy>=1.23 in /home/luki/myenv/lib/python3.12/site-packages (from matplotlib) (1.26.3)\n",
      "Requirement already satisfied: packaging>=20.0 in /home/luki/myenv/lib/python3.12/site-packages (from matplotlib) (24.2)\n",
      "Requirement already satisfied: pillow>=8 in /home/luki/myenv/lib/python3.12/site-packages (from matplotlib) (11.0.0)\n",
      "Requirement already satisfied: pyparsing>=2.3.1 in /home/luki/myenv/lib/python3.12/site-packages (from matplotlib) (3.2.0)\n",
      "Requirement already satisfied: python-dateutil>=2.7 in /home/luki/myenv/lib/python3.12/site-packages (from matplotlib) (2.9.0.post0)\n",
      "Requirement already satisfied: six>=1.5 in /home/luki/myenv/lib/python3.12/site-packages (from python-dateutil>=2.7->matplotlib) (1.16.0)\n",
      "Requirement already satisfied: seaborn in /home/luki/myenv/lib/python3.12/site-packages (0.13.2)\n",
      "Requirement already satisfied: numpy!=1.24.0,>=1.20 in /home/luki/myenv/lib/python3.12/site-packages (from seaborn) (1.26.3)\n",
      "Requirement already satisfied: pandas>=1.2 in /home/luki/myenv/lib/python3.12/site-packages (from seaborn) (2.2.3)\n",
      "Requirement already satisfied: matplotlib!=3.6.1,>=3.4 in /home/luki/myenv/lib/python3.12/site-packages (from seaborn) (3.9.2)\n",
      "Requirement already satisfied: contourpy>=1.0.1 in /home/luki/myenv/lib/python3.12/site-packages (from matplotlib!=3.6.1,>=3.4->seaborn) (1.3.1)\n",
      "Requirement already satisfied: cycler>=0.10 in /home/luki/myenv/lib/python3.12/site-packages (from matplotlib!=3.6.1,>=3.4->seaborn) (0.12.1)\n",
      "Requirement already satisfied: fonttools>=4.22.0 in /home/luki/myenv/lib/python3.12/site-packages (from matplotlib!=3.6.1,>=3.4->seaborn) (4.55.0)\n",
      "Requirement already satisfied: kiwisolver>=1.3.1 in /home/luki/myenv/lib/python3.12/site-packages (from matplotlib!=3.6.1,>=3.4->seaborn) (1.4.7)\n",
      "Requirement already satisfied: packaging>=20.0 in /home/luki/myenv/lib/python3.12/site-packages (from matplotlib!=3.6.1,>=3.4->seaborn) (24.2)\n",
      "Requirement already satisfied: pillow>=8 in /home/luki/myenv/lib/python3.12/site-packages (from matplotlib!=3.6.1,>=3.4->seaborn) (11.0.0)\n",
      "Requirement already satisfied: pyparsing>=2.3.1 in /home/luki/myenv/lib/python3.12/site-packages (from matplotlib!=3.6.1,>=3.4->seaborn) (3.2.0)\n",
      "Requirement already satisfied: python-dateutil>=2.7 in /home/luki/myenv/lib/python3.12/site-packages (from matplotlib!=3.6.1,>=3.4->seaborn) (2.9.0.post0)\n",
      "Requirement already satisfied: pytz>=2020.1 in /home/luki/myenv/lib/python3.12/site-packages (from pandas>=1.2->seaborn) (2024.2)\n",
      "Requirement already satisfied: tzdata>=2022.7 in /home/luki/myenv/lib/python3.12/site-packages (from pandas>=1.2->seaborn) (2024.2)\n",
      "Requirement already satisfied: six>=1.5 in /home/luki/myenv/lib/python3.12/site-packages (from python-dateutil>=2.7->matplotlib!=3.6.1,>=3.4->seaborn) (1.16.0)\n",
      "Requirement already satisfied: plotly in /home/luki/myenv/lib/python3.12/site-packages (5.24.1)\n",
      "Requirement already satisfied: tenacity>=6.2.0 in /home/luki/myenv/lib/python3.12/site-packages (from plotly) (9.0.0)\n",
      "Requirement already satisfied: packaging in /home/luki/myenv/lib/python3.12/site-packages (from plotly) (24.2)\n",
      "All required packages have been installed.\n"
     ]
    }
   ],
   "source": [
    "import subprocess\n",
    "import sys\n",
    "\n",
    "# Define a function to install packages\n",
    "def pip_install(package):\n",
    "    subprocess.check_call([sys.executable, \"-m\", \"pip\", \"install\", package])\n",
    "\n",
    "# Check if torch is installed\n",
    "try:\n",
    "    import torch\n",
    "except ImportError:\n",
    "    print(\"PyTorch is not installed. Installing CPU version of PyTorch first...\")\n",
    "    pip_install(\"torch\")\n",
    "    pip_install(\"torchvision\")\n",
    "    pip_install(\"torchaudio\")\n",
    "\n",
    "# Check for GPU availability if torch is successfully imported\n",
    "try:\n",
    "    import torch\n",
    "    device = \"cuda\" if torch.cuda.is_available() else \"cpu\"\n",
    "    print(f\"Detected device: {device.upper()}\")\n",
    "\n",
    "    # Install appropriate version of PyTorch\n",
    "    if device == \"cuda\":\n",
    "        print(\"Installing PyTorch with GPU support...\")\n",
    "        pip_install(\"torch torchvision torchaudio --index-url https://download.pytorch.org/whl/cu117\")\n",
    "    else:\n",
    "        print(\"Installing PyTorch for CPU...\")\n",
    "        pip_install(\"torch\")\n",
    "        pip_install(\"torchvision\")\n",
    "        pip_install(\"torchaudio\")\n",
    "except Exception as e:\n",
    "    print(f\"Error while checking/installing PyTorch: {e}\")\n",
    "    device = \"cpu\"\n",
    "\n",
    "# Install additional dependencies\n",
    "print(\"Installing additional requirements...\")\n",
    "requirements = [\n",
    "    \"tqdm\",\n",
    "    \"h5py\",\n",
    "    \"numpy\",\n",
    "    \"matplotlib\",\n",
    "    \"seaborn\",\n",
    "    \"plotly\"\n",
    "]\n",
    "\n",
    "for package in requirements:\n",
    "    pip_install(package)\n",
    "\n",
    "print(\"All required packages have been installed.\")\n"
   ]
  },
  {
   "cell_type": "code",
   "execution_count": null,
   "id": "ab34de43-0a00-4bb8-94a4-a2a320210c89",
   "metadata": {
    "tags": []
   },
   "outputs": [],
   "source": [
    "import torch\n",
    "import torch.nn as nn\n",
    "import torch.nn.functional as F\n",
    "import torch.optim as optim\n",
    "import numpy as np\n",
    "from torch.utils.data import DataLoader, TensorDataset\n",
    "from tqdm import tqdm\n",
    "from models.TacNet_model import MCTestTacNet\n",
    "\n",
    "\n",
    "\n",
    "device = torch.device(\"cuda:0\" if torch.cuda.is_available() else \"cpu\")"
   ]
  },
  {
   "cell_type": "markdown",
   "id": "4a8a2e4c",
   "metadata": {},
   "source": [
    "## Dataloading & Preprocessing\n",
    "Loads & Processes the Data to fit the model"
   ]
  },
  {
   "cell_type": "code",
   "execution_count": 2,
   "id": "3f261410-bddd-40ef-92b1-7dcca573ad6e",
   "metadata": {
    "tags": []
   },
   "outputs": [],
   "source": [
    "#dataloading and preprocessing\n",
    "import h5py\n",
    "with h5py.File('tactmat.h5', 'r') as dataset:\n",
    "    samples = dataset['samples'][:]\n",
    "    materials = dataset['materials'][:]\n",
    "    materials = [m.decode('utf-8') for m in materials]\n",
    "train_samples = samples[:, :80,...]  # (36, 80, 1000, 4, 4)\n",
    "test_samples = samples[:, 80:,...]  # (36, 20, 1000, 4, 4)\n",
    "\n",
    "# Flatten data\n",
    "train_samples = train_samples.reshape((36*80, 1000, 16))  # (2880, 1000, 16)\n",
    "test_samples = test_samples.reshape((36*20, 1000, 16))  # (720, 1000, 16)\n",
    "\n",
    "# Create labels\n",
    "train_labels = np.repeat(np.arange(36), 80)  # (2880,)\n",
    "test_labels = np.repeat(np.arange(36), 20)  # (720,)\n",
    "\n",
    "# Shuffle\n",
    "indices = torch.randperm(len(train_samples))\n",
    "train_samples = train_samples[indices]\n",
    "train_labels = train_labels[indices]\n",
    "\n",
    "# One-hot encoding not needed for pytorch CrossEntropyLoss\n",
    "train_samples = torch.tensor(train_samples.reshape(2880, 1, 1000, 16), dtype=torch.float32)\n",
    "test_samples = torch.tensor(test_samples.reshape(720, 1, 1000, 16), dtype=torch.float32)\n",
    "train_labels = torch.tensor(train_labels, dtype=torch.long)\n",
    "test_labels = torch.tensor(test_labels, dtype=torch.long)"
   ]
  },
  {
   "cell_type": "markdown",
   "id": "64263c19",
   "metadata": {},
   "source": [
    "## Training Pipeline\n",
    "Where the magic happens"
   ]
  },
  {
   "cell_type": "code",
   "execution_count": 6,
   "id": "1f75e1bd-fddd-4018-a067-bee5545d5342",
   "metadata": {
    "tags": []
   },
   "outputs": [
    {
     "name": "stderr",
     "output_type": "stream",
     "text": [
      "Epoch [1/200]: 100%|██████████| 90/90 [00:23<00:00,  3.77batch/s]\n"
     ]
    },
    {
     "name": "stdout",
     "output_type": "stream",
     "text": [
      "Epoch [1/200], Loss: 2.6790\n"
     ]
    },
    {
     "name": "stderr",
     "output_type": "stream",
     "text": [
      "Epoch [2/200]: 100%|██████████| 90/90 [00:24<00:00,  3.66batch/s]\n"
     ]
    },
    {
     "name": "stdout",
     "output_type": "stream",
     "text": [
      "Epoch [2/200], Loss: 1.6281\n"
     ]
    },
    {
     "name": "stderr",
     "output_type": "stream",
     "text": [
      "Epoch [3/200]: 100%|██████████| 90/90 [00:24<00:00,  3.64batch/s]\n"
     ]
    },
    {
     "name": "stdout",
     "output_type": "stream",
     "text": [
      "Epoch [3/200], Loss: 1.1287\n"
     ]
    },
    {
     "name": "stderr",
     "output_type": "stream",
     "text": [
      "Epoch [4/200]: 100%|██████████| 90/90 [00:24<00:00,  3.70batch/s]\n"
     ]
    },
    {
     "name": "stdout",
     "output_type": "stream",
     "text": [
      "Epoch [4/200], Loss: 0.8313\n"
     ]
    },
    {
     "name": "stderr",
     "output_type": "stream",
     "text": [
      "Epoch [5/200]: 100%|██████████| 90/90 [00:24<00:00,  3.70batch/s]\n"
     ]
    },
    {
     "name": "stdout",
     "output_type": "stream",
     "text": [
      "Epoch [5/200], Loss: 0.6316\n"
     ]
    },
    {
     "name": "stderr",
     "output_type": "stream",
     "text": [
      "Epoch [6/200]: 100%|██████████| 90/90 [00:24<00:00,  3.66batch/s]\n"
     ]
    },
    {
     "name": "stdout",
     "output_type": "stream",
     "text": [
      "Epoch [6/200], Loss: 0.4273\n"
     ]
    },
    {
     "name": "stderr",
     "output_type": "stream",
     "text": [
      "Epoch [7/200]: 100%|██████████| 90/90 [00:24<00:00,  3.68batch/s]\n"
     ]
    },
    {
     "name": "stdout",
     "output_type": "stream",
     "text": [
      "Epoch [7/200], Loss: 0.2722\n"
     ]
    },
    {
     "name": "stderr",
     "output_type": "stream",
     "text": [
      "Epoch [8/200]: 100%|██████████| 90/90 [00:24<00:00,  3.67batch/s]\n"
     ]
    },
    {
     "name": "stdout",
     "output_type": "stream",
     "text": [
      "Epoch [8/200], Loss: 0.2249\n"
     ]
    },
    {
     "name": "stderr",
     "output_type": "stream",
     "text": [
      "Epoch [9/200]: 100%|██████████| 90/90 [00:24<00:00,  3.68batch/s]\n"
     ]
    },
    {
     "name": "stdout",
     "output_type": "stream",
     "text": [
      "Epoch [9/200], Loss: 0.1578\n"
     ]
    },
    {
     "name": "stderr",
     "output_type": "stream",
     "text": [
      "Epoch [10/200]: 100%|██████████| 90/90 [00:24<00:00,  3.69batch/s]\n"
     ]
    },
    {
     "name": "stdout",
     "output_type": "stream",
     "text": [
      "Epoch [10/200], Loss: 0.0861\n"
     ]
    },
    {
     "name": "stderr",
     "output_type": "stream",
     "text": [
      "Epoch [11/200]: 100%|██████████| 90/90 [00:24<00:00,  3.68batch/s]\n"
     ]
    },
    {
     "name": "stdout",
     "output_type": "stream",
     "text": [
      "Epoch [11/200], Loss: 0.0556\n"
     ]
    },
    {
     "name": "stderr",
     "output_type": "stream",
     "text": [
      "Epoch [12/200]: 100%|██████████| 90/90 [00:24<00:00,  3.68batch/s]\n"
     ]
    },
    {
     "name": "stdout",
     "output_type": "stream",
     "text": [
      "Epoch [12/200], Loss: 0.0485\n"
     ]
    },
    {
     "name": "stderr",
     "output_type": "stream",
     "text": [
      "Epoch [13/200]: 100%|██████████| 90/90 [00:24<00:00,  3.67batch/s]\n"
     ]
    },
    {
     "name": "stdout",
     "output_type": "stream",
     "text": [
      "Epoch [13/200], Loss: 0.0334\n"
     ]
    },
    {
     "name": "stderr",
     "output_type": "stream",
     "text": [
      "Epoch [14/200]: 100%|██████████| 90/90 [00:24<00:00,  3.68batch/s]\n"
     ]
    },
    {
     "name": "stdout",
     "output_type": "stream",
     "text": [
      "Epoch [14/200], Loss: 0.0354\n"
     ]
    },
    {
     "name": "stderr",
     "output_type": "stream",
     "text": [
      "Epoch [15/200]: 100%|██████████| 90/90 [00:24<00:00,  3.68batch/s]\n"
     ]
    },
    {
     "name": "stdout",
     "output_type": "stream",
     "text": [
      "Epoch [15/200], Loss: 0.0405\n"
     ]
    },
    {
     "name": "stderr",
     "output_type": "stream",
     "text": [
      "Epoch [16/200]: 100%|██████████| 90/90 [00:24<00:00,  3.68batch/s]\n"
     ]
    },
    {
     "name": "stdout",
     "output_type": "stream",
     "text": [
      "Epoch [16/200], Loss: 0.0311\n"
     ]
    },
    {
     "name": "stderr",
     "output_type": "stream",
     "text": [
      "Epoch [17/200]: 100%|██████████| 90/90 [00:24<00:00,  3.68batch/s]\n"
     ]
    },
    {
     "name": "stdout",
     "output_type": "stream",
     "text": [
      "Epoch [17/200], Loss: 0.0320\n"
     ]
    },
    {
     "name": "stderr",
     "output_type": "stream",
     "text": [
      "Epoch [18/200]: 100%|██████████| 90/90 [00:24<00:00,  3.68batch/s]\n"
     ]
    },
    {
     "name": "stdout",
     "output_type": "stream",
     "text": [
      "Epoch [18/200], Loss: 0.0226\n"
     ]
    },
    {
     "name": "stderr",
     "output_type": "stream",
     "text": [
      "Epoch [19/200]: 100%|██████████| 90/90 [00:24<00:00,  3.68batch/s]\n"
     ]
    },
    {
     "name": "stdout",
     "output_type": "stream",
     "text": [
      "Epoch [19/200], Loss: 0.0373\n"
     ]
    },
    {
     "name": "stderr",
     "output_type": "stream",
     "text": [
      "Epoch [20/200]: 100%|██████████| 90/90 [00:24<00:00,  3.68batch/s]\n"
     ]
    },
    {
     "name": "stdout",
     "output_type": "stream",
     "text": [
      "Epoch [20/200], Loss: 0.0697\n"
     ]
    },
    {
     "name": "stderr",
     "output_type": "stream",
     "text": [
      "Epoch [21/200]: 100%|██████████| 90/90 [00:24<00:00,  3.68batch/s]\n"
     ]
    },
    {
     "name": "stdout",
     "output_type": "stream",
     "text": [
      "Epoch [21/200], Loss: 0.0484\n"
     ]
    },
    {
     "name": "stderr",
     "output_type": "stream",
     "text": [
      "Epoch [22/200]: 100%|██████████| 90/90 [00:24<00:00,  3.68batch/s]\n"
     ]
    },
    {
     "name": "stdout",
     "output_type": "stream",
     "text": [
      "Epoch [22/200], Loss: 0.0334\n"
     ]
    },
    {
     "name": "stderr",
     "output_type": "stream",
     "text": [
      "Epoch [23/200]: 100%|██████████| 90/90 [00:24<00:00,  3.68batch/s]\n"
     ]
    },
    {
     "name": "stdout",
     "output_type": "stream",
     "text": [
      "Epoch [23/200], Loss: 0.0449\n"
     ]
    },
    {
     "name": "stderr",
     "output_type": "stream",
     "text": [
      "Epoch [24/200]: 100%|██████████| 90/90 [00:24<00:00,  3.67batch/s]\n"
     ]
    },
    {
     "name": "stdout",
     "output_type": "stream",
     "text": [
      "Epoch [24/200], Loss: 0.0348\n"
     ]
    },
    {
     "name": "stderr",
     "output_type": "stream",
     "text": [
      "Epoch [25/200]: 100%|██████████| 90/90 [00:24<00:00,  3.68batch/s]\n"
     ]
    },
    {
     "name": "stdout",
     "output_type": "stream",
     "text": [
      "Epoch [25/200], Loss: 0.0332\n"
     ]
    },
    {
     "name": "stderr",
     "output_type": "stream",
     "text": [
      "Epoch [26/200]: 100%|██████████| 90/90 [00:24<00:00,  3.67batch/s]\n"
     ]
    },
    {
     "name": "stdout",
     "output_type": "stream",
     "text": [
      "Epoch [26/200], Loss: 0.0345\n"
     ]
    },
    {
     "name": "stderr",
     "output_type": "stream",
     "text": [
      "Epoch [27/200]: 100%|██████████| 90/90 [00:24<00:00,  3.68batch/s]\n"
     ]
    },
    {
     "name": "stdout",
     "output_type": "stream",
     "text": [
      "Epoch [27/200], Loss: 0.0329\n"
     ]
    },
    {
     "name": "stderr",
     "output_type": "stream",
     "text": [
      "Epoch [28/200]: 100%|██████████| 90/90 [00:24<00:00,  3.68batch/s]\n"
     ]
    },
    {
     "name": "stdout",
     "output_type": "stream",
     "text": [
      "Epoch [28/200], Loss: 0.0206\n"
     ]
    },
    {
     "name": "stderr",
     "output_type": "stream",
     "text": [
      "Epoch [29/200]: 100%|██████████| 90/90 [00:24<00:00,  3.68batch/s]\n"
     ]
    },
    {
     "name": "stdout",
     "output_type": "stream",
     "text": [
      "Epoch [29/200], Loss: 0.0206\n"
     ]
    },
    {
     "name": "stderr",
     "output_type": "stream",
     "text": [
      "Epoch [30/200]: 100%|██████████| 90/90 [00:24<00:00,  3.68batch/s]\n"
     ]
    },
    {
     "name": "stdout",
     "output_type": "stream",
     "text": [
      "Epoch [30/200], Loss: 0.0289\n"
     ]
    },
    {
     "name": "stderr",
     "output_type": "stream",
     "text": [
      "Epoch [31/200]: 100%|██████████| 90/90 [00:24<00:00,  3.68batch/s]\n"
     ]
    },
    {
     "name": "stdout",
     "output_type": "stream",
     "text": [
      "Epoch [31/200], Loss: 0.0186\n"
     ]
    },
    {
     "name": "stderr",
     "output_type": "stream",
     "text": [
      "Epoch [32/200]: 100%|██████████| 90/90 [00:24<00:00,  3.68batch/s]\n"
     ]
    },
    {
     "name": "stdout",
     "output_type": "stream",
     "text": [
      "Epoch [32/200], Loss: 0.0257\n"
     ]
    },
    {
     "name": "stderr",
     "output_type": "stream",
     "text": [
      "Epoch [33/200]: 100%|██████████| 90/90 [00:24<00:00,  3.68batch/s]\n"
     ]
    },
    {
     "name": "stdout",
     "output_type": "stream",
     "text": [
      "Epoch [33/200], Loss: 0.0608\n"
     ]
    },
    {
     "name": "stderr",
     "output_type": "stream",
     "text": [
      "Epoch [34/200]: 100%|██████████| 90/90 [00:24<00:00,  3.67batch/s]\n"
     ]
    },
    {
     "name": "stdout",
     "output_type": "stream",
     "text": [
      "Epoch [34/200], Loss: 0.0432\n"
     ]
    },
    {
     "name": "stderr",
     "output_type": "stream",
     "text": [
      "Epoch [35/200]: 100%|██████████| 90/90 [00:24<00:00,  3.68batch/s]\n"
     ]
    },
    {
     "name": "stdout",
     "output_type": "stream",
     "text": [
      "Epoch [35/200], Loss: 0.0249\n"
     ]
    },
    {
     "name": "stderr",
     "output_type": "stream",
     "text": [
      "Epoch [36/200]: 100%|██████████| 90/90 [00:24<00:00,  3.68batch/s]\n"
     ]
    },
    {
     "name": "stdout",
     "output_type": "stream",
     "text": [
      "Epoch [36/200], Loss: 0.0105\n"
     ]
    },
    {
     "name": "stderr",
     "output_type": "stream",
     "text": [
      "Epoch [37/200]: 100%|██████████| 90/90 [00:24<00:00,  3.68batch/s]\n"
     ]
    },
    {
     "name": "stdout",
     "output_type": "stream",
     "text": [
      "Epoch [37/200], Loss: 0.0110\n"
     ]
    },
    {
     "name": "stderr",
     "output_type": "stream",
     "text": [
      "Epoch [38/200]: 100%|██████████| 90/90 [00:24<00:00,  3.68batch/s]\n"
     ]
    },
    {
     "name": "stdout",
     "output_type": "stream",
     "text": [
      "Epoch [38/200], Loss: 0.0073\n"
     ]
    },
    {
     "name": "stderr",
     "output_type": "stream",
     "text": [
      "Epoch [39/200]: 100%|██████████| 90/90 [00:24<00:00,  3.68batch/s]\n"
     ]
    },
    {
     "name": "stdout",
     "output_type": "stream",
     "text": [
      "Epoch [39/200], Loss: 0.0170\n"
     ]
    },
    {
     "name": "stderr",
     "output_type": "stream",
     "text": [
      "Epoch [40/200]: 100%|██████████| 90/90 [00:24<00:00,  3.68batch/s]\n"
     ]
    },
    {
     "name": "stdout",
     "output_type": "stream",
     "text": [
      "Epoch [40/200], Loss: 0.0520\n"
     ]
    },
    {
     "name": "stderr",
     "output_type": "stream",
     "text": [
      "Epoch [41/200]: 100%|██████████| 90/90 [00:24<00:00,  3.68batch/s]\n"
     ]
    },
    {
     "name": "stdout",
     "output_type": "stream",
     "text": [
      "Epoch [41/200], Loss: 0.0460\n"
     ]
    },
    {
     "name": "stderr",
     "output_type": "stream",
     "text": [
      "Epoch [42/200]: 100%|██████████| 90/90 [00:24<00:00,  3.68batch/s]\n"
     ]
    },
    {
     "name": "stdout",
     "output_type": "stream",
     "text": [
      "Epoch [42/200], Loss: 0.0421\n"
     ]
    },
    {
     "name": "stderr",
     "output_type": "stream",
     "text": [
      "Epoch [43/200]: 100%|██████████| 90/90 [00:24<00:00,  3.68batch/s]\n"
     ]
    },
    {
     "name": "stdout",
     "output_type": "stream",
     "text": [
      "Epoch [43/200], Loss: 0.0553\n"
     ]
    },
    {
     "name": "stderr",
     "output_type": "stream",
     "text": [
      "Epoch [44/200]: 100%|██████████| 90/90 [00:24<00:00,  3.68batch/s]\n"
     ]
    },
    {
     "name": "stdout",
     "output_type": "stream",
     "text": [
      "Epoch [44/200], Loss: 0.0282\n"
     ]
    },
    {
     "name": "stderr",
     "output_type": "stream",
     "text": [
      "Epoch [45/200]: 100%|██████████| 90/90 [00:24<00:00,  3.67batch/s]\n"
     ]
    },
    {
     "name": "stdout",
     "output_type": "stream",
     "text": [
      "Epoch [45/200], Loss: 0.0208\n"
     ]
    },
    {
     "name": "stderr",
     "output_type": "stream",
     "text": [
      "Epoch [46/200]: 100%|██████████| 90/90 [00:24<00:00,  3.68batch/s]\n"
     ]
    },
    {
     "name": "stdout",
     "output_type": "stream",
     "text": [
      "Epoch [46/200], Loss: 0.0111\n"
     ]
    },
    {
     "name": "stderr",
     "output_type": "stream",
     "text": [
      "Epoch [47/200]: 100%|██████████| 90/90 [00:24<00:00,  3.68batch/s]\n"
     ]
    },
    {
     "name": "stdout",
     "output_type": "stream",
     "text": [
      "Epoch [47/200], Loss: 0.0058\n"
     ]
    },
    {
     "name": "stderr",
     "output_type": "stream",
     "text": [
      "Epoch [48/200]: 100%|██████████| 90/90 [00:24<00:00,  3.68batch/s]\n"
     ]
    },
    {
     "name": "stdout",
     "output_type": "stream",
     "text": [
      "Epoch [48/200], Loss: 0.0144\n"
     ]
    },
    {
     "name": "stderr",
     "output_type": "stream",
     "text": [
      "Epoch [49/200]: 100%|██████████| 90/90 [00:24<00:00,  3.68batch/s]\n"
     ]
    },
    {
     "name": "stdout",
     "output_type": "stream",
     "text": [
      "Epoch [49/200], Loss: 0.0220\n"
     ]
    },
    {
     "name": "stderr",
     "output_type": "stream",
     "text": [
      "Epoch [50/200]: 100%|██████████| 90/90 [00:24<00:00,  3.69batch/s]\n"
     ]
    },
    {
     "name": "stdout",
     "output_type": "stream",
     "text": [
      "Epoch [50/200], Loss: 0.0470\n"
     ]
    },
    {
     "name": "stderr",
     "output_type": "stream",
     "text": [
      "Epoch [51/200]: 100%|██████████| 90/90 [00:24<00:00,  3.68batch/s]\n"
     ]
    },
    {
     "name": "stdout",
     "output_type": "stream",
     "text": [
      "Epoch [51/200], Loss: 0.0571\n"
     ]
    },
    {
     "name": "stderr",
     "output_type": "stream",
     "text": [
      "Epoch [52/200]: 100%|██████████| 90/90 [00:24<00:00,  3.68batch/s]\n"
     ]
    },
    {
     "name": "stdout",
     "output_type": "stream",
     "text": [
      "Epoch [52/200], Loss: 0.0371\n"
     ]
    },
    {
     "name": "stderr",
     "output_type": "stream",
     "text": [
      "Epoch [53/200]: 100%|██████████| 90/90 [00:24<00:00,  3.68batch/s]\n"
     ]
    },
    {
     "name": "stdout",
     "output_type": "stream",
     "text": [
      "Epoch [53/200], Loss: 0.0161\n"
     ]
    },
    {
     "name": "stderr",
     "output_type": "stream",
     "text": [
      "Epoch [54/200]: 100%|██████████| 90/90 [00:24<00:00,  3.68batch/s]\n"
     ]
    },
    {
     "name": "stdout",
     "output_type": "stream",
     "text": [
      "Epoch [54/200], Loss: 0.0080\n"
     ]
    },
    {
     "name": "stderr",
     "output_type": "stream",
     "text": [
      "Epoch [55/200]: 100%|██████████| 90/90 [00:24<00:00,  3.68batch/s]\n"
     ]
    },
    {
     "name": "stdout",
     "output_type": "stream",
     "text": [
      "Epoch [55/200], Loss: 0.0033\n"
     ]
    },
    {
     "name": "stderr",
     "output_type": "stream",
     "text": [
      "Epoch [56/200]: 100%|██████████| 90/90 [00:24<00:00,  3.68batch/s]\n"
     ]
    },
    {
     "name": "stdout",
     "output_type": "stream",
     "text": [
      "Epoch [56/200], Loss: 0.0042\n"
     ]
    },
    {
     "name": "stderr",
     "output_type": "stream",
     "text": [
      "Epoch [57/200]: 100%|██████████| 90/90 [00:24<00:00,  3.67batch/s]\n"
     ]
    },
    {
     "name": "stdout",
     "output_type": "stream",
     "text": [
      "Epoch [57/200], Loss: 0.0024\n"
     ]
    },
    {
     "name": "stderr",
     "output_type": "stream",
     "text": [
      "Epoch [58/200]: 100%|██████████| 90/90 [00:24<00:00,  3.68batch/s]\n"
     ]
    },
    {
     "name": "stdout",
     "output_type": "stream",
     "text": [
      "Epoch [58/200], Loss: 0.0055\n"
     ]
    },
    {
     "name": "stderr",
     "output_type": "stream",
     "text": [
      "Epoch [59/200]: 100%|██████████| 90/90 [00:24<00:00,  3.67batch/s]\n"
     ]
    },
    {
     "name": "stdout",
     "output_type": "stream",
     "text": [
      "Epoch [59/200], Loss: 0.0022\n"
     ]
    },
    {
     "name": "stderr",
     "output_type": "stream",
     "text": [
      "Epoch [60/200]: 100%|██████████| 90/90 [00:24<00:00,  3.67batch/s]\n"
     ]
    },
    {
     "name": "stdout",
     "output_type": "stream",
     "text": [
      "Epoch [60/200], Loss: 0.0040\n"
     ]
    },
    {
     "name": "stderr",
     "output_type": "stream",
     "text": [
      "Epoch [61/200]: 100%|██████████| 90/90 [00:24<00:00,  3.68batch/s]\n"
     ]
    },
    {
     "name": "stdout",
     "output_type": "stream",
     "text": [
      "Epoch [61/200], Loss: 0.0081\n"
     ]
    },
    {
     "name": "stderr",
     "output_type": "stream",
     "text": [
      "Epoch [62/200]: 100%|██████████| 90/90 [00:24<00:00,  3.68batch/s]\n"
     ]
    },
    {
     "name": "stdout",
     "output_type": "stream",
     "text": [
      "Epoch [62/200], Loss: 0.0141\n"
     ]
    },
    {
     "name": "stderr",
     "output_type": "stream",
     "text": [
      "Epoch [63/200]: 100%|██████████| 90/90 [00:24<00:00,  3.69batch/s]\n"
     ]
    },
    {
     "name": "stdout",
     "output_type": "stream",
     "text": [
      "Epoch [63/200], Loss: 0.0270\n"
     ]
    },
    {
     "name": "stderr",
     "output_type": "stream",
     "text": [
      "Epoch [64/200]: 100%|██████████| 90/90 [00:24<00:00,  3.68batch/s]\n"
     ]
    },
    {
     "name": "stdout",
     "output_type": "stream",
     "text": [
      "Epoch [64/200], Loss: 0.0497\n"
     ]
    },
    {
     "name": "stderr",
     "output_type": "stream",
     "text": [
      "Epoch [65/200]: 100%|██████████| 90/90 [00:24<00:00,  3.68batch/s]\n"
     ]
    },
    {
     "name": "stdout",
     "output_type": "stream",
     "text": [
      "Epoch [65/200], Loss: 0.0391\n"
     ]
    },
    {
     "name": "stderr",
     "output_type": "stream",
     "text": [
      "Epoch [66/200]: 100%|██████████| 90/90 [00:24<00:00,  3.68batch/s]\n"
     ]
    },
    {
     "name": "stdout",
     "output_type": "stream",
     "text": [
      "Epoch [66/200], Loss: 0.0312\n"
     ]
    },
    {
     "name": "stderr",
     "output_type": "stream",
     "text": [
      "Epoch [67/200]: 100%|██████████| 90/90 [00:24<00:00,  3.68batch/s]\n"
     ]
    },
    {
     "name": "stdout",
     "output_type": "stream",
     "text": [
      "Epoch [67/200], Loss: 0.0288\n"
     ]
    },
    {
     "name": "stderr",
     "output_type": "stream",
     "text": [
      "Epoch [68/200]: 100%|██████████| 90/90 [00:24<00:00,  3.68batch/s]\n"
     ]
    },
    {
     "name": "stdout",
     "output_type": "stream",
     "text": [
      "Epoch [68/200], Loss: 0.0111\n"
     ]
    },
    {
     "name": "stderr",
     "output_type": "stream",
     "text": [
      "Epoch [69/200]: 100%|██████████| 90/90 [00:24<00:00,  3.67batch/s]\n"
     ]
    },
    {
     "name": "stdout",
     "output_type": "stream",
     "text": [
      "Epoch [69/200], Loss: 0.0043\n"
     ]
    },
    {
     "name": "stderr",
     "output_type": "stream",
     "text": [
      "Epoch [70/200]: 100%|██████████| 90/90 [00:24<00:00,  3.68batch/s]\n"
     ]
    },
    {
     "name": "stdout",
     "output_type": "stream",
     "text": [
      "Epoch [70/200], Loss: 0.0049\n"
     ]
    },
    {
     "name": "stderr",
     "output_type": "stream",
     "text": [
      "Epoch [71/200]: 100%|██████████| 90/90 [00:24<00:00,  3.68batch/s]\n"
     ]
    },
    {
     "name": "stdout",
     "output_type": "stream",
     "text": [
      "Epoch [71/200], Loss: 0.0098\n"
     ]
    },
    {
     "name": "stderr",
     "output_type": "stream",
     "text": [
      "Epoch [72/200]: 100%|██████████| 90/90 [00:24<00:00,  3.68batch/s]\n"
     ]
    },
    {
     "name": "stdout",
     "output_type": "stream",
     "text": [
      "Epoch [72/200], Loss: 0.0121\n"
     ]
    },
    {
     "name": "stderr",
     "output_type": "stream",
     "text": [
      "Epoch [73/200]: 100%|██████████| 90/90 [00:24<00:00,  3.68batch/s]\n"
     ]
    },
    {
     "name": "stdout",
     "output_type": "stream",
     "text": [
      "Epoch [73/200], Loss: 0.0025\n"
     ]
    },
    {
     "name": "stderr",
     "output_type": "stream",
     "text": [
      "Epoch [74/200]: 100%|██████████| 90/90 [00:24<00:00,  3.68batch/s]\n"
     ]
    },
    {
     "name": "stdout",
     "output_type": "stream",
     "text": [
      "Epoch [74/200], Loss: 0.0023\n"
     ]
    },
    {
     "name": "stderr",
     "output_type": "stream",
     "text": [
      "Epoch [75/200]: 100%|██████████| 90/90 [00:24<00:00,  3.67batch/s]\n"
     ]
    },
    {
     "name": "stdout",
     "output_type": "stream",
     "text": [
      "Epoch [75/200], Loss: 0.0010\n"
     ]
    },
    {
     "name": "stderr",
     "output_type": "stream",
     "text": [
      "Epoch [76/200]: 100%|██████████| 90/90 [00:24<00:00,  3.68batch/s]\n"
     ]
    },
    {
     "name": "stdout",
     "output_type": "stream",
     "text": [
      "Epoch [76/200], Loss: 0.0009\n"
     ]
    },
    {
     "name": "stderr",
     "output_type": "stream",
     "text": [
      "Epoch [77/200]: 100%|██████████| 90/90 [00:24<00:00,  3.68batch/s]\n"
     ]
    },
    {
     "name": "stdout",
     "output_type": "stream",
     "text": [
      "Epoch [77/200], Loss: 0.0007\n"
     ]
    },
    {
     "name": "stderr",
     "output_type": "stream",
     "text": [
      "Epoch [78/200]: 100%|██████████| 90/90 [00:24<00:00,  3.67batch/s]\n"
     ]
    },
    {
     "name": "stdout",
     "output_type": "stream",
     "text": [
      "Epoch [78/200], Loss: 0.0005\n"
     ]
    },
    {
     "name": "stderr",
     "output_type": "stream",
     "text": [
      "Epoch [79/200]: 100%|██████████| 90/90 [00:24<00:00,  3.68batch/s]\n"
     ]
    },
    {
     "name": "stdout",
     "output_type": "stream",
     "text": [
      "Epoch [79/200], Loss: 0.0006\n"
     ]
    },
    {
     "name": "stderr",
     "output_type": "stream",
     "text": [
      "Epoch [80/200]: 100%|██████████| 90/90 [00:24<00:00,  3.67batch/s]\n"
     ]
    },
    {
     "name": "stdout",
     "output_type": "stream",
     "text": [
      "Epoch [80/200], Loss: 0.0002\n"
     ]
    },
    {
     "name": "stderr",
     "output_type": "stream",
     "text": [
      "Epoch [81/200]: 100%|██████████| 90/90 [00:24<00:00,  3.67batch/s]\n"
     ]
    },
    {
     "name": "stdout",
     "output_type": "stream",
     "text": [
      "Epoch [81/200], Loss: 0.0004\n"
     ]
    },
    {
     "name": "stderr",
     "output_type": "stream",
     "text": [
      "Epoch [82/200]: 100%|██████████| 90/90 [00:24<00:00,  3.68batch/s]\n"
     ]
    },
    {
     "name": "stdout",
     "output_type": "stream",
     "text": [
      "Epoch [82/200], Loss: 0.0004\n"
     ]
    },
    {
     "name": "stderr",
     "output_type": "stream",
     "text": [
      "Epoch [83/200]: 100%|██████████| 90/90 [00:24<00:00,  3.67batch/s]\n"
     ]
    },
    {
     "name": "stdout",
     "output_type": "stream",
     "text": [
      "Epoch [83/200], Loss: 0.0005\n"
     ]
    },
    {
     "name": "stderr",
     "output_type": "stream",
     "text": [
      "Epoch [84/200]: 100%|██████████| 90/90 [00:24<00:00,  3.67batch/s]\n"
     ]
    },
    {
     "name": "stdout",
     "output_type": "stream",
     "text": [
      "Epoch [84/200], Loss: 0.0006\n"
     ]
    },
    {
     "name": "stderr",
     "output_type": "stream",
     "text": [
      "Epoch [85/200]: 100%|██████████| 90/90 [00:24<00:00,  3.67batch/s]\n"
     ]
    },
    {
     "name": "stdout",
     "output_type": "stream",
     "text": [
      "Epoch [85/200], Loss: 0.0002\n"
     ]
    },
    {
     "name": "stderr",
     "output_type": "stream",
     "text": [
      "Epoch [86/200]: 100%|██████████| 90/90 [00:24<00:00,  3.67batch/s]\n"
     ]
    },
    {
     "name": "stdout",
     "output_type": "stream",
     "text": [
      "Epoch [86/200], Loss: 0.0003\n"
     ]
    },
    {
     "name": "stderr",
     "output_type": "stream",
     "text": [
      "Epoch [87/200]: 100%|██████████| 90/90 [00:24<00:00,  3.67batch/s]\n"
     ]
    },
    {
     "name": "stdout",
     "output_type": "stream",
     "text": [
      "Epoch [87/200], Loss: 0.0002\n"
     ]
    },
    {
     "name": "stderr",
     "output_type": "stream",
     "text": [
      "Epoch [88/200]: 100%|██████████| 90/90 [00:24<00:00,  3.68batch/s]\n"
     ]
    },
    {
     "name": "stdout",
     "output_type": "stream",
     "text": [
      "Epoch [88/200], Loss: 0.0002\n"
     ]
    },
    {
     "name": "stderr",
     "output_type": "stream",
     "text": [
      "Epoch [89/200]: 100%|██████████| 90/90 [00:24<00:00,  3.68batch/s]\n"
     ]
    },
    {
     "name": "stdout",
     "output_type": "stream",
     "text": [
      "Epoch [89/200], Loss: 0.0002\n"
     ]
    },
    {
     "name": "stderr",
     "output_type": "stream",
     "text": [
      "Epoch [90/200]: 100%|██████████| 90/90 [00:24<00:00,  3.68batch/s]\n"
     ]
    },
    {
     "name": "stdout",
     "output_type": "stream",
     "text": [
      "Epoch [90/200], Loss: 0.0002\n"
     ]
    },
    {
     "name": "stderr",
     "output_type": "stream",
     "text": [
      "Epoch [91/200]: 100%|██████████| 90/90 [00:24<00:00,  3.68batch/s]\n"
     ]
    },
    {
     "name": "stdout",
     "output_type": "stream",
     "text": [
      "Epoch [91/200], Loss: 0.0002\n"
     ]
    },
    {
     "name": "stderr",
     "output_type": "stream",
     "text": [
      "Epoch [92/200]: 100%|██████████| 90/90 [00:24<00:00,  3.68batch/s]\n"
     ]
    },
    {
     "name": "stdout",
     "output_type": "stream",
     "text": [
      "Epoch [92/200], Loss: 0.0001\n"
     ]
    },
    {
     "name": "stderr",
     "output_type": "stream",
     "text": [
      "Epoch [93/200]: 100%|██████████| 90/90 [00:24<00:00,  3.68batch/s]\n"
     ]
    },
    {
     "name": "stdout",
     "output_type": "stream",
     "text": [
      "Epoch [93/200], Loss: 0.0001\n"
     ]
    },
    {
     "name": "stderr",
     "output_type": "stream",
     "text": [
      "Epoch [94/200]: 100%|██████████| 90/90 [00:24<00:00,  3.67batch/s]\n"
     ]
    },
    {
     "name": "stdout",
     "output_type": "stream",
     "text": [
      "Epoch [94/200], Loss: 0.0001\n"
     ]
    },
    {
     "name": "stderr",
     "output_type": "stream",
     "text": [
      "Epoch [95/200]: 100%|██████████| 90/90 [00:24<00:00,  3.67batch/s]\n"
     ]
    },
    {
     "name": "stdout",
     "output_type": "stream",
     "text": [
      "Epoch [95/200], Loss: 0.0002\n"
     ]
    },
    {
     "name": "stderr",
     "output_type": "stream",
     "text": [
      "Epoch [96/200]: 100%|██████████| 90/90 [00:24<00:00,  3.67batch/s]\n"
     ]
    },
    {
     "name": "stdout",
     "output_type": "stream",
     "text": [
      "Epoch [96/200], Loss: 0.0002\n"
     ]
    },
    {
     "name": "stderr",
     "output_type": "stream",
     "text": [
      "Epoch [97/200]: 100%|██████████| 90/90 [00:24<00:00,  3.67batch/s]\n"
     ]
    },
    {
     "name": "stdout",
     "output_type": "stream",
     "text": [
      "Epoch [97/200], Loss: 0.0002\n"
     ]
    },
    {
     "name": "stderr",
     "output_type": "stream",
     "text": [
      "Epoch [98/200]: 100%|██████████| 90/90 [00:24<00:00,  3.67batch/s]\n"
     ]
    },
    {
     "name": "stdout",
     "output_type": "stream",
     "text": [
      "Epoch [98/200], Loss: 0.0270\n"
     ]
    },
    {
     "name": "stderr",
     "output_type": "stream",
     "text": [
      "Epoch [99/200]: 100%|██████████| 90/90 [00:24<00:00,  3.68batch/s]\n"
     ]
    },
    {
     "name": "stdout",
     "output_type": "stream",
     "text": [
      "Epoch [99/200], Loss: 0.3994\n"
     ]
    },
    {
     "name": "stderr",
     "output_type": "stream",
     "text": [
      "Epoch [100/200]: 100%|██████████| 90/90 [00:24<00:00,  3.68batch/s]\n"
     ]
    },
    {
     "name": "stdout",
     "output_type": "stream",
     "text": [
      "Epoch [100/200], Loss: 0.1049\n"
     ]
    },
    {
     "name": "stderr",
     "output_type": "stream",
     "text": [
      "Epoch [101/200]: 100%|██████████| 90/90 [00:24<00:00,  3.69batch/s]\n"
     ]
    },
    {
     "name": "stdout",
     "output_type": "stream",
     "text": [
      "Epoch [101/200], Loss: 0.0362\n"
     ]
    },
    {
     "name": "stderr",
     "output_type": "stream",
     "text": [
      "Epoch [102/200]: 100%|██████████| 90/90 [00:24<00:00,  3.68batch/s]\n"
     ]
    },
    {
     "name": "stdout",
     "output_type": "stream",
     "text": [
      "Epoch [102/200], Loss: 0.0296\n"
     ]
    },
    {
     "name": "stderr",
     "output_type": "stream",
     "text": [
      "Epoch [103/200]: 100%|██████████| 90/90 [00:24<00:00,  3.68batch/s]\n"
     ]
    },
    {
     "name": "stdout",
     "output_type": "stream",
     "text": [
      "Epoch [103/200], Loss: 0.0100\n"
     ]
    },
    {
     "name": "stderr",
     "output_type": "stream",
     "text": [
      "Epoch [104/200]: 100%|██████████| 90/90 [00:24<00:00,  3.68batch/s]\n"
     ]
    },
    {
     "name": "stdout",
     "output_type": "stream",
     "text": [
      "Epoch [104/200], Loss: 0.0098\n"
     ]
    },
    {
     "name": "stderr",
     "output_type": "stream",
     "text": [
      "Epoch [105/200]: 100%|██████████| 90/90 [00:24<00:00,  3.68batch/s]\n"
     ]
    },
    {
     "name": "stdout",
     "output_type": "stream",
     "text": [
      "Epoch [105/200], Loss: 0.0052\n"
     ]
    },
    {
     "name": "stderr",
     "output_type": "stream",
     "text": [
      "Epoch [106/200]: 100%|██████████| 90/90 [00:24<00:00,  3.68batch/s]\n"
     ]
    },
    {
     "name": "stdout",
     "output_type": "stream",
     "text": [
      "Epoch [106/200], Loss: 0.0021\n"
     ]
    },
    {
     "name": "stderr",
     "output_type": "stream",
     "text": [
      "Epoch [107/200]: 100%|██████████| 90/90 [00:24<00:00,  3.67batch/s]\n"
     ]
    },
    {
     "name": "stdout",
     "output_type": "stream",
     "text": [
      "Epoch [107/200], Loss: 0.0018\n"
     ]
    },
    {
     "name": "stderr",
     "output_type": "stream",
     "text": [
      "Epoch [108/200]: 100%|██████████| 90/90 [00:24<00:00,  3.67batch/s]\n"
     ]
    },
    {
     "name": "stdout",
     "output_type": "stream",
     "text": [
      "Epoch [108/200], Loss: 0.0024\n"
     ]
    },
    {
     "name": "stderr",
     "output_type": "stream",
     "text": [
      "Epoch [109/200]: 100%|██████████| 90/90 [00:24<00:00,  3.68batch/s]\n"
     ]
    },
    {
     "name": "stdout",
     "output_type": "stream",
     "text": [
      "Epoch [109/200], Loss: 0.0033\n"
     ]
    },
    {
     "name": "stderr",
     "output_type": "stream",
     "text": [
      "Epoch [110/200]: 100%|██████████| 90/90 [00:24<00:00,  3.67batch/s]\n"
     ]
    },
    {
     "name": "stdout",
     "output_type": "stream",
     "text": [
      "Epoch [110/200], Loss: 0.0026\n"
     ]
    },
    {
     "name": "stderr",
     "output_type": "stream",
     "text": [
      "Epoch [111/200]: 100%|██████████| 90/90 [00:24<00:00,  3.68batch/s]\n"
     ]
    },
    {
     "name": "stdout",
     "output_type": "stream",
     "text": [
      "Epoch [111/200], Loss: 0.0016\n"
     ]
    },
    {
     "name": "stderr",
     "output_type": "stream",
     "text": [
      "Epoch [112/200]: 100%|██████████| 90/90 [00:24<00:00,  3.68batch/s]\n"
     ]
    },
    {
     "name": "stdout",
     "output_type": "stream",
     "text": [
      "Epoch [112/200], Loss: 0.0013\n"
     ]
    },
    {
     "name": "stderr",
     "output_type": "stream",
     "text": [
      "Epoch [113/200]: 100%|██████████| 90/90 [00:24<00:00,  3.69batch/s]\n"
     ]
    },
    {
     "name": "stdout",
     "output_type": "stream",
     "text": [
      "Epoch [113/200], Loss: 0.0040\n"
     ]
    },
    {
     "name": "stderr",
     "output_type": "stream",
     "text": [
      "Epoch [114/200]: 100%|██████████| 90/90 [00:24<00:00,  3.68batch/s]\n"
     ]
    },
    {
     "name": "stdout",
     "output_type": "stream",
     "text": [
      "Epoch [114/200], Loss: 0.0030\n"
     ]
    },
    {
     "name": "stderr",
     "output_type": "stream",
     "text": [
      "Epoch [115/200]: 100%|██████████| 90/90 [00:24<00:00,  3.68batch/s]\n"
     ]
    },
    {
     "name": "stdout",
     "output_type": "stream",
     "text": [
      "Epoch [115/200], Loss: 0.0043\n"
     ]
    },
    {
     "name": "stderr",
     "output_type": "stream",
     "text": [
      "Epoch [116/200]: 100%|██████████| 90/90 [00:24<00:00,  3.68batch/s]\n"
     ]
    },
    {
     "name": "stdout",
     "output_type": "stream",
     "text": [
      "Epoch [116/200], Loss: 0.0121\n"
     ]
    },
    {
     "name": "stderr",
     "output_type": "stream",
     "text": [
      "Epoch [117/200]: 100%|██████████| 90/90 [00:24<00:00,  3.68batch/s]\n"
     ]
    },
    {
     "name": "stdout",
     "output_type": "stream",
     "text": [
      "Epoch [117/200], Loss: 0.0137\n"
     ]
    },
    {
     "name": "stderr",
     "output_type": "stream",
     "text": [
      "Epoch [118/200]: 100%|██████████| 90/90 [00:24<00:00,  3.68batch/s]\n"
     ]
    },
    {
     "name": "stdout",
     "output_type": "stream",
     "text": [
      "Epoch [118/200], Loss: 0.0049\n"
     ]
    },
    {
     "name": "stderr",
     "output_type": "stream",
     "text": [
      "Epoch [119/200]: 100%|██████████| 90/90 [00:24<00:00,  3.68batch/s]\n"
     ]
    },
    {
     "name": "stdout",
     "output_type": "stream",
     "text": [
      "Epoch [119/200], Loss: 0.0045\n"
     ]
    },
    {
     "name": "stderr",
     "output_type": "stream",
     "text": [
      "Epoch [120/200]: 100%|██████████| 90/90 [00:24<00:00,  3.67batch/s]\n"
     ]
    },
    {
     "name": "stdout",
     "output_type": "stream",
     "text": [
      "Epoch [120/200], Loss: 0.0093\n"
     ]
    },
    {
     "name": "stderr",
     "output_type": "stream",
     "text": [
      "Epoch [121/200]: 100%|██████████| 90/90 [00:24<00:00,  3.67batch/s]\n"
     ]
    },
    {
     "name": "stdout",
     "output_type": "stream",
     "text": [
      "Epoch [121/200], Loss: 0.0028\n"
     ]
    },
    {
     "name": "stderr",
     "output_type": "stream",
     "text": [
      "Epoch [122/200]: 100%|██████████| 90/90 [00:24<00:00,  3.68batch/s]\n"
     ]
    },
    {
     "name": "stdout",
     "output_type": "stream",
     "text": [
      "Epoch [122/200], Loss: 0.0116\n"
     ]
    },
    {
     "name": "stderr",
     "output_type": "stream",
     "text": [
      "Epoch [123/200]: 100%|██████████| 90/90 [00:24<00:00,  3.68batch/s]\n"
     ]
    },
    {
     "name": "stdout",
     "output_type": "stream",
     "text": [
      "Epoch [123/200], Loss: 0.0250\n"
     ]
    },
    {
     "name": "stderr",
     "output_type": "stream",
     "text": [
      "Epoch [124/200]: 100%|██████████| 90/90 [00:24<00:00,  3.69batch/s]\n"
     ]
    },
    {
     "name": "stdout",
     "output_type": "stream",
     "text": [
      "Epoch [124/200], Loss: 0.0234\n"
     ]
    },
    {
     "name": "stderr",
     "output_type": "stream",
     "text": [
      "Epoch [125/200]: 100%|██████████| 90/90 [00:24<00:00,  3.68batch/s]\n"
     ]
    },
    {
     "name": "stdout",
     "output_type": "stream",
     "text": [
      "Epoch [125/200], Loss: 0.0282\n"
     ]
    },
    {
     "name": "stderr",
     "output_type": "stream",
     "text": [
      "Epoch [126/200]: 100%|██████████| 90/90 [00:24<00:00,  3.69batch/s]\n"
     ]
    },
    {
     "name": "stdout",
     "output_type": "stream",
     "text": [
      "Epoch [126/200], Loss: 0.0075\n"
     ]
    },
    {
     "name": "stderr",
     "output_type": "stream",
     "text": [
      "Epoch [127/200]: 100%|██████████| 90/90 [00:24<00:00,  3.68batch/s]\n"
     ]
    },
    {
     "name": "stdout",
     "output_type": "stream",
     "text": [
      "Epoch [127/200], Loss: 0.0023\n"
     ]
    },
    {
     "name": "stderr",
     "output_type": "stream",
     "text": [
      "Epoch [128/200]: 100%|██████████| 90/90 [00:24<00:00,  3.68batch/s]\n"
     ]
    },
    {
     "name": "stdout",
     "output_type": "stream",
     "text": [
      "Epoch [128/200], Loss: 0.0031\n"
     ]
    },
    {
     "name": "stderr",
     "output_type": "stream",
     "text": [
      "Epoch [129/200]: 100%|██████████| 90/90 [00:24<00:00,  3.67batch/s]\n"
     ]
    },
    {
     "name": "stdout",
     "output_type": "stream",
     "text": [
      "Epoch [129/200], Loss: 0.0015\n"
     ]
    },
    {
     "name": "stderr",
     "output_type": "stream",
     "text": [
      "Epoch [130/200]: 100%|██████████| 90/90 [00:24<00:00,  3.68batch/s]\n"
     ]
    },
    {
     "name": "stdout",
     "output_type": "stream",
     "text": [
      "Epoch [130/200], Loss: 0.0081\n"
     ]
    },
    {
     "name": "stderr",
     "output_type": "stream",
     "text": [
      "Epoch [131/200]: 100%|██████████| 90/90 [00:24<00:00,  3.68batch/s]\n"
     ]
    },
    {
     "name": "stdout",
     "output_type": "stream",
     "text": [
      "Epoch [131/200], Loss: 0.0094\n"
     ]
    },
    {
     "name": "stderr",
     "output_type": "stream",
     "text": [
      "Epoch [132/200]: 100%|██████████| 90/90 [00:24<00:00,  3.68batch/s]\n"
     ]
    },
    {
     "name": "stdout",
     "output_type": "stream",
     "text": [
      "Epoch [132/200], Loss: 0.0044\n"
     ]
    },
    {
     "name": "stderr",
     "output_type": "stream",
     "text": [
      "Epoch [133/200]: 100%|██████████| 90/90 [00:24<00:00,  3.69batch/s]\n"
     ]
    },
    {
     "name": "stdout",
     "output_type": "stream",
     "text": [
      "Epoch [133/200], Loss: 0.0071\n"
     ]
    },
    {
     "name": "stderr",
     "output_type": "stream",
     "text": [
      "Epoch [134/200]: 100%|██████████| 90/90 [00:24<00:00,  3.68batch/s]\n"
     ]
    },
    {
     "name": "stdout",
     "output_type": "stream",
     "text": [
      "Epoch [134/200], Loss: 0.0063\n"
     ]
    },
    {
     "name": "stderr",
     "output_type": "stream",
     "text": [
      "Epoch [135/200]: 100%|██████████| 90/90 [00:24<00:00,  3.69batch/s]\n"
     ]
    },
    {
     "name": "stdout",
     "output_type": "stream",
     "text": [
      "Epoch [135/200], Loss: 0.0118\n"
     ]
    },
    {
     "name": "stderr",
     "output_type": "stream",
     "text": [
      "Epoch [136/200]: 100%|██████████| 90/90 [00:24<00:00,  3.68batch/s]\n"
     ]
    },
    {
     "name": "stdout",
     "output_type": "stream",
     "text": [
      "Epoch [136/200], Loss: 0.0023\n"
     ]
    },
    {
     "name": "stderr",
     "output_type": "stream",
     "text": [
      "Epoch [137/200]: 100%|██████████| 90/90 [00:24<00:00,  3.69batch/s]\n"
     ]
    },
    {
     "name": "stdout",
     "output_type": "stream",
     "text": [
      "Epoch [137/200], Loss: 0.0011\n"
     ]
    },
    {
     "name": "stderr",
     "output_type": "stream",
     "text": [
      "Epoch [138/200]: 100%|██████████| 90/90 [00:24<00:00,  3.67batch/s]\n"
     ]
    },
    {
     "name": "stdout",
     "output_type": "stream",
     "text": [
      "Epoch [138/200], Loss: 0.0007\n"
     ]
    },
    {
     "name": "stderr",
     "output_type": "stream",
     "text": [
      "Epoch [139/200]: 100%|██████████| 90/90 [00:24<00:00,  3.68batch/s]\n"
     ]
    },
    {
     "name": "stdout",
     "output_type": "stream",
     "text": [
      "Epoch [139/200], Loss: 0.0005\n"
     ]
    },
    {
     "name": "stderr",
     "output_type": "stream",
     "text": [
      "Epoch [140/200]: 100%|██████████| 90/90 [00:24<00:00,  3.68batch/s]\n"
     ]
    },
    {
     "name": "stdout",
     "output_type": "stream",
     "text": [
      "Epoch [140/200], Loss: 0.0006\n"
     ]
    },
    {
     "name": "stderr",
     "output_type": "stream",
     "text": [
      "Epoch [141/200]: 100%|██████████| 90/90 [00:24<00:00,  3.68batch/s]\n"
     ]
    },
    {
     "name": "stdout",
     "output_type": "stream",
     "text": [
      "Epoch [141/200], Loss: 0.0004\n"
     ]
    },
    {
     "name": "stderr",
     "output_type": "stream",
     "text": [
      "Epoch [142/200]: 100%|██████████| 90/90 [00:24<00:00,  3.68batch/s]\n"
     ]
    },
    {
     "name": "stdout",
     "output_type": "stream",
     "text": [
      "Epoch [142/200], Loss: 0.0005\n"
     ]
    },
    {
     "name": "stderr",
     "output_type": "stream",
     "text": [
      "Epoch [143/200]: 100%|██████████| 90/90 [00:24<00:00,  3.68batch/s]\n"
     ]
    },
    {
     "name": "stdout",
     "output_type": "stream",
     "text": [
      "Epoch [143/200], Loss: 0.0003\n"
     ]
    },
    {
     "name": "stderr",
     "output_type": "stream",
     "text": [
      "Epoch [144/200]: 100%|██████████| 90/90 [00:24<00:00,  3.68batch/s]\n"
     ]
    },
    {
     "name": "stdout",
     "output_type": "stream",
     "text": [
      "Epoch [144/200], Loss: 0.0003\n"
     ]
    },
    {
     "name": "stderr",
     "output_type": "stream",
     "text": [
      "Epoch [145/200]: 100%|██████████| 90/90 [00:24<00:00,  3.68batch/s]\n"
     ]
    },
    {
     "name": "stdout",
     "output_type": "stream",
     "text": [
      "Epoch [145/200], Loss: 0.0003\n"
     ]
    },
    {
     "name": "stderr",
     "output_type": "stream",
     "text": [
      "Epoch [146/200]: 100%|██████████| 90/90 [00:24<00:00,  3.68batch/s]\n"
     ]
    },
    {
     "name": "stdout",
     "output_type": "stream",
     "text": [
      "Epoch [146/200], Loss: 0.0003\n"
     ]
    },
    {
     "name": "stderr",
     "output_type": "stream",
     "text": [
      "Epoch [147/200]: 100%|██████████| 90/90 [00:24<00:00,  3.68batch/s]\n"
     ]
    },
    {
     "name": "stdout",
     "output_type": "stream",
     "text": [
      "Epoch [147/200], Loss: 0.0003\n"
     ]
    },
    {
     "name": "stderr",
     "output_type": "stream",
     "text": [
      "Epoch [148/200]: 100%|██████████| 90/90 [00:24<00:00,  3.68batch/s]\n"
     ]
    },
    {
     "name": "stdout",
     "output_type": "stream",
     "text": [
      "Epoch [148/200], Loss: 0.0211\n"
     ]
    },
    {
     "name": "stderr",
     "output_type": "stream",
     "text": [
      "Epoch [149/200]: 100%|██████████| 90/90 [00:24<00:00,  3.68batch/s]\n"
     ]
    },
    {
     "name": "stdout",
     "output_type": "stream",
     "text": [
      "Epoch [149/200], Loss: 0.1799\n"
     ]
    },
    {
     "name": "stderr",
     "output_type": "stream",
     "text": [
      "Epoch [150/200]: 100%|██████████| 90/90 [00:24<00:00,  3.69batch/s]\n"
     ]
    },
    {
     "name": "stdout",
     "output_type": "stream",
     "text": [
      "Epoch [150/200], Loss: 0.0437\n"
     ]
    },
    {
     "name": "stderr",
     "output_type": "stream",
     "text": [
      "Epoch [151/200]: 100%|██████████| 90/90 [00:24<00:00,  3.68batch/s]\n"
     ]
    },
    {
     "name": "stdout",
     "output_type": "stream",
     "text": [
      "Epoch [151/200], Loss: 0.0209\n"
     ]
    },
    {
     "name": "stderr",
     "output_type": "stream",
     "text": [
      "Epoch [152/200]: 100%|██████████| 90/90 [00:24<00:00,  3.68batch/s]\n"
     ]
    },
    {
     "name": "stdout",
     "output_type": "stream",
     "text": [
      "Epoch [152/200], Loss: 0.0100\n"
     ]
    },
    {
     "name": "stderr",
     "output_type": "stream",
     "text": [
      "Epoch [153/200]: 100%|██████████| 90/90 [00:24<00:00,  3.68batch/s]\n"
     ]
    },
    {
     "name": "stdout",
     "output_type": "stream",
     "text": [
      "Epoch [153/200], Loss: 0.0025\n"
     ]
    },
    {
     "name": "stderr",
     "output_type": "stream",
     "text": [
      "Epoch [154/200]: 100%|██████████| 90/90 [00:24<00:00,  3.67batch/s]\n"
     ]
    },
    {
     "name": "stdout",
     "output_type": "stream",
     "text": [
      "Epoch [154/200], Loss: 0.0017\n"
     ]
    },
    {
     "name": "stderr",
     "output_type": "stream",
     "text": [
      "Epoch [155/200]: 100%|██████████| 90/90 [00:24<00:00,  3.68batch/s]\n"
     ]
    },
    {
     "name": "stdout",
     "output_type": "stream",
     "text": [
      "Epoch [155/200], Loss: 0.0020\n"
     ]
    },
    {
     "name": "stderr",
     "output_type": "stream",
     "text": [
      "Epoch [156/200]: 100%|██████████| 90/90 [00:24<00:00,  3.68batch/s]\n"
     ]
    },
    {
     "name": "stdout",
     "output_type": "stream",
     "text": [
      "Epoch [156/200], Loss: 0.0012\n"
     ]
    },
    {
     "name": "stderr",
     "output_type": "stream",
     "text": [
      "Epoch [157/200]: 100%|██████████| 90/90 [00:24<00:00,  3.68batch/s]\n"
     ]
    },
    {
     "name": "stdout",
     "output_type": "stream",
     "text": [
      "Epoch [157/200], Loss: 0.0013\n"
     ]
    },
    {
     "name": "stderr",
     "output_type": "stream",
     "text": [
      "Epoch [158/200]: 100%|██████████| 90/90 [00:24<00:00,  3.68batch/s]\n"
     ]
    },
    {
     "name": "stdout",
     "output_type": "stream",
     "text": [
      "Epoch [158/200], Loss: 0.0014\n"
     ]
    },
    {
     "name": "stderr",
     "output_type": "stream",
     "text": [
      "Epoch [159/200]: 100%|██████████| 90/90 [00:24<00:00,  3.68batch/s]\n"
     ]
    },
    {
     "name": "stdout",
     "output_type": "stream",
     "text": [
      "Epoch [159/200], Loss: 0.0064\n"
     ]
    },
    {
     "name": "stderr",
     "output_type": "stream",
     "text": [
      "Epoch [160/200]: 100%|██████████| 90/90 [00:24<00:00,  3.68batch/s]\n"
     ]
    },
    {
     "name": "stdout",
     "output_type": "stream",
     "text": [
      "Epoch [160/200], Loss: 0.0018\n"
     ]
    },
    {
     "name": "stderr",
     "output_type": "stream",
     "text": [
      "Epoch [161/200]: 100%|██████████| 90/90 [00:24<00:00,  3.68batch/s]\n"
     ]
    },
    {
     "name": "stdout",
     "output_type": "stream",
     "text": [
      "Epoch [161/200], Loss: 0.0017\n"
     ]
    },
    {
     "name": "stderr",
     "output_type": "stream",
     "text": [
      "Epoch [162/200]: 100%|██████████| 90/90 [00:24<00:00,  3.68batch/s]\n"
     ]
    },
    {
     "name": "stdout",
     "output_type": "stream",
     "text": [
      "Epoch [162/200], Loss: 0.0091\n"
     ]
    },
    {
     "name": "stderr",
     "output_type": "stream",
     "text": [
      "Epoch [163/200]: 100%|██████████| 90/90 [00:24<00:00,  3.68batch/s]\n"
     ]
    },
    {
     "name": "stdout",
     "output_type": "stream",
     "text": [
      "Epoch [163/200], Loss: 0.0087\n"
     ]
    },
    {
     "name": "stderr",
     "output_type": "stream",
     "text": [
      "Epoch [164/200]: 100%|██████████| 90/90 [00:24<00:00,  3.68batch/s]\n"
     ]
    },
    {
     "name": "stdout",
     "output_type": "stream",
     "text": [
      "Epoch [164/200], Loss: 0.0018\n"
     ]
    },
    {
     "name": "stderr",
     "output_type": "stream",
     "text": [
      "Epoch [165/200]: 100%|██████████| 90/90 [00:24<00:00,  3.68batch/s]\n"
     ]
    },
    {
     "name": "stdout",
     "output_type": "stream",
     "text": [
      "Epoch [165/200], Loss: 0.0006\n"
     ]
    },
    {
     "name": "stderr",
     "output_type": "stream",
     "text": [
      "Epoch [166/200]: 100%|██████████| 90/90 [00:24<00:00,  3.68batch/s]\n"
     ]
    },
    {
     "name": "stdout",
     "output_type": "stream",
     "text": [
      "Epoch [166/200], Loss: 0.0009\n"
     ]
    },
    {
     "name": "stderr",
     "output_type": "stream",
     "text": [
      "Epoch [167/200]: 100%|██████████| 90/90 [00:24<00:00,  3.68batch/s]\n"
     ]
    },
    {
     "name": "stdout",
     "output_type": "stream",
     "text": [
      "Epoch [167/200], Loss: 0.0024\n"
     ]
    },
    {
     "name": "stderr",
     "output_type": "stream",
     "text": [
      "Epoch [168/200]: 100%|██████████| 90/90 [00:24<00:00,  3.68batch/s]\n"
     ]
    },
    {
     "name": "stdout",
     "output_type": "stream",
     "text": [
      "Epoch [168/200], Loss: 0.0081\n"
     ]
    },
    {
     "name": "stderr",
     "output_type": "stream",
     "text": [
      "Epoch [169/200]: 100%|██████████| 90/90 [00:24<00:00,  3.69batch/s]\n"
     ]
    },
    {
     "name": "stdout",
     "output_type": "stream",
     "text": [
      "Epoch [169/200], Loss: 0.0068\n"
     ]
    },
    {
     "name": "stderr",
     "output_type": "stream",
     "text": [
      "Epoch [170/200]: 100%|██████████| 90/90 [00:24<00:00,  3.69batch/s]\n"
     ]
    },
    {
     "name": "stdout",
     "output_type": "stream",
     "text": [
      "Epoch [170/200], Loss: 0.0200\n"
     ]
    },
    {
     "name": "stderr",
     "output_type": "stream",
     "text": [
      "Epoch [171/200]: 100%|██████████| 90/90 [00:24<00:00,  3.69batch/s]\n"
     ]
    },
    {
     "name": "stdout",
     "output_type": "stream",
     "text": [
      "Epoch [171/200], Loss: 0.0063\n"
     ]
    },
    {
     "name": "stderr",
     "output_type": "stream",
     "text": [
      "Epoch [172/200]: 100%|██████████| 90/90 [00:24<00:00,  3.68batch/s]\n"
     ]
    },
    {
     "name": "stdout",
     "output_type": "stream",
     "text": [
      "Epoch [172/200], Loss: 0.0027\n"
     ]
    },
    {
     "name": "stderr",
     "output_type": "stream",
     "text": [
      "Epoch [173/200]: 100%|██████████| 90/90 [00:24<00:00,  3.68batch/s]\n"
     ]
    },
    {
     "name": "stdout",
     "output_type": "stream",
     "text": [
      "Epoch [173/200], Loss: 0.0027\n"
     ]
    },
    {
     "name": "stderr",
     "output_type": "stream",
     "text": [
      "Epoch [174/200]: 100%|██████████| 90/90 [00:24<00:00,  3.69batch/s]\n"
     ]
    },
    {
     "name": "stdout",
     "output_type": "stream",
     "text": [
      "Epoch [174/200], Loss: 0.0010\n"
     ]
    },
    {
     "name": "stderr",
     "output_type": "stream",
     "text": [
      "Epoch [175/200]: 100%|██████████| 90/90 [00:24<00:00,  3.68batch/s]\n"
     ]
    },
    {
     "name": "stdout",
     "output_type": "stream",
     "text": [
      "Epoch [175/200], Loss: 0.0034\n"
     ]
    },
    {
     "name": "stderr",
     "output_type": "stream",
     "text": [
      "Epoch [176/200]: 100%|██████████| 90/90 [00:24<00:00,  3.69batch/s]\n"
     ]
    },
    {
     "name": "stdout",
     "output_type": "stream",
     "text": [
      "Epoch [176/200], Loss: 0.0008\n"
     ]
    },
    {
     "name": "stderr",
     "output_type": "stream",
     "text": [
      "Epoch [177/200]: 100%|██████████| 90/90 [00:24<00:00,  3.68batch/s]\n"
     ]
    },
    {
     "name": "stdout",
     "output_type": "stream",
     "text": [
      "Epoch [177/200], Loss: 0.0010\n"
     ]
    },
    {
     "name": "stderr",
     "output_type": "stream",
     "text": [
      "Epoch [178/200]: 100%|██████████| 90/90 [00:24<00:00,  3.68batch/s]\n"
     ]
    },
    {
     "name": "stdout",
     "output_type": "stream",
     "text": [
      "Epoch [178/200], Loss: 0.0011\n"
     ]
    },
    {
     "name": "stderr",
     "output_type": "stream",
     "text": [
      "Epoch [179/200]: 100%|██████████| 90/90 [00:24<00:00,  3.68batch/s]\n"
     ]
    },
    {
     "name": "stdout",
     "output_type": "stream",
     "text": [
      "Epoch [179/200], Loss: 0.0011\n"
     ]
    },
    {
     "name": "stderr",
     "output_type": "stream",
     "text": [
      "Epoch [180/200]: 100%|██████████| 90/90 [00:24<00:00,  3.68batch/s]\n"
     ]
    },
    {
     "name": "stdout",
     "output_type": "stream",
     "text": [
      "Epoch [180/200], Loss: 0.0005\n"
     ]
    },
    {
     "name": "stderr",
     "output_type": "stream",
     "text": [
      "Epoch [181/200]: 100%|██████████| 90/90 [00:24<00:00,  3.68batch/s]\n"
     ]
    },
    {
     "name": "stdout",
     "output_type": "stream",
     "text": [
      "Epoch [181/200], Loss: 0.0006\n"
     ]
    },
    {
     "name": "stderr",
     "output_type": "stream",
     "text": [
      "Epoch [182/200]: 100%|██████████| 90/90 [00:24<00:00,  3.68batch/s]\n"
     ]
    },
    {
     "name": "stdout",
     "output_type": "stream",
     "text": [
      "Epoch [182/200], Loss: 0.0004\n"
     ]
    },
    {
     "name": "stderr",
     "output_type": "stream",
     "text": [
      "Epoch [183/200]: 100%|██████████| 90/90 [00:24<00:00,  3.69batch/s]\n"
     ]
    },
    {
     "name": "stdout",
     "output_type": "stream",
     "text": [
      "Epoch [183/200], Loss: 0.0016\n"
     ]
    },
    {
     "name": "stderr",
     "output_type": "stream",
     "text": [
      "Epoch [184/200]: 100%|██████████| 90/90 [00:24<00:00,  3.69batch/s]\n"
     ]
    },
    {
     "name": "stdout",
     "output_type": "stream",
     "text": [
      "Epoch [184/200], Loss: 0.0007\n"
     ]
    },
    {
     "name": "stderr",
     "output_type": "stream",
     "text": [
      "Epoch [185/200]: 100%|██████████| 90/90 [00:24<00:00,  3.68batch/s]\n"
     ]
    },
    {
     "name": "stdout",
     "output_type": "stream",
     "text": [
      "Epoch [185/200], Loss: 0.0007\n"
     ]
    },
    {
     "name": "stderr",
     "output_type": "stream",
     "text": [
      "Epoch [186/200]: 100%|██████████| 90/90 [00:24<00:00,  3.68batch/s]\n"
     ]
    },
    {
     "name": "stdout",
     "output_type": "stream",
     "text": [
      "Epoch [186/200], Loss: 0.0009\n"
     ]
    },
    {
     "name": "stderr",
     "output_type": "stream",
     "text": [
      "Epoch [187/200]: 100%|██████████| 90/90 [00:24<00:00,  3.68batch/s]\n"
     ]
    },
    {
     "name": "stdout",
     "output_type": "stream",
     "text": [
      "Epoch [187/200], Loss: 0.0006\n"
     ]
    },
    {
     "name": "stderr",
     "output_type": "stream",
     "text": [
      "Epoch [188/200]: 100%|██████████| 90/90 [00:24<00:00,  3.68batch/s]\n"
     ]
    },
    {
     "name": "stdout",
     "output_type": "stream",
     "text": [
      "Epoch [188/200], Loss: 0.0007\n"
     ]
    },
    {
     "name": "stderr",
     "output_type": "stream",
     "text": [
      "Epoch [189/200]: 100%|██████████| 90/90 [00:24<00:00,  3.68batch/s]\n"
     ]
    },
    {
     "name": "stdout",
     "output_type": "stream",
     "text": [
      "Epoch [189/200], Loss: 0.0003\n"
     ]
    },
    {
     "name": "stderr",
     "output_type": "stream",
     "text": [
      "Epoch [190/200]: 100%|██████████| 90/90 [00:24<00:00,  3.68batch/s]\n"
     ]
    },
    {
     "name": "stdout",
     "output_type": "stream",
     "text": [
      "Epoch [190/200], Loss: 0.0006\n"
     ]
    },
    {
     "name": "stderr",
     "output_type": "stream",
     "text": [
      "Epoch [191/200]: 100%|██████████| 90/90 [00:24<00:00,  3.68batch/s]\n"
     ]
    },
    {
     "name": "stdout",
     "output_type": "stream",
     "text": [
      "Epoch [191/200], Loss: 0.0002\n"
     ]
    },
    {
     "name": "stderr",
     "output_type": "stream",
     "text": [
      "Epoch [192/200]: 100%|██████████| 90/90 [00:24<00:00,  3.68batch/s]\n"
     ]
    },
    {
     "name": "stdout",
     "output_type": "stream",
     "text": [
      "Epoch [192/200], Loss: 0.0005\n"
     ]
    },
    {
     "name": "stderr",
     "output_type": "stream",
     "text": [
      "Epoch [193/200]: 100%|██████████| 90/90 [00:24<00:00,  3.68batch/s]\n"
     ]
    },
    {
     "name": "stdout",
     "output_type": "stream",
     "text": [
      "Epoch [193/200], Loss: 0.0009\n"
     ]
    },
    {
     "name": "stderr",
     "output_type": "stream",
     "text": [
      "Epoch [194/200]: 100%|██████████| 90/90 [00:24<00:00,  3.69batch/s]\n"
     ]
    },
    {
     "name": "stdout",
     "output_type": "stream",
     "text": [
      "Epoch [194/200], Loss: 0.0009\n"
     ]
    },
    {
     "name": "stderr",
     "output_type": "stream",
     "text": [
      "Epoch [195/200]: 100%|██████████| 90/90 [00:24<00:00,  3.69batch/s]\n"
     ]
    },
    {
     "name": "stdout",
     "output_type": "stream",
     "text": [
      "Epoch [195/200], Loss: 0.0004\n"
     ]
    },
    {
     "name": "stderr",
     "output_type": "stream",
     "text": [
      "Epoch [196/200]: 100%|██████████| 90/90 [00:24<00:00,  3.68batch/s]\n"
     ]
    },
    {
     "name": "stdout",
     "output_type": "stream",
     "text": [
      "Epoch [196/200], Loss: 0.0002\n"
     ]
    },
    {
     "name": "stderr",
     "output_type": "stream",
     "text": [
      "Epoch [197/200]: 100%|██████████| 90/90 [00:24<00:00,  3.69batch/s]\n"
     ]
    },
    {
     "name": "stdout",
     "output_type": "stream",
     "text": [
      "Epoch [197/200], Loss: 0.0002\n"
     ]
    },
    {
     "name": "stderr",
     "output_type": "stream",
     "text": [
      "Epoch [198/200]: 100%|██████████| 90/90 [00:24<00:00,  3.68batch/s]\n"
     ]
    },
    {
     "name": "stdout",
     "output_type": "stream",
     "text": [
      "Epoch [198/200], Loss: 0.0006\n"
     ]
    },
    {
     "name": "stderr",
     "output_type": "stream",
     "text": [
      "Epoch [199/200]: 100%|██████████| 90/90 [00:24<00:00,  3.68batch/s]\n"
     ]
    },
    {
     "name": "stdout",
     "output_type": "stream",
     "text": [
      "Epoch [199/200], Loss: 0.0005\n"
     ]
    },
    {
     "name": "stderr",
     "output_type": "stream",
     "text": [
      "Epoch [200/200]: 100%|██████████| 90/90 [00:24<00:00,  3.68batch/s]\n"
     ]
    },
    {
     "name": "stdout",
     "output_type": "stream",
     "text": [
      "Epoch [200/200], Loss: 0.0007\n",
      "Validation Loss: 1.8025\n"
     ]
    }
   ],
   "source": [
    "# Instantiate Model\n",
    "model = MCTestTacNet()\n",
    "model.to(device)\n",
    "\n",
    "\n",
    "# Training func\n",
    "def train_model(model, train_samples, train_labels,val_samples,val_labels,  num_epochs=10, batch_size=32, learning_rate=0.001):\n",
    "    train_dataset = TensorDataset(train_samples, train_labels)\n",
    "    train_loader = DataLoader(train_dataset, batch_size=batch_size, shuffle=True)\n",
    "    \n",
    "    val_dataset = TensorDataset(val_samples, val_labels)\n",
    "    val_loader = DataLoader(val_dataset, batch_size=batch_size, shuffle=True)    \n",
    "    \n",
    "    train_samples = train_samples.to(device)\n",
    "    train_labels = train_labels.to(device)\n",
    "    \n",
    "    # Define loss and optimizer\n",
    "    criterion = nn.CrossEntropyLoss()\n",
    "    optimizer = torch.optim.Adam(model.parameters(), lr=learning_rate)\n",
    "    scheduler = torch.optim.lr_scheduler.StepLR(optimizer, step_size=170, gamma=0.1)\n",
    "    \n",
    "    model.train()\n",
    "    for epoch in range(num_epochs):\n",
    "        running_loss = 0.0\n",
    "\n",
    "        for inputs, labels in tqdm(train_loader, desc=f\"Epoch [{epoch+1}/{num_epochs}]\", unit=\"batch\"):\n",
    "            inputs = inputs.to(device)\n",
    "            labels = labels.to(device)\n",
    "\n",
    "            optimizer.zero_grad()\n",
    "            outputs = model(inputs) #forward pass\n",
    "            loss = criterion(outputs, labels) #loss\n",
    "            loss.backward() #backward pass\n",
    "            optimizer.step() #update params\n",
    "            running_loss += loss.item() #calc running loss\n",
    "\n",
    "        average_loss = running_loss / len(train_loader)\n",
    "        print(f\"Epoch [{epoch+1}/{num_epochs}], Loss: {average_loss:.4f}\")\n",
    "        \n",
    "        scheduler.step()\n",
    "        \n",
    "    model.eval()\n",
    "    val_loss = 0.0\n",
    "    with torch.no_grad():\n",
    "        for inputs, labels in val_loader:\n",
    "            inputs = inputs.to(device)\n",
    "            labels = labels.to(device)\n",
    "            outputs = model(inputs)\n",
    "            loss = criterion(outputs, labels)\n",
    "            val_loss += loss.item()\n",
    "\n",
    "    val_loss /= len(val_loader)\n",
    "    print(f\"Validation Loss: {val_loss:.4f}\")\n",
    "\n",
    "    return model, val_loss\n",
    "    \n",
    "    print(\"Training complete!\")\n",
    "\n",
    "#run training\n",
    "trained_model, val_error = train_model(model, train_samples, train_labels, test_samples, test_labels, num_epochs=200, batch_size=32, learning_rate=0.001)\n",
    "\n",
    "# Save the model and validation error\n",
    "torch.save(trained_model.state_dict(), \"trained_model.pth\")\n",
    "with open(\"val_error.txt\", \"w\") as f:\n",
    "    f.write(str(val_error))"
   ]
  },
  {
   "cell_type": "code",
   "execution_count": 7,
   "id": "7fa7f89d-fa42-4883-9a8b-e3d4d0f0292b",
   "metadata": {
    "tags": []
   },
   "outputs": [],
   "source": [
    "# Save val_samples\n",
    "torch.save(test_samples, \"test_samples.pth\")\n",
    "\n",
    "# Save val_dataset\n",
    "torch.save(test_labels, \"test_labels.pth\")\n"
   ]
  },
  {
   "cell_type": "markdown",
   "id": "31069937",
   "metadata": {},
   "source": [
    "##  Monte Carlo Dropout for Uncertainty Estimation\n",
    "Implementation of MCD for uncertainty estimation"
   ]
  },
  {
   "cell_type": "code",
   "execution_count": 3,
   "id": "4e71f9f9-29bb-48e5-aab1-ffa19d74f758",
   "metadata": {},
   "outputs": [
    {
     "name": "stderr",
     "output_type": "stream",
     "text": [
      "/var/tmp/ipykernel_3443/2696586800.py:4: FutureWarning: You are using `torch.load` with `weights_only=False` (the current default value), which uses the default pickle module implicitly. It is possible to construct malicious pickle data which will execute arbitrary code during unpickling (See https://github.com/pytorch/pytorch/blob/main/SECURITY.md#untrusted-models for more details). In a future release, the default value for `weights_only` will be flipped to `True`. This limits the functions that could be executed during unpickling. Arbitrary objects will no longer be allowed to be loaded via this mode unless they are explicitly allowlisted by the user via `torch.serialization.add_safe_globals`. We recommend you start setting `weights_only=True` for any use case where you don't have full control of the loaded file. Please open an issue on GitHub for any issues related to this experimental feature.\n",
      "  test_samples = torch.load(\"test_samples.pth\")\n",
      "/var/tmp/ipykernel_3443/2696586800.py:5: FutureWarning: You are using `torch.load` with `weights_only=False` (the current default value), which uses the default pickle module implicitly. It is possible to construct malicious pickle data which will execute arbitrary code during unpickling (See https://github.com/pytorch/pytorch/blob/main/SECURITY.md#untrusted-models for more details). In a future release, the default value for `weights_only` will be flipped to `True`. This limits the functions that could be executed during unpickling. Arbitrary objects will no longer be allowed to be loaded via this mode unless they are explicitly allowlisted by the user via `torch.serialization.add_safe_globals`. We recommend you start setting `weights_only=True` for any use case where you don't have full control of the loaded file. Please open an issue on GitHub for any issues related to this experimental feature.\n",
      "  test_labels = torch.load(\"test_labels.pth\")\n",
      "/var/tmp/ipykernel_3443/2696586800.py:13: FutureWarning: You are using `torch.load` with `weights_only=False` (the current default value), which uses the default pickle module implicitly. It is possible to construct malicious pickle data which will execute arbitrary code during unpickling (See https://github.com/pytorch/pytorch/blob/main/SECURITY.md#untrusted-models for more details). In a future release, the default value for `weights_only` will be flipped to `True`. This limits the functions that could be executed during unpickling. Arbitrary objects will no longer be allowed to be loaded via this mode unless they are explicitly allowlisted by the user via `torch.serialization.add_safe_globals`. We recommend you start setting `weights_only=True` for any use case where you don't have full control of the loaded file. Please open an issue on GitHub for any issues related to this experimental feature.\n",
      "  model.load_state_dict(torch.load(\"trained_model.pth\"))\n"
     ]
    },
    {
     "name": "stdout",
     "output_type": "stream",
     "text": [
      "Mean Predictions: [[6.80473421e-01 1.14727262e-04 3.02570870e-01 ... 5.03682740e-10\n",
      "  2.52219922e-09 9.01246593e-11]\n",
      " [2.52232801e-03 8.62315810e-04 1.24997929e-04 ... 2.64668692e-07\n",
      "  8.85428029e-05 2.57978251e-09]\n",
      " [3.76271113e-03 1.14351563e-01 2.23684648e-09 ... 2.12235853e-07\n",
      "  2.87300001e-08 4.89568773e-04]\n",
      " ...\n",
      " [1.65184679e-12 1.73431799e-12 5.43425055e-12 ... 1.45116706e-11\n",
      "  2.16536264e-07 9.99999750e-01]\n",
      " [5.38997289e-13 9.44117923e-15 1.42794755e-17 ... 1.22438288e-16\n",
      "  1.43320191e-10 9.99999986e-01]\n",
      " [1.32480096e-07 3.29368357e-08 9.47932605e-08 ... 4.91884787e-10\n",
      "  5.53426523e-04 9.99155827e-01]]\n",
      "Variance Predictions: [[8.27029634e-02 1.49704272e-07 7.93277253e-02 ... 6.16011453e-19\n",
      "  8.71131465e-17 2.16528148e-20]\n",
      " [1.77459991e-05 9.03000874e-06 2.42583681e-07 ... 3.07353147e-13\n",
      "  2.02261698e-08 1.80343957e-17]\n",
      " [1.20879748e-04 2.41632469e-02 1.58394670e-17 ... 1.08702062e-13\n",
      "  2.54277441e-15 7.83390284e-07]\n",
      " ...\n",
      " [2.95278855e-23 1.28590717e-23 3.22036289e-22 ... 8.99838542e-22\n",
      "  5.00421357e-13 5.84492454e-13]\n",
      " [6.69055587e-24 2.35290390e-27 1.79423172e-33 ... 4.00935282e-32\n",
      "  9.77298908e-20 3.20596882e-15]\n",
      " [2.48375936e-13 7.08737135e-15 1.10274437e-13 ... 1.07020603e-18\n",
      "  2.13768391e-06 2.91175046e-06]]\n",
      "Entropy Predictions: [6.97627435e-01 8.29866518e-01 9.31473474e-01 1.07696044e+00\n",
      " 1.17642899e+00 1.11963002e+00 6.59645950e-01 2.34047773e-01\n",
      " 7.34663805e-01 5.39893504e-01 9.32900831e-01 1.05685245e+00\n",
      " 8.83089360e-01 9.86958193e-01 2.20501435e-01 1.36477640e+00\n",
      " 1.76715312e-01 4.81885523e-01 6.28759291e-01 1.07657471e+00\n",
      " 1.52291356e+00 1.06291599e+00 1.24005972e-01 9.82434660e-01\n",
      " 1.04688967e+00 5.75066099e-01 8.03163085e-01 1.92582065e+00\n",
      " 3.33995254e-01 1.03187334e+00 7.87493991e-02 2.85858425e-02\n",
      " 1.43363502e+00 8.27338603e-01 9.66381971e-01 1.50444136e+00\n",
      " 1.45778184e-01 7.81358069e-02 3.61117214e-01 6.05638330e-01\n",
      " 9.13408227e-01 1.56760946e+00 2.50823589e-01 1.76984234e+00\n",
      " 1.26637622e+00 2.83351113e-02 6.18228105e-01 1.60028274e+00\n",
      " 4.22364398e-02 9.92448996e-01 6.32924005e-01 1.14371366e+00\n",
      " 8.21001018e-01 1.25737740e+00 7.62266556e-01 9.20846997e-01\n",
      " 7.88682256e-01 1.20539653e-01 1.58135238e+00 1.03403364e+00\n",
      " 5.47525317e-01 6.66244966e-02 7.63562802e-01 1.19867686e+00\n",
      " 4.08334931e-01 1.49094241e+00 5.21125021e-01 1.55473309e-01\n",
      " 1.18236957e+00 1.04240667e-01 2.85675516e-02 9.33411210e-01\n",
      " 3.67718015e-01 3.13796048e-03 1.06148787e+00 8.58983624e-01\n",
      " 1.21032230e+00 7.86774179e-01 3.35433467e-05 6.47629282e-01\n",
      " 3.19796577e-01 2.97619127e-01 1.24129534e+00 2.75411452e-01\n",
      " 9.21663779e-01 8.00910254e-01 7.71068741e-01 7.71190407e-01\n",
      " 1.12452549e+00 8.20299416e-01 1.17658171e+00 4.99498061e-01\n",
      " 6.68548905e-01 1.43348722e+00 3.82353258e-01 9.16444070e-01\n",
      " 6.12388210e-01 1.75687793e+00 7.45141268e-01 4.37141774e-01\n",
      " 7.46834699e-01 1.54278265e+00 1.56774523e+00 9.89874251e-01\n",
      " 4.46668107e-01 5.19531856e-01 6.53373638e-01 3.21479511e-02\n",
      " 8.62086879e-01 5.26414481e-01 5.89560394e-01 1.42285274e+00\n",
      " 3.27207883e-01 9.15676538e-01 1.45761504e+00 2.23573128e-01\n",
      " 1.69853661e+00 1.04465981e+00 2.92421377e-01 6.60055239e-01\n",
      " 1.51315297e+00 1.10739321e+00 1.09753808e+00 1.27547200e+00\n",
      " 5.55338366e-01 1.17781623e+00 2.95893343e-01 1.12920296e+00\n",
      " 1.67165275e+00 5.38873108e-01 1.43233566e+00 1.06808183e+00\n",
      " 1.50057079e+00 1.89427257e+00 2.48399468e-01 1.30373472e-01\n",
      " 1.75565291e+00 2.02482057e+00 1.27935487e+00 1.07358444e-01\n",
      " 7.22516763e-01 5.96180128e-01 7.62057900e-01 6.67366519e-03\n",
      " 1.03790237e-01 7.73055418e-01 8.73142882e-01 9.60707296e-01\n",
      " 3.75512155e-01 1.61029754e+00 1.24344222e+00 1.43912079e-01\n",
      " 3.46309598e-01 1.11111284e-01 7.52908528e-01 1.08315296e+00\n",
      " 5.55591419e-01 1.18889680e+00 1.37331011e+00 1.93442715e+00\n",
      " 2.00016409e+00 5.67129670e-01 9.44217785e-01 1.48563781e+00\n",
      " 1.15074824e+00 1.13194113e+00 6.24968930e-01 6.80530815e-01\n",
      " 1.42720139e+00 1.12964570e+00 8.31505031e-01 4.77432202e-01\n",
      " 3.47390099e-01 7.98159043e-01 9.55304755e-01 6.58114794e-01\n",
      " 1.41594549e+00 3.56325363e-02 8.11244432e-01 1.54404563e+00\n",
      " 4.31320552e-02 6.75845275e-01 3.81638426e-01 4.58712798e-03\n",
      " 4.26769635e-02 9.95510850e-01 1.01033788e+00 9.82980559e-01\n",
      " 2.05358096e-02 9.64753081e-01 1.24209332e+00 2.23117836e+00\n",
      " 1.61565824e-01 5.41664169e-01 1.68740495e+00 2.65283854e-01\n",
      " 1.76328189e+00 1.55145698e+00 3.08692354e-01 7.20966703e-02\n",
      " 1.18905827e-01 5.27916359e-01 3.97795729e-02 4.22529909e-01\n",
      " 8.73124544e-01 1.57024181e-01 1.06589218e+00 1.24043133e+00\n",
      " 8.91839884e-01 1.60314481e+00 7.21130660e-01 1.15753142e+00\n",
      " 1.74037045e+00 5.29608476e-01 9.81805470e-01 3.01170239e-01\n",
      " 5.90604711e-01 7.41822645e-02 2.46589236e-01 1.67362276e+00\n",
      " 6.70559227e-01 5.28690074e-01 9.36439169e-01 1.09662033e+00\n",
      " 1.20801803e+00 1.49923852e+00 4.57254011e-01 8.01026452e-01\n",
      " 1.34272470e-01 2.38270286e-01 3.49353493e-01 1.03974821e-01\n",
      " 7.46319524e-01 4.04055373e-01 1.56396974e+00 5.51522598e-01\n",
      " 1.62777475e+00 1.25962000e+00 4.86084579e-01 1.56025947e+00\n",
      " 1.11825863e+00 8.68551877e-01 1.01390189e+00 5.38672152e-04\n",
      " 1.61853521e+00 6.07056058e-01 1.14327315e+00 1.59812068e+00\n",
      " 6.01698876e-01 4.60871917e-01 6.63249674e-01 1.19556468e-01\n",
      " 1.50086573e+00 1.61871570e+00 1.18684716e+00 2.72306214e-01\n",
      " 1.38107505e+00 1.25811363e+00 2.75325142e-02 1.18177555e+00\n",
      " 2.62737589e-01 7.74841439e-01 8.21585866e-01 1.13202143e+00\n",
      " 3.14475458e-05 1.47161727e+00 1.32878516e+00 1.27850029e-02\n",
      " 1.02760757e+00 9.91802569e-01 1.80602254e-01 6.49953298e-01\n",
      " 6.84014448e-02 1.46178827e-02 1.20217652e-02 1.39461930e+00\n",
      " 3.09488182e-01 2.49315077e-01 9.20282653e-02 1.37910436e+00\n",
      " 1.20244634e-07 4.88085666e-08 9.19542472e-07 2.60075314e-01\n",
      " 7.82596071e-08 1.80961585e-03 3.93248063e-03 2.09972565e-04\n",
      " 1.64790307e-03 5.39616395e-04 1.81302870e-06 6.37868819e-04\n",
      " 1.75774570e-06 9.80819024e-01 1.34124114e-03 4.03314143e-06\n",
      " 2.00802563e-01 4.81341179e-02 8.97127960e-04 5.99191687e-04\n",
      " 4.48580972e-04 5.61443471e-09 1.10384051e+00 1.02738807e+00\n",
      " 4.72524564e-01 9.60648628e-01 2.69833265e-01 1.24408261e-06\n",
      " 1.93059062e-01 6.14623701e-01 6.77876463e-02 9.80396779e-01\n",
      " 4.63403944e-02 2.09873141e-03 4.19540373e-01 1.17444956e+00\n",
      " 6.23047240e-01 4.21664833e-02 1.60557888e-03 1.54148863e-02\n",
      " 6.41528857e-06 4.12128311e-03 1.58510589e-01 3.73555129e-02\n",
      " 7.18984286e-01 7.08880245e-01 5.13494248e-01 6.65020852e-03\n",
      " 2.48334207e-04 2.57647984e-01 1.18320975e-01 1.62228568e+00\n",
      " 2.58070587e-01 1.02999500e+00 1.44144429e-05 2.23252921e-02\n",
      " 4.73653114e-01 1.04542745e-01 1.02299181e+00 5.86821812e-03\n",
      " 1.18336074e+00 5.88790131e-01 1.92359373e-01 1.88252956e-03\n",
      " 1.38986979e+00 8.52607017e-01 8.04825850e-01 7.35625889e-04\n",
      " 5.94421515e-02 7.48721948e-05 1.33080698e+00 4.84902070e-01\n",
      " 2.44742567e-02 6.69972060e-01 7.28893095e-01 2.07093663e-02\n",
      " 1.04638193e+00 3.15288100e-01 8.52562540e-01 8.98453706e-01\n",
      " 2.37311085e-02 6.10863668e-01 1.05225114e-02 7.48794641e-01\n",
      " 9.83490176e-01 8.29766713e-01 6.36620268e-01 1.22939174e+00\n",
      " 3.40177626e-01 3.55080082e-01 7.68232792e-01 7.00728662e-01\n",
      " 8.52029352e-03 5.26722415e-01 1.40636929e+00 9.67186186e-01\n",
      " 4.27779909e-01 3.65499224e-01 6.81227325e-01 1.50665210e-02\n",
      " 6.84387928e-09 1.21290819e-03 7.84944264e-02 7.15559668e-02\n",
      " 8.12656584e-01 1.61033413e-01 2.41559341e-02 1.84552704e-04\n",
      " 4.55930589e-01 3.22306933e-04 5.34058990e-01 1.01344573e-06\n",
      " 2.67856980e-09 6.96950748e-08 4.00119116e-08 7.12962816e-05\n",
      " 1.52212162e+00 1.55777756e-03 8.63304238e-04 2.59037915e-02\n",
      " 1.18345318e+00 1.10020881e-07 6.06715158e-01 7.16622548e-02\n",
      " 3.45011574e-01 8.68354534e-01 9.77837604e-01 2.20297543e-01\n",
      " 1.63392039e-04 9.64589328e-01 1.10524566e+00 3.87585339e-03\n",
      " 1.89346272e-01 9.90805903e-01 5.47102939e-03 6.00256939e-03\n",
      " 4.19873748e-02 4.68359674e-02 1.03910029e+00 9.59336393e-02\n",
      " 1.76561768e-01 6.81877634e-01 9.25193759e-01 2.02222779e-01\n",
      " 1.78449871e+00 1.30927187e-01 5.72507803e-01 1.30441762e+00\n",
      " 1.51528217e+00 6.22377612e-01 1.91332623e+00 8.75347175e-02\n",
      " 1.16667198e+00 4.77377398e-01 7.30173283e-01 5.11880290e-01\n",
      " 1.56233681e+00 4.59757365e-01 1.45605853e+00 8.60114766e-01\n",
      " 3.60112168e-01 8.25850207e-01 1.96610827e-01 1.00847752e+00\n",
      " 5.78317143e-01 3.89908146e-04 1.20951233e+00 1.44607715e+00\n",
      " 1.55652594e+00 3.43420959e-01 1.52825825e-06 3.81398858e-07\n",
      " 3.32197940e-03 1.27701289e+00 6.99662966e-01 3.65072788e-03\n",
      " 7.82936681e-01 9.35102355e-01 9.22457406e-01 1.95948465e-02\n",
      " 1.38180875e-02 1.56158394e+00 1.10037930e+00 9.03788421e-01\n",
      " 1.93529568e-01 1.49467087e+00 9.93474903e-02 7.17229168e-01\n",
      " 1.28772200e+00 1.25336702e+00 1.29256748e+00 6.94055561e-01\n",
      " 8.21246327e-02 1.13378395e+00 2.80642192e-01 1.95631941e-01\n",
      " 8.80157780e-01 3.16182039e-02 3.31322333e-01 2.66602701e-01\n",
      " 1.06576776e-03 8.54312303e-02 2.02427634e-02 3.31324849e-02\n",
      " 9.67148713e-01 8.60325228e-02 2.98835936e-02 8.40371901e-01\n",
      " 1.75862493e-02 1.24104847e-04 4.32655455e-04 7.80932996e-04\n",
      " 6.50496622e-05 2.80545025e-06 9.08523557e-04 7.34720926e-01\n",
      " 9.29752713e-02 2.33436659e-01 8.32295920e-01 7.44129756e-01\n",
      " 5.84841399e-01 7.23975924e-01 7.42358940e-01 2.62808511e-01\n",
      " 1.11976312e-01 2.43342631e-01 3.49338517e-01 6.70411946e-01\n",
      " 1.26804592e-02 1.22034575e-07 1.44690366e+00 6.28438534e-01\n",
      " 7.77640119e-01 6.24373512e-01 8.13229662e-01 2.91911207e-01\n",
      " 1.19156938e+00 5.15695701e-01 6.83400503e-01 6.69475521e-01\n",
      " 6.93501307e-01 1.46392964e-01 6.25980621e-01 4.67420497e-02\n",
      " 1.35871321e-03 4.00717009e-01 4.08273802e-01 7.39236268e-01\n",
      " 7.60141567e-01 2.75048981e-01 5.35474193e-01 8.60210290e-01\n",
      " 1.16844324e+00 1.63370896e+00 8.44973137e-01 6.92863833e-01\n",
      " 8.70542888e-01 1.07604674e-01 1.21765729e-01 1.22472612e+00\n",
      " 1.13124111e+00 1.19316230e+00 2.32105400e-02 1.19674354e+00\n",
      " 1.69329560e-01 1.30035385e+00 2.26100891e-01 7.58924500e-08\n",
      " 6.91068833e-01 1.16476563e+00 8.23901081e-01 5.55595233e-05\n",
      " 3.92995414e-01 2.34948846e-02 1.23383453e-02 7.16155202e-01\n",
      " 1.16329525e+00 1.67885634e-04 3.80483200e-01 1.11046512e-01\n",
      " 2.55277503e-02 1.15685757e-01 1.15491158e-01 9.59391580e-02\n",
      " 1.49138966e+00 5.29696886e-06 1.26129957e+00 3.83932714e-02\n",
      " 4.17280667e-01 1.15913469e-03 1.14331859e-03 7.78244248e-01\n",
      " 6.77352653e-01 7.75547056e-01 7.45590461e-04 5.14163919e-01\n",
      " 1.69837716e+00 1.95050307e-01 3.68368691e-01 5.26685600e-02\n",
      " 3.08685556e-01 1.16285450e-03 1.40161574e-06 5.86212719e-03\n",
      " 1.51000818e-02 6.99983079e-02 8.72758388e-02 3.01555936e-04\n",
      " 8.60436596e-01 2.92980389e-02 8.95972873e-01 9.60150927e-04\n",
      " 1.31024933e-04 2.20111293e-02 2.54197570e-02 1.91676529e-01\n",
      " 5.98840886e-01 2.31586458e-01 4.36848460e-01 6.50015054e-01\n",
      " 1.71955201e-03 1.04856621e-01 3.08459944e-01 7.05541912e-01\n",
      " 6.86516097e-01 3.86293747e-02 7.08208160e-01 5.19222571e-03\n",
      " 8.29644784e-01 2.11305102e-01 6.14752657e-01 1.44319764e-03\n",
      " 6.23833966e-01 2.77184372e-03 5.72671487e-02 2.64871651e-02\n",
      " 6.10869294e-01 5.75936873e-03 5.95112720e-03 9.40993750e-01\n",
      " 1.07382487e-05 8.04641430e-05 3.12192786e-06 8.35306811e-07\n",
      " 2.65410879e-06 1.26642851e-04 8.75295830e-08 6.96018871e-01\n",
      " 2.75442849e-04 1.19986570e-03 5.75138145e-01 9.22669135e-06\n",
      " 7.27923968e-04 5.22106725e-03 7.74243392e-05 6.68075251e-05\n",
      " 5.52907649e-01 2.47878476e-03 4.53576713e-01 3.39763066e-02\n",
      " 2.33117457e-06 3.02036679e-04 2.35475694e-02 1.53467728e-02\n",
      " 1.18645711e-01 2.02689530e-03 6.02722645e-02 1.11170502e-03\n",
      " 1.23630826e+00 5.75689545e-04 2.00082312e-03 7.37267741e-01\n",
      " 9.69741761e-09 1.36049644e-04 6.07496627e-03 1.26232997e-04\n",
      " 3.78980379e-07 3.22287594e-04 1.38656618e-02 2.99609945e-01\n",
      " 2.33427309e-10 3.86197048e-13 2.53107370e-08 1.02909222e-05\n",
      " 5.98752133e-08 1.06805857e-05 4.30584270e-10 2.05100393e-12\n",
      " 1.04676808e-08 4.43654458e-12 4.09428717e-10 2.01487741e-11\n",
      " 1.16536284e-11 5.49414227e-06 1.38631243e-04 2.13105358e-09\n",
      " 3.91663162e-07 4.95334583e-11 1.82635472e-08 3.13242445e-10\n",
      " 3.06285719e-02 3.68852058e-09 6.08333195e-05 6.29806101e-01\n",
      " 2.78387526e-08 1.14904224e-04 1.67280302e-02 1.31452437e-02\n",
      " 1.61003509e-03 1.80773248e-07 3.62920234e-05 3.75656348e-01\n",
      " 1.15777234e-08 1.11922387e-06 1.66117403e-02 4.77554810e-08\n",
      " 1.04228423e-04 2.28445786e-01 4.07763614e-05 2.81312766e-01\n",
      " 7.01839099e-01 6.76142597e-07 6.33779151e-01 6.26173174e-04\n",
      " 1.01594635e-05 9.15964732e-07 1.21252317e-03 8.59735942e-05\n",
      " 2.08750174e-03 1.24285463e-06 1.36845219e-02 4.42705614e-06\n",
      " 1.19112825e-02 9.12873310e-01 1.52407356e-04 9.03905098e-04\n",
      " 1.66348821e-07 4.50472382e-06 4.55465243e-07 7.63608034e-03]\n",
      "Mutual Information Predictions: [2.27406784e-01 2.71244479e-01 2.26724987e-01 3.41192801e-01\n",
      " 4.40361245e-01 3.53593610e-01 2.27155191e-01 8.92714987e-02\n",
      " 2.65846569e-01 1.96095112e-01 2.63389324e-01 3.83846626e-01\n",
      " 2.70896043e-01 1.88683221e-01 4.66863864e-02 4.93114352e-01\n",
      " 3.55884118e-02 6.83688913e-02 2.55023308e-01 3.32164854e-01\n",
      " 5.79327218e-01 3.47497372e-01 2.36505356e-02 4.16119239e-01\n",
      " 3.74599589e-01 1.90413215e-01 2.11739877e-01 4.64574317e-01\n",
      " 1.26228391e-01 2.69685530e-01 1.17955027e-02 7.82814025e-03\n",
      " 5.75829318e-01 3.24274752e-01 2.62664991e-01 4.76703465e-01\n",
      " 2.46278048e-02 2.20048953e-02 1.32691556e-01 2.43914571e-01\n",
      " 3.01957410e-01 4.53069596e-01 6.58776134e-02 5.18571947e-01\n",
      " 5.29718746e-01 9.70560813e-03 2.86230988e-01 6.48079939e-01\n",
      " 1.37389628e-02 2.89235980e-01 2.09208666e-01 3.33192603e-01\n",
      " 2.03343335e-01 3.59821349e-01 2.69389847e-01 3.75487206e-01\n",
      " 2.46040392e-01 3.29121154e-02 4.69106197e-01 3.77538844e-01\n",
      " 2.19488323e-01 8.25242902e-03 1.47769956e-01 3.28584392e-01\n",
      " 1.46293352e-01 5.91217508e-01 1.63000279e-01 4.28708461e-02\n",
      " 3.05346725e-01 3.32731414e-02 5.37378978e-03 3.57505431e-01\n",
      " 1.06509298e-01 2.09380063e-04 2.52362910e-01 2.44667312e-01\n",
      " 3.04532944e-01 1.94053648e-01 4.67840926e-06 2.00314522e-01\n",
      " 1.92776306e-01 7.81956089e-02 4.58606496e-01 7.50272856e-02\n",
      " 3.38462571e-01 3.15516882e-01 3.07356723e-01 2.96862181e-01\n",
      " 4.13467781e-01 3.31409633e-01 3.42077705e-01 2.28786987e-01\n",
      " 3.36465328e-01 5.39264383e-01 1.43898472e-01 3.49690302e-01\n",
      " 2.18529773e-01 5.29391865e-01 2.51673357e-01 2.08028498e-01\n",
      " 2.38125324e-01 6.65740855e-01 5.59785047e-01 4.55328534e-01\n",
      " 1.55628925e-01 1.60630215e-01 1.45288432e-01 9.28903775e-03\n",
      " 3.49865198e-01 2.09844326e-01 1.39592728e-01 5.15416820e-01\n",
      " 1.10159947e-01 4.35522524e-01 5.22550450e-01 7.68307240e-02\n",
      " 4.92518566e-01 2.51991012e-01 1.11173607e-01 2.55940783e-01\n",
      " 7.33264471e-01 3.34166398e-01 3.60620003e-01 3.98883252e-01\n",
      " 1.67861953e-01 5.09314016e-01 1.04221032e-01 5.36509943e-01\n",
      " 6.39829838e-01 1.64737924e-01 4.92707476e-01 3.40284662e-01\n",
      " 6.27278406e-01 7.80798626e-01 6.65901381e-02 6.44864807e-02\n",
      " 4.97563184e-01 5.42352936e-01 4.14975466e-01 3.49749572e-02\n",
      " 3.47505052e-01 2.73694617e-01 3.32586957e-01 1.37785913e-03\n",
      " 2.78098841e-02 3.53547295e-01 2.55881730e-01 3.61181650e-01\n",
      " 8.60185088e-02 6.79882216e-01 5.33309800e-01 5.26441480e-02\n",
      " 2.14303435e-01 4.71594883e-02 3.68852640e-01 3.34863851e-01\n",
      " 2.33917538e-01 4.70953746e-01 5.32147361e-01 7.65381149e-01\n",
      " 4.95417530e-01 1.41914400e-01 2.94992911e-01 4.04318013e-01\n",
      " 2.26729964e-01 3.76332674e-01 2.15532771e-01 1.61604446e-01\n",
      " 4.52957330e-01 3.70718310e-01 2.25826902e-01 2.01673486e-01\n",
      " 1.20743391e-01 2.75632165e-01 4.02302437e-01 2.31967484e-01\n",
      " 4.73163775e-01 5.59530335e-03 3.10742562e-01 4.45280107e-01\n",
      " 2.17383390e-02 2.54173294e-01 9.04841613e-02 7.90883480e-04\n",
      " 7.91764547e-03 3.89395494e-01 4.38393718e-01 3.70232272e-01\n",
      " 4.39219382e-03 3.54049111e-01 3.88600814e-01 7.36872158e-01\n",
      " 6.09673612e-02 1.82509127e-01 5.21886394e-01 1.06920154e-01\n",
      " 7.38128661e-01 5.09758004e-01 1.01068845e-01 1.64398243e-02\n",
      " 2.36716318e-02 2.58915613e-01 8.93821977e-03 9.67624529e-02\n",
      " 3.52169292e-01 2.83591115e-02 3.87363162e-01 5.15812418e-01\n",
      " 3.42181792e-01 4.41405376e-01 2.30595523e-01 4.96820463e-01\n",
      " 5.08155294e-01 2.62811574e-01 2.99081638e-01 1.18313311e-01\n",
      " 1.94146325e-01 2.03778803e-02 8.15769534e-02 5.74850434e-01\n",
      " 2.38896113e-01 1.39184368e-01 2.97575545e-01 3.11714434e-01\n",
      " 3.44524342e-01 4.06561788e-01 1.26685269e-01 2.71757077e-01\n",
      " 2.92585315e-02 1.15250048e-01 8.68966054e-02 2.52756906e-02\n",
      " 2.38368203e-01 1.40722407e-01 4.68935982e-01 2.10582078e-01\n",
      " 4.10277364e-01 4.59929704e-01 1.95826852e-01 6.69536685e-01\n",
      " 4.86612834e-01 2.25695050e-01 3.11664634e-01 1.06119149e-04\n",
      " 3.57243940e-01 2.42101353e-01 3.96252051e-01 4.91464662e-01\n",
      " 1.94864721e-01 2.15112885e-01 1.85262301e-01 3.54303668e-02\n",
      " 4.51694299e-01 5.88210523e-01 2.68397736e-01 9.60642079e-02\n",
      " 5.39669939e-01 5.15838048e-01 3.62302930e-03 3.90540996e-01\n",
      " 9.91171350e-02 2.33302397e-01 2.80065797e-01 6.17011929e-01\n",
      " 5.29743607e-06 4.08717108e-01 3.20936694e-01 2.70972101e-03\n",
      " 3.55592837e-01 3.49955618e-01 6.76945756e-02 2.46132183e-01\n",
      " 1.50430918e-02 3.50279739e-03 1.72238849e-03 5.45228992e-01\n",
      " 8.87340517e-02 7.78223454e-02 3.29781845e-02 3.27207417e-01\n",
      " 1.13112234e-08 4.85341123e-09 7.79456099e-08 1.65454399e-01\n",
      " 9.81804748e-09 2.24287639e-04 5.74960385e-04 2.59829623e-05\n",
      " 4.25137443e-04 8.09069925e-05 1.44338214e-07 2.05766821e-04\n",
      " 1.94741116e-07 3.53047446e-01 2.39674675e-04 4.02153734e-07\n",
      " 6.56810620e-02 2.30681033e-02 9.65860269e-05 7.88657024e-05\n",
      " 7.98309606e-05 5.97048689e-10 2.62585890e-01 3.73095016e-01\n",
      " 1.55344305e-01 4.16708597e-01 1.28060508e-01 1.37212757e-07\n",
      " 2.75760804e-02 2.05539422e-01 2.09703948e-02 2.30591353e-01\n",
      " 1.04329895e-02 2.80334166e-04 1.15554570e-01 3.41364386e-01\n",
      " 1.22251190e-01 8.34177058e-03 1.97626538e-04 3.50910080e-03\n",
      " 5.89693012e-07 1.02397409e-03 2.61718148e-02 9.62303372e-03\n",
      " 3.11516265e-01 2.16880353e-01 1.80389373e-01 7.13906701e-04\n",
      " 3.32014791e-05 6.63858891e-02 2.12658330e-02 5.30149960e-01\n",
      " 9.24342411e-02 4.07398089e-01 1.90439301e-06 4.66032300e-03\n",
      " 1.65455431e-01 4.16463990e-02 1.82134274e-01 8.22300132e-04\n",
      " 4.44717816e-01 1.29304714e-01 7.24119860e-02 4.50610567e-04\n",
      " 5.77504248e-01 2.06853475e-01 3.11532940e-01 1.28525048e-04\n",
      " 3.59691214e-02 1.52734478e-05 3.80972814e-01 1.06716029e-01\n",
      " 5.36326701e-03 1.99678223e-01 2.73804608e-01 9.32112463e-03\n",
      " 3.65483249e-01 1.09006475e-01 3.45252620e-01 3.83329253e-01\n",
      " 4.11871974e-03 1.15324759e-01 3.31491891e-03 2.65385101e-01\n",
      " 4.35700094e-01 2.46338777e-01 3.31436976e-01 2.61650025e-01\n",
      " 1.37180227e-01 9.26397263e-02 2.36453299e-01 1.48586731e-01\n",
      " 1.66692230e-03 1.51516444e-01 5.56836394e-01 2.65293165e-01\n",
      " 1.02049521e-01 8.17611289e-02 1.57057032e-01 4.21536971e-03\n",
      " 5.19584563e-10 2.63271183e-04 3.68185102e-02 3.19687914e-02\n",
      " 4.02971215e-01 6.35866839e-02 1.27609696e-02 5.63961619e-05\n",
      " 2.11608122e-01 4.04559592e-05 1.68001451e-01 9.09988237e-08\n",
      " 1.82113454e-10 5.25062667e-09 5.12855731e-09 1.53113182e-05\n",
      " 6.71500040e-01 5.64134994e-04 1.27543144e-04 7.43449154e-03\n",
      " 5.87471045e-01 1.31085557e-08 2.48403694e-01 2.99880866e-02\n",
      " 1.39599845e-01 3.40844349e-01 4.51616271e-01 7.90105132e-02\n",
      " 3.71839340e-05 4.38360798e-01 4.67719599e-01 5.76672020e-04\n",
      " 7.59643819e-02 4.98258478e-01 1.36336046e-03 8.75813742e-04\n",
      " 1.12615794e-02 2.45145254e-02 4.94785671e-01 4.24408061e-02\n",
      " 9.17274561e-02 2.90930505e-01 3.82070372e-01 4.91996375e-02\n",
      " 7.39506211e-01 4.96115651e-02 2.67562183e-01 4.83169233e-01\n",
      " 5.54967592e-01 1.74152248e-01 6.65901159e-01 3.83128662e-02\n",
      " 3.94165654e-01 2.26883658e-01 3.14655899e-01 1.67050591e-01\n",
      " 3.71977929e-01 1.68049823e-01 4.46896752e-01 3.15688816e-01\n",
      " 1.76768410e-01 3.09790646e-01 6.38670231e-02 3.27237255e-01\n",
      " 2.33979830e-01 8.33788864e-05 3.04079646e-01 6.03892675e-01\n",
      " 2.94972155e-01 8.97773823e-02 1.61778656e-07 2.74390970e-08\n",
      " 6.11231255e-04 3.65110128e-01 2.48200925e-01 7.75535836e-04\n",
      " 1.94737364e-01 3.77868046e-01 3.06311850e-01 4.51606054e-03\n",
      " 2.24112667e-03 5.76623885e-01 4.18737715e-01 3.36769152e-01\n",
      " 3.74948072e-02 5.90335262e-01 3.48423817e-02 2.67526706e-01\n",
      " 6.17625503e-01 5.23882981e-01 4.90357626e-01 2.70714293e-01\n",
      " 4.27112622e-02 3.82040122e-01 7.30204284e-02 5.99274416e-02\n",
      " 3.60822085e-01 7.78505273e-03 1.25754461e-01 8.01306211e-02\n",
      " 1.34550621e-04 1.93551698e-02 4.45455030e-03 1.81697016e-02\n",
      " 3.56110182e-01 1.97748878e-02 7.86764301e-03 2.75359624e-01\n",
      " 1.98098310e-03 1.79348160e-05 5.31186933e-05 1.23901610e-04\n",
      " 5.98905121e-06 2.02158052e-07 1.29286527e-04 2.92371991e-01\n",
      " 2.69790077e-02 4.28192596e-02 2.74648752e-01 3.16188025e-01\n",
      " 2.44793086e-01 2.58899286e-01 2.88340267e-01 1.10742339e-01\n",
      " 4.26702025e-02 6.55004419e-02 1.07480638e-01 3.48208740e-01\n",
      " 2.37609081e-03 1.61253929e-08 5.35847148e-01 2.69700041e-01\n",
      " 3.46249229e-01 2.48851387e-01 2.93836678e-01 1.52339846e-01\n",
      " 4.02697850e-01 1.92939635e-01 2.17187899e-01 3.33966162e-01\n",
      " 2.79541260e-01 6.39007292e-02 2.93026676e-01 1.10783246e-02\n",
      " 3.01124413e-04 1.68939100e-01 1.30552943e-01 2.76146504e-01\n",
      " 3.45683574e-01 8.47286666e-02 1.16922432e-01 3.73174129e-01\n",
      " 4.50756012e-01 7.13594272e-01 2.88644845e-01 2.24460545e-01\n",
      " 2.75819112e-01 3.21591331e-02 6.91011562e-02 5.83978188e-01\n",
      " 4.14826165e-01 5.73132061e-01 8.92771757e-03 3.77983355e-01\n",
      " 8.18945337e-02 3.73628108e-01 5.27570010e-02 6.86215306e-09\n",
      " 3.54848092e-01 4.50509596e-01 3.00463159e-01 9.83720069e-06\n",
      " 2.04464719e-01 1.04387275e-02 3.28125135e-03 2.55456027e-01\n",
      " 5.40697553e-01 2.61237765e-05 1.21053854e-01 3.41648431e-02\n",
      " 9.75536469e-03 4.28033383e-02 3.23077625e-02 1.59433381e-02\n",
      " 6.80765700e-01 7.23545460e-07 3.95904808e-01 1.36957353e-02\n",
      " 1.59802657e-01 1.30103833e-04 2.54682066e-04 3.43629105e-01\n",
      " 1.93899371e-01 3.16571198e-01 1.19106392e-04 2.08766876e-01\n",
      " 6.33946264e-01 6.27752154e-02 9.18373379e-02 1.14336136e-02\n",
      " 6.41537593e-02 1.18074393e-04 1.29480981e-07 1.80491236e-03\n",
      " 1.73897378e-03 1.88022496e-02 2.39030812e-02 5.18291821e-05\n",
      " 3.50599288e-01 4.99433974e-03 3.37639180e-01 1.43566005e-04\n",
      " 1.40280567e-05 4.29592814e-03 3.39756029e-03 8.83345287e-02\n",
      " 2.49448473e-01 7.77108774e-02 1.03809044e-01 2.04339685e-01\n",
      " 3.82369731e-04 5.24716971e-02 8.18566673e-02 2.48875265e-01\n",
      " 3.10789419e-01 6.83511210e-03 3.11956093e-01 9.55640857e-04\n",
      " 3.46960945e-01 9.62260491e-02 3.23703634e-01 2.12960510e-04\n",
      " 2.35680948e-01 7.33141675e-04 1.91778155e-02 7.53260943e-03\n",
      " 3.24781281e-01 1.62397872e-03 1.02435485e-03 3.35255391e-01\n",
      " 1.46663386e-06 1.45192759e-05 2.66265283e-07 1.08484699e-07\n",
      " 2.89760103e-07 1.45055850e-05 7.17534877e-09 2.76857155e-01\n",
      " 2.02509179e-05 2.23291439e-04 2.46101207e-01 1.45691228e-06\n",
      " 8.69553734e-05 7.20681702e-04 1.29547836e-05 8.90569706e-06\n",
      " 2.38886295e-01 2.81557069e-04 2.04537294e-01 1.04256332e-02\n",
      " 1.77604280e-07 4.04662412e-05 8.36087546e-03 1.95074374e-03\n",
      " 6.35280788e-02 1.93136062e-04 1.55033137e-02 1.45425813e-04\n",
      " 2.98864932e-01 5.40018519e-05 2.62948448e-04 2.70077437e-01\n",
      " 4.29737646e-10 1.27719955e-05 3.97322522e-04 2.15019827e-05\n",
      " 4.28420107e-08 7.46730162e-05 4.04825782e-03 5.08875460e-02\n",
      " 2.40489807e-11 2.19713166e-14 2.79343228e-09 2.10926318e-06\n",
      " 7.02488313e-09 1.40134631e-06 2.83375020e-11 1.33840920e-13\n",
      " 1.01140802e-09 3.57923555e-13 4.91835400e-11 1.88077021e-12\n",
      " 8.96298790e-13 1.14855115e-06 4.21187697e-05 1.95601046e-10\n",
      " 7.39442079e-08 4.62186884e-12 1.69050281e-09 3.88590194e-11\n",
      " 3.78997403e-03 5.71093142e-10 5.37263492e-06 3.10756865e-01\n",
      " 1.24045329e-09 2.92011066e-05 5.39191678e-03 6.20295855e-03\n",
      " 2.11813651e-04 2.56158221e-08 3.81973664e-06 9.35288364e-02\n",
      " 7.19474206e-10 6.80286335e-08 3.53921709e-03 2.35881629e-09\n",
      " 1.44506267e-05 6.08425909e-02 6.48931074e-06 3.30404439e-02\n",
      " 2.24100541e-01 5.37087259e-08 2.93315625e-01 8.59293901e-05\n",
      " 7.90561725e-07 6.19964719e-08 1.78512632e-04 1.08522373e-05\n",
      " 2.16013293e-04 1.08081508e-07 4.69801199e-03 2.68363792e-07\n",
      " 2.10502840e-03 3.03173603e-01 1.82006503e-05 1.59390875e-04\n",
      " 1.46404171e-08 4.75291882e-07 3.78935898e-08 1.29417416e-03]\n"
     ]
    }
   ],
   "source": [
    "import sys\n",
    "\n",
    "# Load Test Data\n",
    "test_samples = torch.load(\"test_samples.pth\")\n",
    "test_labels = torch.load(\"test_labels.pth\")\n",
    "\n",
    "# Define model class if not already defined (assuming MCTestTacNet class is defined as you've provided)\n",
    "# Instantiate the Model\n",
    "model = MCTestTacNet()\n",
    "model.to(device)\n",
    "\n",
    "# Load the Trained Model\n",
    "model.load_state_dict(torch.load(\"trained_model.pth\"))\n",
    "\n",
    "# Function to enable dropout layers during test-time\n",
    "def enable_dropout(model):\n",
    "    \"\"\" Function to enable the dropout layers during test-time \"\"\"\n",
    "    for m in model.modules():\n",
    "        if m.__class__.__name__.startswith('Dropout'):\n",
    "            m.train()\n",
    "\n",
    "# Function to get Monte Carlo predictions and uncertainty estimates\n",
    "def get_monte_carlo_predictions(data_loader, forward_passes, model, n_classes, n_samples):\n",
    "    \"\"\" Function to get the monte-carlo samples and uncertainty estimates through multiple forward passes \"\"\"\n",
    "    dropout_predictions = np.empty((0, n_samples, n_classes))\n",
    "    softmax = nn.Softmax(dim=1)\n",
    "\n",
    "    for i in range(forward_passes):\n",
    "        predictions = np.empty((0, n_classes))\n",
    "        model.eval()\n",
    "        enable_dropout(model)\n",
    "\n",
    "        for images, _ in data_loader:\n",
    "            images = images.to(device)\n",
    "            with torch.no_grad():\n",
    "                outputs = model(images)\n",
    "                outputs = softmax(outputs)\n",
    "            predictions = np.vstack((predictions, outputs.cpu().numpy()))\n",
    "\n",
    "        dropout_predictions = np.vstack((dropout_predictions, predictions[np.newaxis, :, :]))\n",
    "\n",
    "    # Calculate mean across multiple MC Dropout forward passes\n",
    "    mean = np.mean(dropout_predictions, axis=0)\n",
    "\n",
    "    # Calculate variance across multiple MC Dropout forward passes\n",
    "    variance = np.var(dropout_predictions, axis=0)\n",
    "\n",
    "    epsilon = sys.float_info.min\n",
    "    # Calculate entropy across multiple MC Dropout forward passes\n",
    "    entropy = -np.sum(mean * np.log(mean + epsilon), axis=-1)\n",
    "\n",
    "    # Calculate mutual information across multiple MC Dropout forward passes\n",
    "    mutual_info = entropy - np.mean(np.sum(-dropout_predictions * np.log(dropout_predictions + epsilon), axis=-1), axis=0)\n",
    "\n",
    "    return mean, variance, entropy, mutual_info\n",
    "\n",
    "# Prepare DataLoader for test data\n",
    "batch_size = 32\n",
    "test_dataset = TensorDataset(test_samples, test_labels)\n",
    "test_loader = DataLoader(test_dataset, batch_size=batch_size, shuffle=False)\n",
    "\n",
    "# Parameters for Monte Carlo Dropout\n",
    "forward_passes = 50  # Number of forward passes\n",
    "n_classes = 36  # Number of classes\n",
    "n_samples = len(test_samples)  # Number of test samples\n",
    "\n",
    "# Get Monte Carlo Predictions and Uncertainty Estimates\n",
    "mean, variance, entropy, mutual_info = get_monte_carlo_predictions(\n",
    "    test_loader, forward_passes, model, n_classes, n_samples\n",
    ")\n",
    "\n",
    "# Print results (or further analyze)\n",
    "print(\"Mean Predictions:\", mean)\n",
    "print(\"Variance Predictions:\", variance)\n",
    "print(\"Entropy Predictions:\", entropy)\n",
    "print(\"Mutual Information Predictions:\", mutual_info)"
   ]
  },
  {
   "cell_type": "markdown",
   "id": "0fc666d7",
   "metadata": {},
   "source": [
    "## Visualization of Uncertainty\n",
    "Visualization of Model Uncertainty"
   ]
  },
  {
   "cell_type": "code",
   "execution_count": 8,
   "id": "e411de3a",
   "metadata": {},
   "outputs": [
    {
     "data": {
      "image/png": "[encoded data removed]",
      "text/plain": [
       "<Figure size 1200x800 with 2 Axes>"
      ]
     },
     "metadata": {},
     "output_type": "display_data"
    },
    {
     "data": {
      "image/png": "[encoded data removed]",
      "text/plain": [
       "<Figure size 1200x600 with 1 Axes>"
      ]
     },
     "metadata": {},
     "output_type": "display_data"
    }
   ],
   "source": [
    "import matplotlib.pyplot as plt\n",
    "import numpy as np\n",
    "import seaborn as sns\n",
    "\n",
    "\n",
    "mean = np.load(\"mean_predictions.npy\")\n",
    "variance = np.load(\"variance_predictions.npy\")\n",
    "entropy = np.load(\"entropy_predictions.npy\")\n",
    "mutual_info = np.load(\"mutual_info_predictions.npy\")\n",
    "\n",
    "# Reshape Variance for Heatmap (batch_size x num_classes)\n",
    "plt.figure(figsize=(12, 8))\n",
    "sns.heatmap(variance.T, cmap=\"viridis\", cbar=True, xticklabels=False, yticklabels=True)\n",
    "plt.xlabel(\"Sample Index\")\n",
    "plt.ylabel(\"Class Index\")\n",
    "plt.title(\"Prediction Variance Heatmap Across Classes\")\n",
    "plt.show()\n",
    "\n",
    "plt.figure(figsize=(12, 6))\n",
    "plt.hist(mutual_info, bins=30, color='green', alpha=0.7, edgecolor='black')\n",
    "plt.xlabel(\"Mutual Information\")\n",
    "plt.ylabel(\"Frequency\")\n",
    "plt.title(\"Distribution of Mutual Information Across Test Samples\")\n",
    "plt.show()\n",
    "\n",
    "\n"
   ]
  },
  {
   "cell_type": "code",
   "execution_count": null,
   "id": "836ea40a-fcec-4de7-b56b-907af9c3d1b8",
   "metadata": {},
   "outputs": [
    {
     "data": {
      "image/png": "[encoded data removed]",
      "text/plain": [
       "<Figure size 1500x1000 with 1 Axes>"
      ]
     },
     "metadata": {},
     "output_type": "display_data"
    }
   ],
   "source": [
    "import matplotlib.pyplot as plt\n",
    "import numpy as np\n",
    "\n",
    "mean = np.load(\"mean_predictions.npy\")\n",
    "variance = np.load(\"variance_predictions.npy\")\n",
    "entropy = np.load(\"entropy_predictions.npy\")\n",
    "mutual_info = np.load(\"mutual_info_predictions.npy\")\n",
    "\n",
    "\n",
    "plt.figure(figsize=(15, 10))\n",
    "plt.plot(entropy)\n",
    "plt.title(\"Entropy Predictions\")\n",
    "plt.xlabel(\"Sample Index\")\n",
    "plt.ylabel(\"Entropy\")\n",
    "plt.grid(True)\n",
    "plt.show()"
   ]
  },
  {
   "cell_type": "code",
   "execution_count": null,
   "id": "d60bc3d6",
   "metadata": {},
   "outputs": [],
   "source": []
  }
 ],
 "metadata": {
  "environment": {
   "kernel": "conda-base-py",
   "name": "workbench-notebooks.m126",
   "type": "gcloud",
   "uri": "us-docker.pkg.dev/deeplearning-platform-release/gcr.io/workbench-notebooks:m126"
  },
  "kernelspec": {
   "display_name": "Python (myenv)",
   "language": "python",
   "name": "myenv"
  },
  "language_info": {
   "codemirror_mode": {
    "name": "ipython",
    "version": 3
   },
   "file_extension": ".py",
   "mimetype": "text/x-python",
   "name": "python",
   "nbconvert_exporter": "python",
   "pygments_lexer": "ipython3",
   "version": "3.12.3"
  }
 },
 "nbformat": 4,
 "nbformat_minor": 5
}
