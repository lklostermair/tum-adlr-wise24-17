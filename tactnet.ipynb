{
 "cells": [
  {
   "cell_type": "code",
   "execution_count": 1,
   "id": "12448640-8a9e-4e0c-abb9-dde59142f347",
   "metadata": {
    "tags": []
   },
   "outputs": [
    {
     "name": "stdout",
     "output_type": "stream",
     "text": [
      "Collecting torch\n",
      "  Downloading torch-2.5.1-cp310-cp310-manylinux1_x86_64.whl.metadata (28 kB)\n",
      "Requirement already satisfied: filelock in /opt/conda/lib/python3.10/site-packages (from torch) (3.16.1)\n",
      "Requirement already satisfied: typing-extensions>=4.8.0 in /opt/conda/lib/python3.10/site-packages (from torch) (4.12.2)\n",
      "Requirement already satisfied: networkx in /opt/conda/lib/python3.10/site-packages (from torch) (3.4.2)\n",
      "Requirement already satisfied: jinja2 in /opt/conda/lib/python3.10/site-packages (from torch) (3.1.4)\n",
      "Requirement already satisfied: fsspec in /opt/conda/lib/python3.10/site-packages (from torch) (2024.10.0)\n",
      "Collecting nvidia-cuda-nvrtc-cu12==12.4.127 (from torch)\n",
      "  Downloading nvidia_cuda_nvrtc_cu12-12.4.127-py3-none-manylinux2014_x86_64.whl.metadata (1.5 kB)\n",
      "Collecting nvidia-cuda-runtime-cu12==12.4.127 (from torch)\n",
      "  Downloading nvidia_cuda_runtime_cu12-12.4.127-py3-none-manylinux2014_x86_64.whl.metadata (1.5 kB)\n",
      "Collecting nvidia-cuda-cupti-cu12==12.4.127 (from torch)\n",
      "  Downloading nvidia_cuda_cupti_cu12-12.4.127-py3-none-manylinux2014_x86_64.whl.metadata (1.6 kB)\n",
      "Collecting nvidia-cudnn-cu12==9.1.0.70 (from torch)\n",
      "  Downloading nvidia_cudnn_cu12-9.1.0.70-py3-none-manylinux2014_x86_64.whl.metadata (1.6 kB)\n",
      "Collecting nvidia-cublas-cu12==12.4.5.8 (from torch)\n",
      "  Downloading nvidia_cublas_cu12-12.4.5.8-py3-none-manylinux2014_x86_64.whl.metadata (1.5 kB)\n",
      "Collecting nvidia-cufft-cu12==11.2.1.3 (from torch)\n",
      "  Downloading nvidia_cufft_cu12-11.2.1.3-py3-none-manylinux2014_x86_64.whl.metadata (1.5 kB)\n",
      "Collecting nvidia-curand-cu12==10.3.5.147 (from torch)\n",
      "  Downloading nvidia_curand_cu12-10.3.5.147-py3-none-manylinux2014_x86_64.whl.metadata (1.5 kB)\n",
      "Collecting nvidia-cusolver-cu12==11.6.1.9 (from torch)\n",
      "  Downloading nvidia_cusolver_cu12-11.6.1.9-py3-none-manylinux2014_x86_64.whl.metadata (1.6 kB)\n",
      "Collecting nvidia-cusparse-cu12==12.3.1.170 (from torch)\n",
      "  Downloading nvidia_cusparse_cu12-12.3.1.170-py3-none-manylinux2014_x86_64.whl.metadata (1.6 kB)\n",
      "Collecting nvidia-nccl-cu12==2.21.5 (from torch)\n",
      "  Downloading nvidia_nccl_cu12-2.21.5-py3-none-manylinux2014_x86_64.whl.metadata (1.8 kB)\n",
      "Collecting nvidia-nvtx-cu12==12.4.127 (from torch)\n",
      "  Downloading nvidia_nvtx_cu12-12.4.127-py3-none-manylinux2014_x86_64.whl.metadata (1.7 kB)\n",
      "Collecting nvidia-nvjitlink-cu12==12.4.127 (from torch)\n",
      "  Downloading nvidia_nvjitlink_cu12-12.4.127-py3-none-manylinux2014_x86_64.whl.metadata (1.5 kB)\n",
      "Collecting triton==3.1.0 (from torch)\n",
      "  Downloading triton-3.1.0-cp310-cp310-manylinux_2_17_x86_64.manylinux2014_x86_64.whl.metadata (1.3 kB)\n",
      "Collecting sympy==1.13.1 (from torch)\n",
      "  Downloading sympy-1.13.1-py3-none-any.whl.metadata (12 kB)\n",
      "Collecting mpmath<1.4,>=1.1.0 (from sympy==1.13.1->torch)\n",
      "  Downloading mpmath-1.3.0-py3-none-any.whl.metadata (8.6 kB)\n",
      "Requirement already satisfied: MarkupSafe>=2.0 in /opt/conda/lib/python3.10/site-packages (from jinja2->torch) (3.0.2)\n",
      "Downloading torch-2.5.1-cp310-cp310-manylinux1_x86_64.whl (906.4 MB)\n",
      "\u001b[2K   \u001b[90m━━━━━━━━━━━━━━━━━━━━━━━━━━━━━━━━━━━━━━━━\u001b[0m \u001b[32m906.4/906.4 MB\u001b[0m \u001b[31m27.3 MB/s\u001b[0m eta \u001b[36m0:00:00\u001b[0m00:01\u001b[0m00:01\u001b[0m\n",
      "\u001b[?25hDownloading nvidia_cublas_cu12-12.4.5.8-py3-none-manylinux2014_x86_64.whl (363.4 MB)\n",
      "\u001b[2K   \u001b[90m━━━━━━━━━━━━━━━━━━━━━━━━━━━━━━━━━━━━━━━━\u001b[0m \u001b[32m363.4/363.4 MB\u001b[0m \u001b[31m56.6 MB/s\u001b[0m eta \u001b[36m0:00:00\u001b[0m00:01\u001b[0m00:01\u001b[0m\n",
      "\u001b[?25hDownloading nvidia_cuda_cupti_cu12-12.4.127-py3-none-manylinux2014_x86_64.whl (13.8 MB)\n",
      "\u001b[2K   \u001b[90m━━━━━━━━━━━━━━━━━━━━━━━━━━━━━━━━━━━━━━━━\u001b[0m \u001b[32m13.8/13.8 MB\u001b[0m \u001b[31m45.5 MB/s\u001b[0m eta \u001b[36m0:00:00\u001b[0m:00:01\u001b[0m\n",
      "\u001b[?25hDownloading nvidia_cuda_nvrtc_cu12-12.4.127-py3-none-manylinux2014_x86_64.whl (24.6 MB)\n",
      "\u001b[2K   \u001b[90m━━━━━━━━━━━━━━━━━━━━━━━━━━━━━━━━━━━━━━━━\u001b[0m \u001b[32m24.6/24.6 MB\u001b[0m \u001b[31m141.5 MB/s\u001b[0m eta \u001b[36m0:00:00\u001b[0m\n",
      "\u001b[?25hDownloading nvidia_cuda_runtime_cu12-12.4.127-py3-none-manylinux2014_x86_64.whl (883 kB)\n",
      "\u001b[2K   \u001b[90m━━━━━━━━━━━━━━━━━━━━━━━━━━━━━━━━━━━━━━━━\u001b[0m \u001b[32m883.7/883.7 kB\u001b[0m \u001b[31m55.1 MB/s\u001b[0m eta \u001b[36m0:00:00\u001b[0m\n",
      "\u001b[?25hDownloading nvidia_cudnn_cu12-9.1.0.70-py3-none-manylinux2014_x86_64.whl (664.8 MB)\n",
      "\u001b[2K   \u001b[90m━━━━━━━━━━━━━━━━━━━━━━━━━━━━━━━━━━━━━━━━\u001b[0m \u001b[32m664.8/664.8 MB\u001b[0m \u001b[31m33.2 MB/s\u001b[0m eta \u001b[36m0:00:00\u001b[0m00:01\u001b[0m00:01\u001b[0m\n",
      "\u001b[?25hDownloading nvidia_cufft_cu12-11.2.1.3-py3-none-manylinux2014_x86_64.whl (211.5 MB)\n",
      "\u001b[2K   \u001b[90m━━━━━━━━━━━━━━━━━━━━━━━━━━━━━━━━━━━━━━━\u001b[0m \u001b[32m211.5/211.5 MB\u001b[0m \u001b[31m109.8 MB/s\u001b[0m eta \u001b[36m0:00:00\u001b[0m00:01\u001b[0m00:01\u001b[0m\n",
      "\u001b[?25hDownloading nvidia_curand_cu12-10.3.5.147-py3-none-manylinux2014_x86_64.whl (56.3 MB)\n",
      "\u001b[2K   \u001b[90m━━━━━━━━━━━━━━━━━━━━━━━━━━━━━━━━━━━━━━━━\u001b[0m \u001b[32m56.3/56.3 MB\u001b[0m \u001b[31m108.2 MB/s\u001b[0m eta \u001b[36m0:00:00\u001b[0m00:01\u001b[0m00:01\u001b[0m\n",
      "\u001b[?25hDownloading nvidia_cusolver_cu12-11.6.1.9-py3-none-manylinux2014_x86_64.whl (127.9 MB)\n",
      "\u001b[2K   \u001b[90m━━━━━━━━━━━━━━━━━━━━━━━━━━━━━━━━━━━━━━━━\u001b[0m \u001b[32m127.9/127.9 MB\u001b[0m \u001b[31m66.1 MB/s\u001b[0m eta \u001b[36m0:00:00\u001b[0m00:01\u001b[0m00:01\u001b[0m\n",
      "\u001b[?25hDownloading nvidia_cusparse_cu12-12.3.1.170-py3-none-manylinux2014_x86_64.whl (207.5 MB)\n",
      "\u001b[2K   \u001b[90m━━━━━━━━━━━━━━━━━━━━━━━━━━━━━━━━━━━━━━━━\u001b[0m \u001b[32m207.5/207.5 MB\u001b[0m \u001b[31m82.1 MB/s\u001b[0m eta \u001b[36m0:00:00\u001b[0m00:01\u001b[0m00:01\u001b[0m\n",
      "\u001b[?25hDownloading nvidia_nccl_cu12-2.21.5-py3-none-manylinux2014_x86_64.whl (188.7 MB)\n",
      "\u001b[2K   \u001b[90m━━━━━━━━━━━━━━━━━━━━━━━━━━━━━━━━━━━━━━━\u001b[0m \u001b[32m188.7/188.7 MB\u001b[0m \u001b[31m112.8 MB/s\u001b[0m eta \u001b[36m0:00:00\u001b[0m00:01\u001b[0m00:01\u001b[0m\n",
      "\u001b[?25hDownloading nvidia_nvjitlink_cu12-12.4.127-py3-none-manylinux2014_x86_64.whl (21.1 MB)\n",
      "\u001b[2K   \u001b[90m━━━━━━━━━━━━━━━━━━━━━━━━━━━━━━━━━━━━━━━━\u001b[0m \u001b[32m21.1/21.1 MB\u001b[0m \u001b[31m133.6 MB/s\u001b[0m eta \u001b[36m0:00:00\u001b[0m\n",
      "\u001b[?25hDownloading nvidia_nvtx_cu12-12.4.127-py3-none-manylinux2014_x86_64.whl (99 kB)\n",
      "Downloading sympy-1.13.1-py3-none-any.whl (6.2 MB)\n",
      "\u001b[2K   \u001b[90m━━━━━━━━━━━━━━━━━━━━━━━━━━━━━━━━━━━━━━━━\u001b[0m \u001b[32m6.2/6.2 MB\u001b[0m \u001b[31m125.4 MB/s\u001b[0m eta \u001b[36m0:00:00\u001b[0m\n",
      "\u001b[?25hDownloading triton-3.1.0-cp310-cp310-manylinux_2_17_x86_64.manylinux2014_x86_64.whl (209.5 MB)\n",
      "\u001b[2K   \u001b[90m━━━━━━━━━━━━━━━━━━━━━━━━━━━━━━━━━━━━━━━━\u001b[0m \u001b[32m209.5/209.5 MB\u001b[0m \u001b[31m69.7 MB/s\u001b[0m eta \u001b[36m0:00:00\u001b[0m00:01\u001b[0m00:01\u001b[0m\n",
      "\u001b[?25hDownloading mpmath-1.3.0-py3-none-any.whl (536 kB)\n",
      "\u001b[2K   \u001b[90m━━━━━━━━━━━━━━━━━━━━━━━━━━━━━━━━━━━━━━━━\u001b[0m \u001b[32m536.2/536.2 kB\u001b[0m \u001b[31m2.8 MB/s\u001b[0m eta \u001b[36m0:00:00\u001b[0m\n",
      "\u001b[?25hInstalling collected packages: mpmath, triton, sympy, nvidia-nvtx-cu12, nvidia-nvjitlink-cu12, nvidia-nccl-cu12, nvidia-curand-cu12, nvidia-cufft-cu12, nvidia-cuda-runtime-cu12, nvidia-cuda-nvrtc-cu12, nvidia-cuda-cupti-cu12, nvidia-cublas-cu12, nvidia-cusparse-cu12, nvidia-cudnn-cu12, nvidia-cusolver-cu12, torch\n",
      "Successfully installed mpmath-1.3.0 nvidia-cublas-cu12-12.4.5.8 nvidia-cuda-cupti-cu12-12.4.127 nvidia-cuda-nvrtc-cu12-12.4.127 nvidia-cuda-runtime-cu12-12.4.127 nvidia-cudnn-cu12-9.1.0.70 nvidia-cufft-cu12-11.2.1.3 nvidia-curand-cu12-10.3.5.147 nvidia-cusolver-cu12-11.6.1.9 nvidia-cusparse-cu12-12.3.1.170 nvidia-nccl-cu12-2.21.5 nvidia-nvjitlink-cu12-12.4.127 nvidia-nvtx-cu12-12.4.127 sympy-1.13.1 torch-2.5.1 triton-3.1.0\n"
     ]
    }
   ],
   "source": [
    "!pip install torch"
   ]
  },
  {
   "cell_type": "code",
   "execution_count": 1,
   "id": "ab34de43-0a00-4bb8-94a4-a2a320210c89",
   "metadata": {
    "tags": []
   },
   "outputs": [],
   "source": [
    "import torch\n",
    "import torch.nn as nn\n",
    "import torch.nn.functional as F\n",
    "import torch.optim as optim\n",
    "import numpy as np\n",
    "from torch.utils.data import DataLoader, TensorDataset\n",
    "from tqdm import tqdm\n",
    "\n",
    "\n",
    "device = torch.device(\"cuda:0\" if torch.cuda.is_available() else \"cpu\")"
   ]
  },
  {
   "cell_type": "code",
   "execution_count": 2,
   "id": "60ae42c0-56d9-4e8e-a54e-12b26b035cef",
   "metadata": {
    "tags": []
   },
   "outputs": [
    {
     "name": "stdout",
     "output_type": "stream",
     "text": [
      "Collecting h5py\n",
      "  Downloading h5py-3.12.1-cp310-cp310-manylinux_2_17_x86_64.manylinux2014_x86_64.whl.metadata (2.5 kB)\n",
      "Requirement already satisfied: numpy>=1.19.3 in /opt/conda/lib/python3.10/site-packages (from h5py) (1.26.4)\n",
      "Downloading h5py-3.12.1-cp310-cp310-manylinux_2_17_x86_64.manylinux2014_x86_64.whl (5.3 MB)\n",
      "\u001b[2K   \u001b[90m━━━━━━━━━━━━━━━━━━━━━━━━━━━━━━━━━━━━━━━━\u001b[0m \u001b[32m5.3/5.3 MB\u001b[0m \u001b[31m69.6 MB/s\u001b[0m eta \u001b[36m0:00:00\u001b[0m\n",
      "\u001b[?25hInstalling collected packages: h5py\n",
      "Successfully installed h5py-3.12.1\n"
     ]
    }
   ],
   "source": [
    "!pip install h5py"
   ]
  },
  {
   "cell_type": "code",
   "execution_count": 2,
   "id": "2374bfe5-5e42-47e5-aaee-37e545ba0694",
   "metadata": {
    "tags": []
   },
   "outputs": [],
   "source": [
    "import matplotlib.pyplot as plt"
   ]
  },
  {
   "cell_type": "code",
   "execution_count": 3,
   "id": "3f261410-bddd-40ef-92b1-7dcca573ad6e",
   "metadata": {
    "tags": []
   },
   "outputs": [],
   "source": [
    "#dataloading and preprocessing\n",
    "import h5py\n",
    "with h5py.File('tactmat.h5', 'r') as dataset:\n",
    "    samples = dataset['samples'][:]\n",
    "    materials = dataset['materials'][:]\n",
    "    materials = [m.decode('utf-8') for m in materials]\n",
    "\n",
    "# Shuffle through classes\n",
    "for i in range(samples.shape[0]):\n",
    "    np.random.shuffle(samples[i])\n",
    "    \n",
    "train_size = int(0.8 * len(samples[0]))\n",
    "train_samples = samples[:, :train_size-16, ...]\n",
    "val_samples = samples[:, train_size-16:train_size, ...]\n",
    "test_samples = samples[:, train_size:, ...]\n",
    "\n",
    "# Flatten data\n",
    "train_samples = train_samples.reshape((36*64, 1000, 16))  # (2880, 1000, 16)\n",
    "test_samples = test_samples.reshape((36*20, 1000, 16))  # (720, 1000, 16)\n",
    "val_samples = val_samples.reshape((36*16, 1000, 16))  # (720, 1000, 16)\n",
    "\n",
    "# Create labels\n",
    "train_labels = np.repeat(np.arange(36), 64)\n",
    "test_labels = np.repeat(np.arange(36), 20)\n",
    "val_labels = np.repeat(np.arange(36), 16)\n",
    "\n",
    "# Shuffle the train one more time after flattening\n",
    "indices = torch.randperm(len(train_samples))\n",
    "train_samples = train_samples[indices]\n",
    "train_labels = train_labels[indices]\n",
    "\n",
    "# One-hot encoding not needed for pytorch CrossEntropyLoss\n",
    "train_samples = torch.tensor(train_samples.reshape(2304, 1, 1000, 16), dtype=torch.float32)\n",
    "val_samples = torch.tensor(val_samples.reshape(576, 1, 1000, 16), dtype=torch.float32)\n",
    "test_samples = torch.tensor(test_samples.reshape(720, 1, 1000, 16), dtype=torch.float32)\n",
    "\n",
    "train_labels = torch.tensor(train_labels, dtype=torch.long)\n",
    "test_labels = torch.tensor(test_labels, dtype=torch.long)\n",
    "val_labels = torch.tensor(val_labels, dtype=torch.long)"
   ]
  },
  {
   "cell_type": "code",
   "execution_count": 4,
   "id": "e0aa29a1-9415-4d53-8ad4-8cff95e25268",
   "metadata": {
    "tags": []
   },
   "outputs": [],
   "source": [
    "# Model Definition\n",
    "class MCTestTacNet(nn.Module):\n",
    "    def __init__(self):\n",
    "        super(MCTestTacNet, self).__init__()\n",
    "        self.conv1 = nn.Conv2d(1, 32, kernel_size=(15, 5))\n",
    "        self.bn1 = nn.BatchNorm2d(32)\n",
    "        self.pool1 = nn.MaxPool2d(kernel_size=(10, 1), stride=1)\n",
    "        self.conv2 = nn.Conv2d(32, 64, kernel_size=(15, 5))\n",
    "        self.bn2 = nn.BatchNorm2d(64)\n",
    "        self.pool2 = nn.MaxPool2d(kernel_size=(10, 1), stride=1)\n",
    "        self.conv3 = nn.Conv2d(64, 128, kernel_size=(15, 5))\n",
    "        self.bn3 = nn.BatchNorm2d(128)\n",
    "        self.pool3 = nn.MaxPool2d(kernel_size=(10, 1), stride=1)\n",
    "        self.dropout = nn.Dropout(0.8)\n",
    "\n",
    "        # Dummy forward pass to calculate the flattened size\n",
    "        self.flattened_size = self._get_flatten_size()\n",
    "\n",
    "        self.fc1 = nn.Linear(self.flattened_size, 512)\n",
    "        self.bn4 = nn.BatchNorm1d(512)\n",
    "        self.fc2 = nn.Linear(512, 36)\n",
    "\n",
    "    def _get_flatten_size(self): # helper function for dynamic sizing of linear layer\n",
    "        with torch.no_grad():\n",
    "            x = torch.zeros(1, 1, 1000, 16)  # example\n",
    "            x = self.pool3(self.bn3(self.conv3(self.pool2(self.bn2(self.conv2(self.pool1(self.bn1(self.conv1(x)))))))))\n",
    "            return x.view(1, -1).size(1)\n",
    "\n",
    "    def forward(self, x):\n",
    "        x = F.relu(self.bn1(self.conv1(x)))\n",
    "        x = self.pool1(x)\n",
    "        x = F.relu(self.bn2(self.conv2(x)))\n",
    "        x = self.pool2(x)\n",
    "        x = F.relu(self.bn3(self.conv3(x)))\n",
    "        x = self.pool3(x)\n",
    "        x = torch.flatten(x, start_dim=1)\n",
    "        x = F.relu(self.bn4(self.fc1(self.dropout(x))))\n",
    "        x = self.fc2(x)  # no softmax bc cross entropy loss includes it\n",
    "        return x\n"
   ]
  },
  {
   "cell_type": "code",
   "execution_count": 6,
   "id": "1f75e1bd-fddd-4018-a067-bee5545d5342",
   "metadata": {
    "tags": []
   },
   "outputs": [
    {
     "name": "stderr",
     "output_type": "stream",
     "text": [
      "Epoch [1/200]: 100%|██████████| 64/64 [00:19<00:00,  3.21batch/s]\n"
     ]
    },
    {
     "name": "stdout",
     "output_type": "stream",
     "text": [
      "Epoch [1/200], Loss: 2.6312\n",
      "Validation Loss: 2.1701\n"
     ]
    },
    {
     "name": "stderr",
     "output_type": "stream",
     "text": [
      "Epoch [2/200]: 100%|██████████| 64/64 [00:20<00:00,  3.09batch/s]\n"
     ]
    },
    {
     "name": "stdout",
     "output_type": "stream",
     "text": [
      "Epoch [2/200], Loss: 1.7266\n",
      "Validation Loss: 1.8168\n"
     ]
    },
    {
     "name": "stderr",
     "output_type": "stream",
     "text": [
      "Epoch [3/200]: 100%|██████████| 64/64 [00:21<00:00,  3.03batch/s]\n"
     ]
    },
    {
     "name": "stdout",
     "output_type": "stream",
     "text": [
      "Epoch [3/200], Loss: 1.2393\n",
      "Validation Loss: 1.5140\n"
     ]
    },
    {
     "name": "stderr",
     "output_type": "stream",
     "text": [
      "Epoch [4/200]: 100%|██████████| 64/64 [00:20<00:00,  3.09batch/s]\n"
     ]
    },
    {
     "name": "stdout",
     "output_type": "stream",
     "text": [
      "Epoch [4/200], Loss: 0.8966\n",
      "Validation Loss: 1.3783\n"
     ]
    },
    {
     "name": "stderr",
     "output_type": "stream",
     "text": [
      "Epoch [5/200]: 100%|██████████| 64/64 [00:20<00:00,  3.11batch/s]\n"
     ]
    },
    {
     "name": "stdout",
     "output_type": "stream",
     "text": [
      "Epoch [5/200], Loss: 0.6130\n",
      "Validation Loss: 1.2680\n"
     ]
    },
    {
     "name": "stderr",
     "output_type": "stream",
     "text": [
      "Epoch [6/200]: 100%|██████████| 64/64 [00:20<00:00,  3.08batch/s]\n"
     ]
    },
    {
     "name": "stdout",
     "output_type": "stream",
     "text": [
      "Epoch [6/200], Loss: 0.3801\n",
      "Validation Loss: 1.2027\n"
     ]
    },
    {
     "name": "stderr",
     "output_type": "stream",
     "text": [
      "Epoch [7/200]: 100%|██████████| 64/64 [00:20<00:00,  3.07batch/s]\n"
     ]
    },
    {
     "name": "stdout",
     "output_type": "stream",
     "text": [
      "Epoch [7/200], Loss: 0.2452\n",
      "Validation Loss: 1.1928\n"
     ]
    },
    {
     "name": "stderr",
     "output_type": "stream",
     "text": [
      "Epoch [8/200]: 100%|██████████| 64/64 [00:20<00:00,  3.08batch/s]\n"
     ]
    },
    {
     "name": "stdout",
     "output_type": "stream",
     "text": [
      "Epoch [8/200], Loss: 0.1715\n",
      "Validation Loss: 1.1921\n"
     ]
    },
    {
     "name": "stderr",
     "output_type": "stream",
     "text": [
      "Epoch [9/200]: 100%|██████████| 64/64 [00:20<00:00,  3.08batch/s]\n"
     ]
    },
    {
     "name": "stdout",
     "output_type": "stream",
     "text": [
      "Epoch [9/200], Loss: 0.1121\n",
      "Validation Loss: 1.1505\n"
     ]
    },
    {
     "name": "stderr",
     "output_type": "stream",
     "text": [
      "Epoch [10/200]: 100%|██████████| 64/64 [00:20<00:00,  3.08batch/s]\n"
     ]
    },
    {
     "name": "stdout",
     "output_type": "stream",
     "text": [
      "Epoch [10/200], Loss: 0.0809\n",
      "Validation Loss: 1.1285\n"
     ]
    },
    {
     "name": "stderr",
     "output_type": "stream",
     "text": [
      "Epoch [11/200]: 100%|██████████| 64/64 [00:20<00:00,  3.08batch/s]\n"
     ]
    },
    {
     "name": "stdout",
     "output_type": "stream",
     "text": [
      "Epoch [11/200], Loss: 0.0629\n",
      "Validation Loss: 1.0964\n"
     ]
    },
    {
     "name": "stderr",
     "output_type": "stream",
     "text": [
      "Epoch [12/200]: 100%|██████████| 64/64 [00:20<00:00,  3.08batch/s]\n"
     ]
    },
    {
     "name": "stdout",
     "output_type": "stream",
     "text": [
      "Epoch [12/200], Loss: 0.0481\n",
      "Validation Loss: 1.1067\n"
     ]
    },
    {
     "name": "stderr",
     "output_type": "stream",
     "text": [
      "Epoch [13/200]: 100%|██████████| 64/64 [00:20<00:00,  3.08batch/s]\n"
     ]
    },
    {
     "name": "stdout",
     "output_type": "stream",
     "text": [
      "Epoch [13/200], Loss: 0.0409\n",
      "Validation Loss: 1.0791\n"
     ]
    },
    {
     "name": "stderr",
     "output_type": "stream",
     "text": [
      "Epoch [14/200]: 100%|██████████| 64/64 [00:20<00:00,  3.08batch/s]\n"
     ]
    },
    {
     "name": "stdout",
     "output_type": "stream",
     "text": [
      "Epoch [14/200], Loss: 0.0332\n",
      "Validation Loss: 1.0630\n"
     ]
    },
    {
     "name": "stderr",
     "output_type": "stream",
     "text": [
      "Epoch [15/200]: 100%|██████████| 64/64 [00:20<00:00,  3.08batch/s]\n"
     ]
    },
    {
     "name": "stdout",
     "output_type": "stream",
     "text": [
      "Epoch [15/200], Loss: 0.0305\n",
      "Validation Loss: 1.0606\n"
     ]
    },
    {
     "name": "stderr",
     "output_type": "stream",
     "text": [
      "Epoch [16/200]: 100%|██████████| 64/64 [00:20<00:00,  3.08batch/s]\n"
     ]
    },
    {
     "name": "stdout",
     "output_type": "stream",
     "text": [
      "Epoch [16/200], Loss: 0.0245\n",
      "Validation Loss: 1.0410\n"
     ]
    },
    {
     "name": "stderr",
     "output_type": "stream",
     "text": [
      "Epoch [17/200]: 100%|██████████| 64/64 [00:20<00:00,  3.08batch/s]\n"
     ]
    },
    {
     "name": "stdout",
     "output_type": "stream",
     "text": [
      "Epoch [17/200], Loss: 0.0219\n",
      "Validation Loss: 1.0547\n"
     ]
    },
    {
     "name": "stderr",
     "output_type": "stream",
     "text": [
      "Epoch [18/200]: 100%|██████████| 64/64 [00:20<00:00,  3.08batch/s]\n"
     ]
    },
    {
     "name": "stdout",
     "output_type": "stream",
     "text": [
      "Epoch [18/200], Loss: 0.0207\n",
      "Validation Loss: 1.0599\n"
     ]
    },
    {
     "name": "stderr",
     "output_type": "stream",
     "text": [
      "Epoch [19/200]: 100%|██████████| 64/64 [00:20<00:00,  3.08batch/s]\n"
     ]
    },
    {
     "name": "stdout",
     "output_type": "stream",
     "text": [
      "Epoch [19/200], Loss: 0.0176\n",
      "Validation Loss: 1.0496\n"
     ]
    },
    {
     "name": "stderr",
     "output_type": "stream",
     "text": [
      "Epoch [20/200]: 100%|██████████| 64/64 [00:20<00:00,  3.08batch/s]\n"
     ]
    },
    {
     "name": "stdout",
     "output_type": "stream",
     "text": [
      "Epoch [20/200], Loss: 0.0159\n",
      "Validation Loss: 1.0358\n"
     ]
    },
    {
     "name": "stderr",
     "output_type": "stream",
     "text": [
      "Epoch [21/200]: 100%|██████████| 64/64 [00:20<00:00,  3.08batch/s]\n"
     ]
    },
    {
     "name": "stdout",
     "output_type": "stream",
     "text": [
      "Epoch [21/200], Loss: 0.0148\n",
      "Validation Loss: 1.0516\n"
     ]
    },
    {
     "name": "stderr",
     "output_type": "stream",
     "text": [
      "Epoch [22/200]: 100%|██████████| 64/64 [00:20<00:00,  3.08batch/s]\n"
     ]
    },
    {
     "name": "stdout",
     "output_type": "stream",
     "text": [
      "Epoch [22/200], Loss: 0.0136\n",
      "Validation Loss: 1.0366\n"
     ]
    },
    {
     "name": "stderr",
     "output_type": "stream",
     "text": [
      "Epoch [23/200]: 100%|██████████| 64/64 [00:20<00:00,  3.08batch/s]\n"
     ]
    },
    {
     "name": "stdout",
     "output_type": "stream",
     "text": [
      "Epoch [23/200], Loss: 0.0122\n",
      "Validation Loss: 1.0435\n"
     ]
    },
    {
     "name": "stderr",
     "output_type": "stream",
     "text": [
      "Epoch [24/200]: 100%|██████████| 64/64 [00:20<00:00,  3.08batch/s]\n"
     ]
    },
    {
     "name": "stdout",
     "output_type": "stream",
     "text": [
      "Epoch [24/200], Loss: 0.0109\n",
      "Validation Loss: 1.0291\n"
     ]
    },
    {
     "name": "stderr",
     "output_type": "stream",
     "text": [
      "Epoch [25/200]: 100%|██████████| 64/64 [00:20<00:00,  3.08batch/s]\n"
     ]
    },
    {
     "name": "stdout",
     "output_type": "stream",
     "text": [
      "Epoch [25/200], Loss: 0.0107\n",
      "Validation Loss: 1.0224\n"
     ]
    },
    {
     "name": "stderr",
     "output_type": "stream",
     "text": [
      "Epoch [26/200]: 100%|██████████| 64/64 [00:20<00:00,  3.08batch/s]\n"
     ]
    },
    {
     "name": "stdout",
     "output_type": "stream",
     "text": [
      "Epoch [26/200], Loss: 0.0095\n",
      "Validation Loss: 1.0345\n"
     ]
    },
    {
     "name": "stderr",
     "output_type": "stream",
     "text": [
      "Epoch [27/200]: 100%|██████████| 64/64 [00:20<00:00,  3.08batch/s]\n"
     ]
    },
    {
     "name": "stdout",
     "output_type": "stream",
     "text": [
      "Epoch [27/200], Loss: 0.0085\n",
      "Validation Loss: 1.0300\n"
     ]
    },
    {
     "name": "stderr",
     "output_type": "stream",
     "text": [
      "Epoch [28/200]: 100%|██████████| 64/64 [00:20<00:00,  3.08batch/s]\n"
     ]
    },
    {
     "name": "stdout",
     "output_type": "stream",
     "text": [
      "Epoch [28/200], Loss: 0.0078\n",
      "Validation Loss: 1.0325\n"
     ]
    },
    {
     "name": "stderr",
     "output_type": "stream",
     "text": [
      "Epoch [29/200]: 100%|██████████| 64/64 [00:20<00:00,  3.08batch/s]\n"
     ]
    },
    {
     "name": "stdout",
     "output_type": "stream",
     "text": [
      "Epoch [29/200], Loss: 0.0073\n",
      "Validation Loss: 1.0276\n"
     ]
    },
    {
     "name": "stderr",
     "output_type": "stream",
     "text": [
      "Epoch [30/200]: 100%|██████████| 64/64 [00:20<00:00,  3.08batch/s]\n"
     ]
    },
    {
     "name": "stdout",
     "output_type": "stream",
     "text": [
      "Epoch [30/200], Loss: 0.0070\n",
      "Validation Loss: 1.0378\n"
     ]
    },
    {
     "name": "stderr",
     "output_type": "stream",
     "text": [
      "Epoch [31/200]: 100%|██████████| 64/64 [00:20<00:00,  3.08batch/s]\n"
     ]
    },
    {
     "name": "stdout",
     "output_type": "stream",
     "text": [
      "Epoch [31/200], Loss: 0.0064\n",
      "Validation Loss: 1.0284\n"
     ]
    },
    {
     "name": "stderr",
     "output_type": "stream",
     "text": [
      "Epoch [32/200]: 100%|██████████| 64/64 [00:20<00:00,  3.08batch/s]\n"
     ]
    },
    {
     "name": "stdout",
     "output_type": "stream",
     "text": [
      "Epoch [32/200], Loss: 0.0061\n",
      "Validation Loss: 1.0376\n"
     ]
    },
    {
     "name": "stderr",
     "output_type": "stream",
     "text": [
      "Epoch [33/200]: 100%|██████████| 64/64 [00:20<00:00,  3.08batch/s]\n"
     ]
    },
    {
     "name": "stdout",
     "output_type": "stream",
     "text": [
      "Epoch [33/200], Loss: 0.0057\n",
      "Validation Loss: 1.0272\n"
     ]
    },
    {
     "name": "stderr",
     "output_type": "stream",
     "text": [
      "Epoch [34/200]: 100%|██████████| 64/64 [00:20<00:00,  3.08batch/s]\n"
     ]
    },
    {
     "name": "stdout",
     "output_type": "stream",
     "text": [
      "Epoch [34/200], Loss: 0.0053\n",
      "Validation Loss: 1.0416\n"
     ]
    },
    {
     "name": "stderr",
     "output_type": "stream",
     "text": [
      "Epoch [35/200]: 100%|██████████| 64/64 [00:20<00:00,  3.08batch/s]\n"
     ]
    },
    {
     "name": "stdout",
     "output_type": "stream",
     "text": [
      "Epoch [35/200], Loss: 0.0049\n",
      "Validation Loss: 1.0256\n"
     ]
    },
    {
     "name": "stderr",
     "output_type": "stream",
     "text": [
      "Epoch [36/200]: 100%|██████████| 64/64 [00:20<00:00,  3.09batch/s]\n"
     ]
    },
    {
     "name": "stdout",
     "output_type": "stream",
     "text": [
      "Epoch [36/200], Loss: 0.0044\n",
      "Validation Loss: 1.0281\n"
     ]
    },
    {
     "name": "stderr",
     "output_type": "stream",
     "text": [
      "Epoch [37/200]: 100%|██████████| 64/64 [00:20<00:00,  3.08batch/s]\n"
     ]
    },
    {
     "name": "stdout",
     "output_type": "stream",
     "text": [
      "Epoch [37/200], Loss: 0.0040\n",
      "Validation Loss: 1.0131\n"
     ]
    },
    {
     "name": "stderr",
     "output_type": "stream",
     "text": [
      "Epoch [38/200]: 100%|██████████| 64/64 [00:20<00:00,  3.08batch/s]\n"
     ]
    },
    {
     "name": "stdout",
     "output_type": "stream",
     "text": [
      "Epoch [38/200], Loss: 0.0038\n",
      "Validation Loss: 1.0155\n"
     ]
    },
    {
     "name": "stderr",
     "output_type": "stream",
     "text": [
      "Epoch [39/200]: 100%|██████████| 64/64 [00:20<00:00,  3.08batch/s]\n"
     ]
    },
    {
     "name": "stdout",
     "output_type": "stream",
     "text": [
      "Epoch [39/200], Loss: 0.0040\n",
      "Validation Loss: 1.0271\n"
     ]
    },
    {
     "name": "stderr",
     "output_type": "stream",
     "text": [
      "Epoch [40/200]: 100%|██████████| 64/64 [00:20<00:00,  3.08batch/s]\n"
     ]
    },
    {
     "name": "stdout",
     "output_type": "stream",
     "text": [
      "Epoch [40/200], Loss: 0.0037\n",
      "Validation Loss: 1.0138\n"
     ]
    },
    {
     "name": "stderr",
     "output_type": "stream",
     "text": [
      "Epoch [41/200]: 100%|██████████| 64/64 [00:20<00:00,  3.08batch/s]\n"
     ]
    },
    {
     "name": "stdout",
     "output_type": "stream",
     "text": [
      "Epoch [41/200], Loss: 0.0034\n",
      "Validation Loss: 1.0213\n"
     ]
    },
    {
     "name": "stderr",
     "output_type": "stream",
     "text": [
      "Epoch [42/200]: 100%|██████████| 64/64 [00:20<00:00,  3.08batch/s]\n"
     ]
    },
    {
     "name": "stdout",
     "output_type": "stream",
     "text": [
      "Epoch [42/200], Loss: 0.0033\n",
      "Validation Loss: 1.0334\n"
     ]
    },
    {
     "name": "stderr",
     "output_type": "stream",
     "text": [
      "Epoch [43/200]: 100%|██████████| 64/64 [00:20<00:00,  3.08batch/s]\n"
     ]
    },
    {
     "name": "stdout",
     "output_type": "stream",
     "text": [
      "Epoch [43/200], Loss: 0.0031\n",
      "Validation Loss: 1.0243\n"
     ]
    },
    {
     "name": "stderr",
     "output_type": "stream",
     "text": [
      "Epoch [44/200]: 100%|██████████| 64/64 [00:20<00:00,  3.08batch/s]\n"
     ]
    },
    {
     "name": "stdout",
     "output_type": "stream",
     "text": [
      "Epoch [44/200], Loss: 0.0029\n",
      "Validation Loss: 1.0153\n"
     ]
    },
    {
     "name": "stderr",
     "output_type": "stream",
     "text": [
      "Epoch [45/200]: 100%|██████████| 64/64 [00:20<00:00,  3.08batch/s]\n"
     ]
    },
    {
     "name": "stdout",
     "output_type": "stream",
     "text": [
      "Epoch [45/200], Loss: 0.0030\n",
      "Validation Loss: 1.0222\n"
     ]
    },
    {
     "name": "stderr",
     "output_type": "stream",
     "text": [
      "Epoch [46/200]: 100%|██████████| 64/64 [00:20<00:00,  3.09batch/s]\n"
     ]
    },
    {
     "name": "stdout",
     "output_type": "stream",
     "text": [
      "Epoch [46/200], Loss: 0.0027\n",
      "Validation Loss: 1.0199\n"
     ]
    },
    {
     "name": "stderr",
     "output_type": "stream",
     "text": [
      "Epoch [47/200]: 100%|██████████| 64/64 [00:20<00:00,  3.08batch/s]\n"
     ]
    },
    {
     "name": "stdout",
     "output_type": "stream",
     "text": [
      "Epoch [47/200], Loss: 0.0026\n",
      "Validation Loss: 1.0360\n"
     ]
    },
    {
     "name": "stderr",
     "output_type": "stream",
     "text": [
      "Epoch [48/200]: 100%|██████████| 64/64 [00:20<00:00,  3.08batch/s]\n"
     ]
    },
    {
     "name": "stdout",
     "output_type": "stream",
     "text": [
      "Epoch [48/200], Loss: 0.0023\n",
      "Validation Loss: 1.0145\n"
     ]
    },
    {
     "name": "stderr",
     "output_type": "stream",
     "text": [
      "Epoch [49/200]: 100%|██████████| 64/64 [00:20<00:00,  3.08batch/s]\n"
     ]
    },
    {
     "name": "stdout",
     "output_type": "stream",
     "text": [
      "Epoch [49/200], Loss: 0.0023\n",
      "Validation Loss: 1.0168\n"
     ]
    },
    {
     "name": "stderr",
     "output_type": "stream",
     "text": [
      "Epoch [50/200]: 100%|██████████| 64/64 [00:20<00:00,  3.08batch/s]\n"
     ]
    },
    {
     "name": "stdout",
     "output_type": "stream",
     "text": [
      "Epoch [50/200], Loss: 0.0021\n",
      "Validation Loss: 1.0234\n"
     ]
    },
    {
     "name": "stderr",
     "output_type": "stream",
     "text": [
      "Epoch [51/200]: 100%|██████████| 64/64 [00:20<00:00,  3.08batch/s]\n"
     ]
    },
    {
     "name": "stdout",
     "output_type": "stream",
     "text": [
      "Epoch [51/200], Loss: 0.0021\n",
      "Validation Loss: 1.0118\n"
     ]
    },
    {
     "name": "stderr",
     "output_type": "stream",
     "text": [
      "Epoch [52/200]: 100%|██████████| 64/64 [00:20<00:00,  3.08batch/s]\n"
     ]
    },
    {
     "name": "stdout",
     "output_type": "stream",
     "text": [
      "Epoch [52/200], Loss: 0.0019\n",
      "Validation Loss: 1.0178\n"
     ]
    },
    {
     "name": "stderr",
     "output_type": "stream",
     "text": [
      "Epoch [53/200]: 100%|██████████| 64/64 [00:20<00:00,  3.08batch/s]\n"
     ]
    },
    {
     "name": "stdout",
     "output_type": "stream",
     "text": [
      "Epoch [53/200], Loss: 0.0019\n",
      "Validation Loss: 1.0223\n"
     ]
    },
    {
     "name": "stderr",
     "output_type": "stream",
     "text": [
      "Epoch [54/200]: 100%|██████████| 64/64 [00:20<00:00,  3.08batch/s]\n"
     ]
    },
    {
     "name": "stdout",
     "output_type": "stream",
     "text": [
      "Epoch [54/200], Loss: 0.0018\n",
      "Validation Loss: 1.0305\n"
     ]
    },
    {
     "name": "stderr",
     "output_type": "stream",
     "text": [
      "Epoch [55/200]: 100%|██████████| 64/64 [00:20<00:00,  3.08batch/s]\n"
     ]
    },
    {
     "name": "stdout",
     "output_type": "stream",
     "text": [
      "Epoch [55/200], Loss: 0.0018\n",
      "Validation Loss: 1.0259\n"
     ]
    },
    {
     "name": "stderr",
     "output_type": "stream",
     "text": [
      "Epoch [56/200]: 100%|██████████| 64/64 [00:20<00:00,  3.08batch/s]\n"
     ]
    },
    {
     "name": "stdout",
     "output_type": "stream",
     "text": [
      "Epoch [56/200], Loss: 0.0017\n",
      "Validation Loss: 1.0191\n"
     ]
    },
    {
     "name": "stderr",
     "output_type": "stream",
     "text": [
      "Epoch [57/200]: 100%|██████████| 64/64 [00:20<00:00,  3.08batch/s]\n"
     ]
    },
    {
     "name": "stdout",
     "output_type": "stream",
     "text": [
      "Epoch [57/200], Loss: 0.0017\n",
      "Validation Loss: 1.0217\n"
     ]
    },
    {
     "name": "stderr",
     "output_type": "stream",
     "text": [
      "Epoch [58/200]: 100%|██████████| 64/64 [00:20<00:00,  3.09batch/s]\n"
     ]
    },
    {
     "name": "stdout",
     "output_type": "stream",
     "text": [
      "Epoch [58/200], Loss: 0.0016\n",
      "Validation Loss: 1.0092\n"
     ]
    },
    {
     "name": "stderr",
     "output_type": "stream",
     "text": [
      "Epoch [59/200]: 100%|██████████| 64/64 [00:20<00:00,  3.08batch/s]\n"
     ]
    },
    {
     "name": "stdout",
     "output_type": "stream",
     "text": [
      "Epoch [59/200], Loss: 0.0015\n",
      "Validation Loss: 1.0246\n"
     ]
    },
    {
     "name": "stderr",
     "output_type": "stream",
     "text": [
      "Epoch [60/200]: 100%|██████████| 64/64 [00:20<00:00,  3.08batch/s]\n"
     ]
    },
    {
     "name": "stdout",
     "output_type": "stream",
     "text": [
      "Epoch [60/200], Loss: 0.0014\n",
      "Validation Loss: 1.0225\n"
     ]
    },
    {
     "name": "stderr",
     "output_type": "stream",
     "text": [
      "Epoch [61/200]: 100%|██████████| 64/64 [00:20<00:00,  3.08batch/s]\n"
     ]
    },
    {
     "name": "stdout",
     "output_type": "stream",
     "text": [
      "Epoch [61/200], Loss: 0.0014\n",
      "Validation Loss: 1.0134\n"
     ]
    },
    {
     "name": "stderr",
     "output_type": "stream",
     "text": [
      "Epoch [62/200]: 100%|██████████| 64/64 [00:20<00:00,  3.08batch/s]\n"
     ]
    },
    {
     "name": "stdout",
     "output_type": "stream",
     "text": [
      "Epoch [62/200], Loss: 0.0014\n",
      "Validation Loss: 1.0162\n"
     ]
    },
    {
     "name": "stderr",
     "output_type": "stream",
     "text": [
      "Epoch [63/200]: 100%|██████████| 64/64 [00:20<00:00,  3.08batch/s]\n"
     ]
    },
    {
     "name": "stdout",
     "output_type": "stream",
     "text": [
      "Epoch [63/200], Loss: 0.0013\n",
      "Validation Loss: 1.0258\n"
     ]
    },
    {
     "name": "stderr",
     "output_type": "stream",
     "text": [
      "Epoch [64/200]: 100%|██████████| 64/64 [00:20<00:00,  3.07batch/s]\n"
     ]
    },
    {
     "name": "stdout",
     "output_type": "stream",
     "text": [
      "Epoch [64/200], Loss: 0.0012\n",
      "Validation Loss: 1.0130\n"
     ]
    },
    {
     "name": "stderr",
     "output_type": "stream",
     "text": [
      "Epoch [65/200]: 100%|██████████| 64/64 [00:20<00:00,  3.08batch/s]\n"
     ]
    },
    {
     "name": "stdout",
     "output_type": "stream",
     "text": [
      "Epoch [65/200], Loss: 0.0012\n",
      "Validation Loss: 1.0180\n"
     ]
    },
    {
     "name": "stderr",
     "output_type": "stream",
     "text": [
      "Epoch [66/200]: 100%|██████████| 64/64 [00:20<00:00,  3.08batch/s]\n"
     ]
    },
    {
     "name": "stdout",
     "output_type": "stream",
     "text": [
      "Epoch [66/200], Loss: 0.0010\n",
      "Validation Loss: 1.0205\n"
     ]
    },
    {
     "name": "stderr",
     "output_type": "stream",
     "text": [
      "Epoch [67/200]: 100%|██████████| 64/64 [00:20<00:00,  3.08batch/s]\n"
     ]
    },
    {
     "name": "stdout",
     "output_type": "stream",
     "text": [
      "Epoch [67/200], Loss: 0.0010\n",
      "Validation Loss: 1.0146\n"
     ]
    },
    {
     "name": "stderr",
     "output_type": "stream",
     "text": [
      "Epoch [68/200]: 100%|██████████| 64/64 [00:20<00:00,  3.08batch/s]\n"
     ]
    },
    {
     "name": "stdout",
     "output_type": "stream",
     "text": [
      "Epoch [68/200], Loss: 0.0010\n",
      "Validation Loss: 1.0159\n"
     ]
    },
    {
     "name": "stderr",
     "output_type": "stream",
     "text": [
      "Epoch [69/200]: 100%|██████████| 64/64 [00:20<00:00,  3.08batch/s]\n"
     ]
    },
    {
     "name": "stdout",
     "output_type": "stream",
     "text": [
      "Epoch [69/200], Loss: 0.0009\n",
      "Validation Loss: 1.0166\n"
     ]
    },
    {
     "name": "stderr",
     "output_type": "stream",
     "text": [
      "Epoch [70/200]: 100%|██████████| 64/64 [00:20<00:00,  3.09batch/s]\n"
     ]
    },
    {
     "name": "stdout",
     "output_type": "stream",
     "text": [
      "Epoch [70/200], Loss: 0.0009\n",
      "Validation Loss: 1.0187\n"
     ]
    },
    {
     "name": "stderr",
     "output_type": "stream",
     "text": [
      "Epoch [71/200]: 100%|██████████| 64/64 [00:20<00:00,  3.08batch/s]\n"
     ]
    },
    {
     "name": "stdout",
     "output_type": "stream",
     "text": [
      "Epoch [71/200], Loss: 0.0009\n",
      "Validation Loss: 1.0178\n"
     ]
    },
    {
     "name": "stderr",
     "output_type": "stream",
     "text": [
      "Epoch [72/200]: 100%|██████████| 64/64 [00:20<00:00,  3.08batch/s]\n"
     ]
    },
    {
     "name": "stdout",
     "output_type": "stream",
     "text": [
      "Epoch [72/200], Loss: 0.0009\n",
      "Validation Loss: 1.0148\n"
     ]
    },
    {
     "name": "stderr",
     "output_type": "stream",
     "text": [
      "Epoch [73/200]: 100%|██████████| 64/64 [00:20<00:00,  3.10batch/s]\n"
     ]
    },
    {
     "name": "stdout",
     "output_type": "stream",
     "text": [
      "Epoch [73/200], Loss: 0.0009\n",
      "Validation Loss: 1.0193\n"
     ]
    },
    {
     "name": "stderr",
     "output_type": "stream",
     "text": [
      "Epoch [74/200]: 100%|██████████| 64/64 [00:20<00:00,  3.08batch/s]\n"
     ]
    },
    {
     "name": "stdout",
     "output_type": "stream",
     "text": [
      "Epoch [74/200], Loss: 0.0008\n",
      "Validation Loss: 1.0174\n"
     ]
    },
    {
     "name": "stderr",
     "output_type": "stream",
     "text": [
      "Epoch [75/200]: 100%|██████████| 64/64 [00:20<00:00,  3.08batch/s]\n"
     ]
    },
    {
     "name": "stdout",
     "output_type": "stream",
     "text": [
      "Epoch [75/200], Loss: 0.0007\n",
      "Validation Loss: 1.0246\n"
     ]
    },
    {
     "name": "stderr",
     "output_type": "stream",
     "text": [
      "Epoch [76/200]: 100%|██████████| 64/64 [00:20<00:00,  3.08batch/s]\n"
     ]
    },
    {
     "name": "stdout",
     "output_type": "stream",
     "text": [
      "Epoch [76/200], Loss: 0.0007\n",
      "Validation Loss: 1.0151\n"
     ]
    },
    {
     "name": "stderr",
     "output_type": "stream",
     "text": [
      "Epoch [77/200]: 100%|██████████| 64/64 [00:20<00:00,  3.07batch/s]\n"
     ]
    },
    {
     "name": "stdout",
     "output_type": "stream",
     "text": [
      "Epoch [77/200], Loss: 0.0007\n",
      "Validation Loss: 1.0326\n"
     ]
    },
    {
     "name": "stderr",
     "output_type": "stream",
     "text": [
      "Epoch [78/200]: 100%|██████████| 64/64 [00:20<00:00,  3.08batch/s]\n"
     ]
    },
    {
     "name": "stdout",
     "output_type": "stream",
     "text": [
      "Epoch [78/200], Loss: 0.0007\n",
      "Validation Loss: 1.0180\n"
     ]
    },
    {
     "name": "stderr",
     "output_type": "stream",
     "text": [
      "Epoch [79/200]: 100%|██████████| 64/64 [00:20<00:00,  3.08batch/s]\n"
     ]
    },
    {
     "name": "stdout",
     "output_type": "stream",
     "text": [
      "Epoch [79/200], Loss: 0.0007\n",
      "Validation Loss: 1.0298\n"
     ]
    },
    {
     "name": "stderr",
     "output_type": "stream",
     "text": [
      "Epoch [80/200]: 100%|██████████| 64/64 [00:20<00:00,  3.07batch/s]\n"
     ]
    },
    {
     "name": "stdout",
     "output_type": "stream",
     "text": [
      "Epoch [80/200], Loss: 0.0006\n",
      "Validation Loss: 1.0223\n"
     ]
    },
    {
     "name": "stderr",
     "output_type": "stream",
     "text": [
      "Epoch [81/200]: 100%|██████████| 64/64 [00:20<00:00,  3.08batch/s]\n"
     ]
    },
    {
     "name": "stdout",
     "output_type": "stream",
     "text": [
      "Epoch [81/200], Loss: 0.0006\n",
      "Validation Loss: 1.0298\n"
     ]
    },
    {
     "name": "stderr",
     "output_type": "stream",
     "text": [
      "Epoch [82/200]: 100%|██████████| 64/64 [00:20<00:00,  3.08batch/s]\n"
     ]
    },
    {
     "name": "stdout",
     "output_type": "stream",
     "text": [
      "Epoch [82/200], Loss: 0.0006\n",
      "Validation Loss: 1.0234\n"
     ]
    },
    {
     "name": "stderr",
     "output_type": "stream",
     "text": [
      "Epoch [83/200]: 100%|██████████| 64/64 [00:20<00:00,  3.06batch/s]\n"
     ]
    },
    {
     "name": "stdout",
     "output_type": "stream",
     "text": [
      "Epoch [83/200], Loss: 0.0005\n",
      "Validation Loss: 1.0239\n"
     ]
    },
    {
     "name": "stderr",
     "output_type": "stream",
     "text": [
      "Epoch [84/200]: 100%|██████████| 64/64 [00:20<00:00,  3.08batch/s]\n"
     ]
    },
    {
     "name": "stdout",
     "output_type": "stream",
     "text": [
      "Epoch [84/200], Loss: 0.0006\n",
      "Validation Loss: 1.0461\n"
     ]
    },
    {
     "name": "stderr",
     "output_type": "stream",
     "text": [
      "Epoch [85/200]: 100%|██████████| 64/64 [00:20<00:00,  3.08batch/s]\n"
     ]
    },
    {
     "name": "stdout",
     "output_type": "stream",
     "text": [
      "Epoch [85/200], Loss: 0.0006\n",
      "Validation Loss: 1.0187\n"
     ]
    },
    {
     "name": "stderr",
     "output_type": "stream",
     "text": [
      "Epoch [86/200]: 100%|██████████| 64/64 [00:20<00:00,  3.08batch/s]\n"
     ]
    },
    {
     "name": "stdout",
     "output_type": "stream",
     "text": [
      "Epoch [86/200], Loss: 0.0005\n",
      "Validation Loss: 1.0162\n"
     ]
    },
    {
     "name": "stderr",
     "output_type": "stream",
     "text": [
      "Epoch [87/200]: 100%|██████████| 64/64 [00:20<00:00,  3.08batch/s]\n"
     ]
    },
    {
     "name": "stdout",
     "output_type": "stream",
     "text": [
      "Epoch [87/200], Loss: 0.0005\n",
      "Validation Loss: 1.0226\n"
     ]
    },
    {
     "name": "stderr",
     "output_type": "stream",
     "text": [
      "Epoch [88/200]: 100%|██████████| 64/64 [00:20<00:00,  3.08batch/s]\n"
     ]
    },
    {
     "name": "stdout",
     "output_type": "stream",
     "text": [
      "Epoch [88/200], Loss: 0.0005\n",
      "Validation Loss: 1.0330\n"
     ]
    },
    {
     "name": "stderr",
     "output_type": "stream",
     "text": [
      "Epoch [89/200]: 100%|██████████| 64/64 [00:20<00:00,  3.08batch/s]\n"
     ]
    },
    {
     "name": "stdout",
     "output_type": "stream",
     "text": [
      "Epoch [89/200], Loss: 0.0005\n",
      "Validation Loss: 1.0509\n"
     ]
    },
    {
     "name": "stderr",
     "output_type": "stream",
     "text": [
      "Epoch [90/200]: 100%|██████████| 64/64 [00:20<00:00,  3.08batch/s]\n"
     ]
    },
    {
     "name": "stdout",
     "output_type": "stream",
     "text": [
      "Epoch [90/200], Loss: 0.0004\n",
      "Validation Loss: 1.0358\n"
     ]
    },
    {
     "name": "stderr",
     "output_type": "stream",
     "text": [
      "Epoch [91/200]: 100%|██████████| 64/64 [00:20<00:00,  3.08batch/s]\n"
     ]
    },
    {
     "name": "stdout",
     "output_type": "stream",
     "text": [
      "Epoch [91/200], Loss: 0.0004\n",
      "Validation Loss: 1.0164\n"
     ]
    },
    {
     "name": "stderr",
     "output_type": "stream",
     "text": [
      "Epoch [92/200]: 100%|██████████| 64/64 [00:20<00:00,  3.08batch/s]\n"
     ]
    },
    {
     "name": "stdout",
     "output_type": "stream",
     "text": [
      "Epoch [92/200], Loss: 0.0004\n",
      "Validation Loss: 1.0363\n"
     ]
    },
    {
     "name": "stderr",
     "output_type": "stream",
     "text": [
      "Epoch [93/200]: 100%|██████████| 64/64 [00:20<00:00,  3.08batch/s]\n"
     ]
    },
    {
     "name": "stdout",
     "output_type": "stream",
     "text": [
      "Epoch [93/200], Loss: 0.0004\n",
      "Validation Loss: 1.0355\n"
     ]
    },
    {
     "name": "stderr",
     "output_type": "stream",
     "text": [
      "Epoch [94/200]: 100%|██████████| 64/64 [00:20<00:00,  3.08batch/s]\n"
     ]
    },
    {
     "name": "stdout",
     "output_type": "stream",
     "text": [
      "Epoch [94/200], Loss: 0.0004\n",
      "Validation Loss: 1.0505\n"
     ]
    },
    {
     "name": "stderr",
     "output_type": "stream",
     "text": [
      "Epoch [95/200]: 100%|██████████| 64/64 [00:20<00:00,  3.09batch/s]\n"
     ]
    },
    {
     "name": "stdout",
     "output_type": "stream",
     "text": [
      "Epoch [95/200], Loss: 0.0004\n",
      "Validation Loss: 1.0315\n"
     ]
    },
    {
     "name": "stderr",
     "output_type": "stream",
     "text": [
      "Epoch [96/200]: 100%|██████████| 64/64 [00:20<00:00,  3.08batch/s]\n"
     ]
    },
    {
     "name": "stdout",
     "output_type": "stream",
     "text": [
      "Epoch [96/200], Loss: 0.0004\n",
      "Validation Loss: 1.0340\n"
     ]
    },
    {
     "name": "stderr",
     "output_type": "stream",
     "text": [
      "Epoch [97/200]: 100%|██████████| 64/64 [00:20<00:00,  3.08batch/s]\n"
     ]
    },
    {
     "name": "stdout",
     "output_type": "stream",
     "text": [
      "Epoch [97/200], Loss: 0.0003\n",
      "Validation Loss: 1.0287\n"
     ]
    },
    {
     "name": "stderr",
     "output_type": "stream",
     "text": [
      "Epoch [98/200]: 100%|██████████| 64/64 [00:20<00:00,  3.09batch/s]\n"
     ]
    },
    {
     "name": "stdout",
     "output_type": "stream",
     "text": [
      "Epoch [98/200], Loss: 0.1610\n",
      "Validation Loss: 7.8874\n"
     ]
    },
    {
     "name": "stderr",
     "output_type": "stream",
     "text": [
      "Epoch [99/200]: 100%|██████████| 64/64 [00:20<00:00,  3.08batch/s]\n"
     ]
    },
    {
     "name": "stdout",
     "output_type": "stream",
     "text": [
      "Epoch [99/200], Loss: 0.6871\n",
      "Validation Loss: 1.4000\n"
     ]
    },
    {
     "name": "stderr",
     "output_type": "stream",
     "text": [
      "Epoch [100/200]: 100%|██████████| 64/64 [00:20<00:00,  3.09batch/s]\n"
     ]
    },
    {
     "name": "stdout",
     "output_type": "stream",
     "text": [
      "Epoch [100/200], Loss: 0.1349\n",
      "Validation Loss: 1.1587\n"
     ]
    },
    {
     "name": "stderr",
     "output_type": "stream",
     "text": [
      "Epoch [101/200]: 100%|██████████| 64/64 [00:20<00:00,  3.09batch/s]\n"
     ]
    },
    {
     "name": "stdout",
     "output_type": "stream",
     "text": [
      "Epoch [101/200], Loss: 0.0430\n",
      "Validation Loss: 1.1579\n"
     ]
    },
    {
     "name": "stderr",
     "output_type": "stream",
     "text": [
      "Epoch [102/200]: 100%|██████████| 64/64 [00:20<00:00,  3.08batch/s]\n"
     ]
    },
    {
     "name": "stdout",
     "output_type": "stream",
     "text": [
      "Epoch [102/200], Loss: 0.0183\n",
      "Validation Loss: 1.0525\n"
     ]
    },
    {
     "name": "stderr",
     "output_type": "stream",
     "text": [
      "Epoch [103/200]: 100%|██████████| 64/64 [00:20<00:00,  3.08batch/s]\n"
     ]
    },
    {
     "name": "stdout",
     "output_type": "stream",
     "text": [
      "Epoch [103/200], Loss: 0.0117\n",
      "Validation Loss: 1.0507\n"
     ]
    },
    {
     "name": "stderr",
     "output_type": "stream",
     "text": [
      "Epoch [104/200]: 100%|██████████| 64/64 [00:20<00:00,  3.08batch/s]\n"
     ]
    },
    {
     "name": "stdout",
     "output_type": "stream",
     "text": [
      "Epoch [104/200], Loss: 0.0093\n",
      "Validation Loss: 1.0464\n"
     ]
    },
    {
     "name": "stderr",
     "output_type": "stream",
     "text": [
      "Epoch [105/200]: 100%|██████████| 64/64 [00:20<00:00,  3.08batch/s]\n"
     ]
    },
    {
     "name": "stdout",
     "output_type": "stream",
     "text": [
      "Epoch [105/200], Loss: 0.0074\n",
      "Validation Loss: 1.0719\n"
     ]
    },
    {
     "name": "stderr",
     "output_type": "stream",
     "text": [
      "Epoch [106/200]: 100%|██████████| 64/64 [00:20<00:00,  3.08batch/s]\n"
     ]
    },
    {
     "name": "stdout",
     "output_type": "stream",
     "text": [
      "Epoch [106/200], Loss: 0.0061\n",
      "Validation Loss: 1.0393\n"
     ]
    },
    {
     "name": "stderr",
     "output_type": "stream",
     "text": [
      "Epoch [107/200]: 100%|██████████| 64/64 [00:20<00:00,  3.08batch/s]\n"
     ]
    },
    {
     "name": "stdout",
     "output_type": "stream",
     "text": [
      "Epoch [107/200], Loss: 0.0055\n",
      "Validation Loss: 1.0403\n"
     ]
    },
    {
     "name": "stderr",
     "output_type": "stream",
     "text": [
      "Epoch [108/200]: 100%|██████████| 64/64 [00:20<00:00,  3.08batch/s]\n"
     ]
    },
    {
     "name": "stdout",
     "output_type": "stream",
     "text": [
      "Epoch [108/200], Loss: 0.0052\n",
      "Validation Loss: 1.0318\n"
     ]
    },
    {
     "name": "stderr",
     "output_type": "stream",
     "text": [
      "Epoch [109/200]: 100%|██████████| 64/64 [00:20<00:00,  3.08batch/s]\n"
     ]
    },
    {
     "name": "stdout",
     "output_type": "stream",
     "text": [
      "Epoch [109/200], Loss: 0.0043\n",
      "Validation Loss: 1.0286\n"
     ]
    },
    {
     "name": "stderr",
     "output_type": "stream",
     "text": [
      "Epoch [110/200]: 100%|██████████| 64/64 [00:20<00:00,  3.09batch/s]\n"
     ]
    },
    {
     "name": "stdout",
     "output_type": "stream",
     "text": [
      "Epoch [110/200], Loss: 0.0037\n",
      "Validation Loss: 1.0377\n"
     ]
    },
    {
     "name": "stderr",
     "output_type": "stream",
     "text": [
      "Epoch [111/200]: 100%|██████████| 64/64 [00:20<00:00,  3.08batch/s]\n"
     ]
    },
    {
     "name": "stdout",
     "output_type": "stream",
     "text": [
      "Epoch [111/200], Loss: 0.0036\n",
      "Validation Loss: 1.0447\n"
     ]
    },
    {
     "name": "stderr",
     "output_type": "stream",
     "text": [
      "Epoch [112/200]: 100%|██████████| 64/64 [00:20<00:00,  3.08batch/s]\n"
     ]
    },
    {
     "name": "stdout",
     "output_type": "stream",
     "text": [
      "Epoch [112/200], Loss: 0.0033\n",
      "Validation Loss: 1.0349\n"
     ]
    },
    {
     "name": "stderr",
     "output_type": "stream",
     "text": [
      "Epoch [113/200]: 100%|██████████| 64/64 [00:20<00:00,  3.09batch/s]\n"
     ]
    },
    {
     "name": "stdout",
     "output_type": "stream",
     "text": [
      "Epoch [113/200], Loss: 0.0030\n",
      "Validation Loss: 1.0399\n"
     ]
    },
    {
     "name": "stderr",
     "output_type": "stream",
     "text": [
      "Epoch [114/200]: 100%|██████████| 64/64 [00:20<00:00,  3.08batch/s]\n"
     ]
    },
    {
     "name": "stdout",
     "output_type": "stream",
     "text": [
      "Epoch [114/200], Loss: 0.0028\n",
      "Validation Loss: 1.0575\n"
     ]
    },
    {
     "name": "stderr",
     "output_type": "stream",
     "text": [
      "Epoch [115/200]: 100%|██████████| 64/64 [00:20<00:00,  3.08batch/s]\n"
     ]
    },
    {
     "name": "stdout",
     "output_type": "stream",
     "text": [
      "Epoch [115/200], Loss: 0.0027\n",
      "Validation Loss: 1.0416\n"
     ]
    },
    {
     "name": "stderr",
     "output_type": "stream",
     "text": [
      "Epoch [116/200]: 100%|██████████| 64/64 [00:20<00:00,  3.08batch/s]\n"
     ]
    },
    {
     "name": "stdout",
     "output_type": "stream",
     "text": [
      "Epoch [116/200], Loss: 0.0023\n",
      "Validation Loss: 1.0467\n"
     ]
    },
    {
     "name": "stderr",
     "output_type": "stream",
     "text": [
      "Epoch [117/200]: 100%|██████████| 64/64 [00:20<00:00,  3.08batch/s]\n"
     ]
    },
    {
     "name": "stdout",
     "output_type": "stream",
     "text": [
      "Epoch [117/200], Loss: 0.0024\n",
      "Validation Loss: 1.0488\n"
     ]
    },
    {
     "name": "stderr",
     "output_type": "stream",
     "text": [
      "Epoch [118/200]: 100%|██████████| 64/64 [00:20<00:00,  3.08batch/s]\n"
     ]
    },
    {
     "name": "stdout",
     "output_type": "stream",
     "text": [
      "Epoch [118/200], Loss: 0.0023\n",
      "Validation Loss: 1.0360\n"
     ]
    },
    {
     "name": "stderr",
     "output_type": "stream",
     "text": [
      "Epoch [119/200]: 100%|██████████| 64/64 [00:20<00:00,  3.08batch/s]\n"
     ]
    },
    {
     "name": "stdout",
     "output_type": "stream",
     "text": [
      "Epoch [119/200], Loss: 0.0022\n",
      "Validation Loss: 1.0454\n"
     ]
    },
    {
     "name": "stderr",
     "output_type": "stream",
     "text": [
      "Epoch [120/200]: 100%|██████████| 64/64 [00:20<00:00,  3.08batch/s]\n"
     ]
    },
    {
     "name": "stdout",
     "output_type": "stream",
     "text": [
      "Epoch [120/200], Loss: 0.0019\n",
      "Validation Loss: 1.0454\n"
     ]
    },
    {
     "name": "stderr",
     "output_type": "stream",
     "text": [
      "Epoch [121/200]: 100%|██████████| 64/64 [00:20<00:00,  3.08batch/s]\n"
     ]
    },
    {
     "name": "stdout",
     "output_type": "stream",
     "text": [
      "Epoch [121/200], Loss: 0.0019\n",
      "Validation Loss: 1.0490\n"
     ]
    },
    {
     "name": "stderr",
     "output_type": "stream",
     "text": [
      "Epoch [122/200]: 100%|██████████| 64/64 [00:20<00:00,  3.09batch/s]\n"
     ]
    },
    {
     "name": "stdout",
     "output_type": "stream",
     "text": [
      "Epoch [122/200], Loss: 0.0017\n",
      "Validation Loss: 1.0511\n"
     ]
    },
    {
     "name": "stderr",
     "output_type": "stream",
     "text": [
      "Epoch [123/200]: 100%|██████████| 64/64 [00:20<00:00,  3.09batch/s]\n"
     ]
    },
    {
     "name": "stdout",
     "output_type": "stream",
     "text": [
      "Epoch [123/200], Loss: 0.0021\n",
      "Validation Loss: 1.0531\n"
     ]
    },
    {
     "name": "stderr",
     "output_type": "stream",
     "text": [
      "Epoch [124/200]: 100%|██████████| 64/64 [00:20<00:00,  3.08batch/s]\n"
     ]
    },
    {
     "name": "stdout",
     "output_type": "stream",
     "text": [
      "Epoch [124/200], Loss: 0.0016\n",
      "Validation Loss: 1.0482\n"
     ]
    },
    {
     "name": "stderr",
     "output_type": "stream",
     "text": [
      "Epoch [125/200]: 100%|██████████| 64/64 [00:20<00:00,  3.08batch/s]\n"
     ]
    },
    {
     "name": "stdout",
     "output_type": "stream",
     "text": [
      "Epoch [125/200], Loss: 0.0015\n",
      "Validation Loss: 1.0584\n"
     ]
    },
    {
     "name": "stderr",
     "output_type": "stream",
     "text": [
      "Epoch [126/200]: 100%|██████████| 64/64 [00:20<00:00,  3.07batch/s]\n"
     ]
    },
    {
     "name": "stdout",
     "output_type": "stream",
     "text": [
      "Epoch [126/200], Loss: 0.0015\n",
      "Validation Loss: 1.0441\n"
     ]
    },
    {
     "name": "stderr",
     "output_type": "stream",
     "text": [
      "Epoch [127/200]: 100%|██████████| 64/64 [00:20<00:00,  3.08batch/s]\n"
     ]
    },
    {
     "name": "stdout",
     "output_type": "stream",
     "text": [
      "Epoch [127/200], Loss: 0.0015\n",
      "Validation Loss: 1.0498\n"
     ]
    },
    {
     "name": "stderr",
     "output_type": "stream",
     "text": [
      "Epoch [128/200]: 100%|██████████| 64/64 [00:20<00:00,  3.08batch/s]\n"
     ]
    },
    {
     "name": "stdout",
     "output_type": "stream",
     "text": [
      "Epoch [128/200], Loss: 0.0015\n",
      "Validation Loss: 1.0632\n"
     ]
    },
    {
     "name": "stderr",
     "output_type": "stream",
     "text": [
      "Epoch [129/200]: 100%|██████████| 64/64 [00:20<00:00,  3.08batch/s]\n"
     ]
    },
    {
     "name": "stdout",
     "output_type": "stream",
     "text": [
      "Epoch [129/200], Loss: 0.0014\n",
      "Validation Loss: 1.0535\n"
     ]
    },
    {
     "name": "stderr",
     "output_type": "stream",
     "text": [
      "Epoch [130/200]: 100%|██████████| 64/64 [00:20<00:00,  3.08batch/s]\n"
     ]
    },
    {
     "name": "stdout",
     "output_type": "stream",
     "text": [
      "Epoch [130/200], Loss: 0.0013\n",
      "Validation Loss: 1.0506\n"
     ]
    },
    {
     "name": "stderr",
     "output_type": "stream",
     "text": [
      "Epoch [131/200]: 100%|██████████| 64/64 [00:20<00:00,  3.08batch/s]\n"
     ]
    },
    {
     "name": "stdout",
     "output_type": "stream",
     "text": [
      "Epoch [131/200], Loss: 0.0012\n",
      "Validation Loss: 1.0437\n"
     ]
    },
    {
     "name": "stderr",
     "output_type": "stream",
     "text": [
      "Epoch [132/200]: 100%|██████████| 64/64 [00:20<00:00,  3.08batch/s]\n"
     ]
    },
    {
     "name": "stdout",
     "output_type": "stream",
     "text": [
      "Epoch [132/200], Loss: 0.0011\n",
      "Validation Loss: 1.0521\n"
     ]
    },
    {
     "name": "stderr",
     "output_type": "stream",
     "text": [
      "Epoch [133/200]: 100%|██████████| 64/64 [00:20<00:00,  3.09batch/s]\n"
     ]
    },
    {
     "name": "stdout",
     "output_type": "stream",
     "text": [
      "Epoch [133/200], Loss: 0.0010\n",
      "Validation Loss: 1.0492\n"
     ]
    },
    {
     "name": "stderr",
     "output_type": "stream",
     "text": [
      "Epoch [134/200]: 100%|██████████| 64/64 [00:20<00:00,  3.08batch/s]\n"
     ]
    },
    {
     "name": "stdout",
     "output_type": "stream",
     "text": [
      "Epoch [134/200], Loss: 0.0011\n",
      "Validation Loss: 1.0436\n"
     ]
    },
    {
     "name": "stderr",
     "output_type": "stream",
     "text": [
      "Epoch [135/200]: 100%|██████████| 64/64 [00:20<00:00,  3.09batch/s]\n"
     ]
    },
    {
     "name": "stdout",
     "output_type": "stream",
     "text": [
      "Epoch [135/200], Loss: 0.0010\n",
      "Validation Loss: 1.0499\n"
     ]
    },
    {
     "name": "stderr",
     "output_type": "stream",
     "text": [
      "Epoch [136/200]: 100%|██████████| 64/64 [00:20<00:00,  3.08batch/s]\n"
     ]
    },
    {
     "name": "stdout",
     "output_type": "stream",
     "text": [
      "Epoch [136/200], Loss: 0.0009\n",
      "Validation Loss: 1.0520\n"
     ]
    },
    {
     "name": "stderr",
     "output_type": "stream",
     "text": [
      "Epoch [137/200]: 100%|██████████| 64/64 [00:20<00:00,  3.08batch/s]\n"
     ]
    },
    {
     "name": "stdout",
     "output_type": "stream",
     "text": [
      "Epoch [137/200], Loss: 0.0009\n",
      "Validation Loss: 1.0450\n"
     ]
    },
    {
     "name": "stderr",
     "output_type": "stream",
     "text": [
      "Epoch [138/200]: 100%|██████████| 64/64 [00:20<00:00,  3.09batch/s]\n"
     ]
    },
    {
     "name": "stdout",
     "output_type": "stream",
     "text": [
      "Epoch [138/200], Loss: 0.0008\n",
      "Validation Loss: 1.0426\n"
     ]
    },
    {
     "name": "stderr",
     "output_type": "stream",
     "text": [
      "Epoch [139/200]: 100%|██████████| 64/64 [00:20<00:00,  3.08batch/s]\n"
     ]
    },
    {
     "name": "stdout",
     "output_type": "stream",
     "text": [
      "Epoch [139/200], Loss: 0.0008\n",
      "Validation Loss: 1.0549\n"
     ]
    },
    {
     "name": "stderr",
     "output_type": "stream",
     "text": [
      "Epoch [140/200]: 100%|██████████| 64/64 [00:20<00:00,  3.08batch/s]\n"
     ]
    },
    {
     "name": "stdout",
     "output_type": "stream",
     "text": [
      "Epoch [140/200], Loss: 0.0008\n",
      "Validation Loss: 1.0608\n"
     ]
    },
    {
     "name": "stderr",
     "output_type": "stream",
     "text": [
      "Epoch [141/200]: 100%|██████████| 64/64 [00:20<00:00,  3.08batch/s]\n"
     ]
    },
    {
     "name": "stdout",
     "output_type": "stream",
     "text": [
      "Epoch [141/200], Loss: 0.0008\n",
      "Validation Loss: 1.0501\n"
     ]
    },
    {
     "name": "stderr",
     "output_type": "stream",
     "text": [
      "Epoch [142/200]: 100%|██████████| 64/64 [00:20<00:00,  3.08batch/s]\n"
     ]
    },
    {
     "name": "stdout",
     "output_type": "stream",
     "text": [
      "Epoch [142/200], Loss: 0.0007\n",
      "Validation Loss: 1.0551\n"
     ]
    },
    {
     "name": "stderr",
     "output_type": "stream",
     "text": [
      "Epoch [143/200]: 100%|██████████| 64/64 [00:20<00:00,  3.08batch/s]\n"
     ]
    },
    {
     "name": "stdout",
     "output_type": "stream",
     "text": [
      "Epoch [143/200], Loss: 0.0009\n",
      "Validation Loss: 1.0700\n"
     ]
    },
    {
     "name": "stderr",
     "output_type": "stream",
     "text": [
      "Epoch [144/200]: 100%|██████████| 64/64 [00:20<00:00,  3.08batch/s]\n"
     ]
    },
    {
     "name": "stdout",
     "output_type": "stream",
     "text": [
      "Epoch [144/200], Loss: 0.0007\n",
      "Validation Loss: 1.0701\n"
     ]
    },
    {
     "name": "stderr",
     "output_type": "stream",
     "text": [
      "Epoch [145/200]: 100%|██████████| 64/64 [00:20<00:00,  3.08batch/s]\n"
     ]
    },
    {
     "name": "stdout",
     "output_type": "stream",
     "text": [
      "Epoch [145/200], Loss: 0.0007\n",
      "Validation Loss: 1.0610\n"
     ]
    },
    {
     "name": "stderr",
     "output_type": "stream",
     "text": [
      "Epoch [146/200]: 100%|██████████| 64/64 [00:20<00:00,  3.08batch/s]\n"
     ]
    },
    {
     "name": "stdout",
     "output_type": "stream",
     "text": [
      "Epoch [146/200], Loss: 0.0007\n",
      "Validation Loss: 1.0493\n"
     ]
    },
    {
     "name": "stderr",
     "output_type": "stream",
     "text": [
      "Epoch [147/200]: 100%|██████████| 64/64 [00:20<00:00,  3.08batch/s]\n"
     ]
    },
    {
     "name": "stdout",
     "output_type": "stream",
     "text": [
      "Epoch [147/200], Loss: 0.0006\n",
      "Validation Loss: 1.0687\n"
     ]
    },
    {
     "name": "stderr",
     "output_type": "stream",
     "text": [
      "Epoch [148/200]: 100%|██████████| 64/64 [00:20<00:00,  3.08batch/s]\n"
     ]
    },
    {
     "name": "stdout",
     "output_type": "stream",
     "text": [
      "Epoch [148/200], Loss: 0.0006\n",
      "Validation Loss: 1.0699\n"
     ]
    },
    {
     "name": "stderr",
     "output_type": "stream",
     "text": [
      "Epoch [149/200]: 100%|██████████| 64/64 [00:20<00:00,  3.08batch/s]\n"
     ]
    },
    {
     "name": "stdout",
     "output_type": "stream",
     "text": [
      "Epoch [149/200], Loss: 0.0006\n",
      "Validation Loss: 1.0665\n"
     ]
    },
    {
     "name": "stderr",
     "output_type": "stream",
     "text": [
      "Epoch [150/200]: 100%|██████████| 64/64 [00:20<00:00,  3.08batch/s]\n"
     ]
    },
    {
     "name": "stdout",
     "output_type": "stream",
     "text": [
      "Epoch [150/200], Loss: 0.0006\n",
      "Validation Loss: 1.0591\n"
     ]
    },
    {
     "name": "stderr",
     "output_type": "stream",
     "text": [
      "Epoch [151/200]: 100%|██████████| 64/64 [00:20<00:00,  3.07batch/s]\n"
     ]
    },
    {
     "name": "stdout",
     "output_type": "stream",
     "text": [
      "Epoch [151/200], Loss: 0.0005\n",
      "Validation Loss: 1.0637\n"
     ]
    },
    {
     "name": "stderr",
     "output_type": "stream",
     "text": [
      "Epoch [152/200]: 100%|██████████| 64/64 [00:20<00:00,  3.08batch/s]\n"
     ]
    },
    {
     "name": "stdout",
     "output_type": "stream",
     "text": [
      "Epoch [152/200], Loss: 0.0005\n",
      "Validation Loss: 1.0653\n"
     ]
    },
    {
     "name": "stderr",
     "output_type": "stream",
     "text": [
      "Epoch [153/200]: 100%|██████████| 64/64 [00:20<00:00,  3.07batch/s]\n"
     ]
    },
    {
     "name": "stdout",
     "output_type": "stream",
     "text": [
      "Epoch [153/200], Loss: 0.0005\n",
      "Validation Loss: 1.0666\n"
     ]
    },
    {
     "name": "stderr",
     "output_type": "stream",
     "text": [
      "Epoch [154/200]: 100%|██████████| 64/64 [00:20<00:00,  3.08batch/s]\n"
     ]
    },
    {
     "name": "stdout",
     "output_type": "stream",
     "text": [
      "Epoch [154/200], Loss: 0.0005\n",
      "Validation Loss: 1.0565\n"
     ]
    },
    {
     "name": "stderr",
     "output_type": "stream",
     "text": [
      "Epoch [155/200]: 100%|██████████| 64/64 [00:20<00:00,  3.08batch/s]\n"
     ]
    },
    {
     "name": "stdout",
     "output_type": "stream",
     "text": [
      "Epoch [155/200], Loss: 0.0005\n",
      "Validation Loss: 1.0533\n"
     ]
    },
    {
     "name": "stderr",
     "output_type": "stream",
     "text": [
      "Epoch [156/200]: 100%|██████████| 64/64 [00:20<00:00,  3.07batch/s]\n"
     ]
    },
    {
     "name": "stdout",
     "output_type": "stream",
     "text": [
      "Epoch [156/200], Loss: 0.0004\n",
      "Validation Loss: 1.0787\n"
     ]
    },
    {
     "name": "stderr",
     "output_type": "stream",
     "text": [
      "Epoch [157/200]: 100%|██████████| 64/64 [00:20<00:00,  3.08batch/s]\n"
     ]
    },
    {
     "name": "stdout",
     "output_type": "stream",
     "text": [
      "Epoch [157/200], Loss: 0.0004\n",
      "Validation Loss: 1.0558\n"
     ]
    },
    {
     "name": "stderr",
     "output_type": "stream",
     "text": [
      "Epoch [158/200]: 100%|██████████| 64/64 [00:20<00:00,  3.08batch/s]\n"
     ]
    },
    {
     "name": "stdout",
     "output_type": "stream",
     "text": [
      "Epoch [158/200], Loss: 0.0004\n",
      "Validation Loss: 1.0643\n"
     ]
    },
    {
     "name": "stderr",
     "output_type": "stream",
     "text": [
      "Epoch [159/200]: 100%|██████████| 64/64 [00:20<00:00,  3.07batch/s]\n"
     ]
    },
    {
     "name": "stdout",
     "output_type": "stream",
     "text": [
      "Epoch [159/200], Loss: 0.0004\n",
      "Validation Loss: 1.0558\n"
     ]
    },
    {
     "name": "stderr",
     "output_type": "stream",
     "text": [
      "Epoch [160/200]: 100%|██████████| 64/64 [00:20<00:00,  3.08batch/s]\n"
     ]
    },
    {
     "name": "stdout",
     "output_type": "stream",
     "text": [
      "Epoch [160/200], Loss: 0.0005\n",
      "Validation Loss: 1.0634\n"
     ]
    },
    {
     "name": "stderr",
     "output_type": "stream",
     "text": [
      "Epoch [161/200]: 100%|██████████| 64/64 [00:20<00:00,  3.08batch/s]\n"
     ]
    },
    {
     "name": "stdout",
     "output_type": "stream",
     "text": [
      "Epoch [161/200], Loss: 0.0004\n",
      "Validation Loss: 1.0648\n"
     ]
    },
    {
     "name": "stderr",
     "output_type": "stream",
     "text": [
      "Epoch [162/200]: 100%|██████████| 64/64 [00:20<00:00,  3.09batch/s]\n"
     ]
    },
    {
     "name": "stdout",
     "output_type": "stream",
     "text": [
      "Epoch [162/200], Loss: 0.0004\n",
      "Validation Loss: 1.0776\n"
     ]
    },
    {
     "name": "stderr",
     "output_type": "stream",
     "text": [
      "Epoch [163/200]: 100%|██████████| 64/64 [00:20<00:00,  3.08batch/s]\n"
     ]
    },
    {
     "name": "stdout",
     "output_type": "stream",
     "text": [
      "Epoch [163/200], Loss: 0.0003\n",
      "Validation Loss: 1.0698\n"
     ]
    },
    {
     "name": "stderr",
     "output_type": "stream",
     "text": [
      "Epoch [164/200]: 100%|██████████| 64/64 [00:20<00:00,  3.08batch/s]\n"
     ]
    },
    {
     "name": "stdout",
     "output_type": "stream",
     "text": [
      "Epoch [164/200], Loss: 0.0004\n",
      "Validation Loss: 1.0692\n"
     ]
    },
    {
     "name": "stderr",
     "output_type": "stream",
     "text": [
      "Epoch [165/200]: 100%|██████████| 64/64 [00:20<00:00,  3.08batch/s]\n"
     ]
    },
    {
     "name": "stdout",
     "output_type": "stream",
     "text": [
      "Epoch [165/200], Loss: 0.0003\n",
      "Validation Loss: 1.0789\n"
     ]
    },
    {
     "name": "stderr",
     "output_type": "stream",
     "text": [
      "Epoch [166/200]: 100%|██████████| 64/64 [00:20<00:00,  3.08batch/s]\n"
     ]
    },
    {
     "name": "stdout",
     "output_type": "stream",
     "text": [
      "Epoch [166/200], Loss: 0.0003\n",
      "Validation Loss: 1.0782\n"
     ]
    },
    {
     "name": "stderr",
     "output_type": "stream",
     "text": [
      "Epoch [167/200]: 100%|██████████| 64/64 [00:20<00:00,  3.08batch/s]\n"
     ]
    },
    {
     "name": "stdout",
     "output_type": "stream",
     "text": [
      "Epoch [167/200], Loss: 0.0003\n",
      "Validation Loss: 1.0789\n"
     ]
    },
    {
     "name": "stderr",
     "output_type": "stream",
     "text": [
      "Epoch [168/200]: 100%|██████████| 64/64 [00:20<00:00,  3.09batch/s]\n"
     ]
    },
    {
     "name": "stdout",
     "output_type": "stream",
     "text": [
      "Epoch [168/200], Loss: 0.0003\n",
      "Validation Loss: 1.0621\n"
     ]
    },
    {
     "name": "stderr",
     "output_type": "stream",
     "text": [
      "Epoch [169/200]: 100%|██████████| 64/64 [00:20<00:00,  3.08batch/s]\n"
     ]
    },
    {
     "name": "stdout",
     "output_type": "stream",
     "text": [
      "Epoch [169/200], Loss: 0.0003\n",
      "Validation Loss: 1.0687\n"
     ]
    },
    {
     "name": "stderr",
     "output_type": "stream",
     "text": [
      "Epoch [170/200]: 100%|██████████| 64/64 [00:20<00:00,  3.08batch/s]\n"
     ]
    },
    {
     "name": "stdout",
     "output_type": "stream",
     "text": [
      "Epoch [170/200], Loss: 0.0003\n",
      "Validation Loss: 1.0833\n"
     ]
    },
    {
     "name": "stderr",
     "output_type": "stream",
     "text": [
      "Epoch [171/200]: 100%|██████████| 64/64 [00:20<00:00,  3.09batch/s]\n"
     ]
    },
    {
     "name": "stdout",
     "output_type": "stream",
     "text": [
      "Epoch [171/200], Loss: 0.0003\n",
      "Validation Loss: 1.0689\n"
     ]
    },
    {
     "name": "stderr",
     "output_type": "stream",
     "text": [
      "Epoch [172/200]: 100%|██████████| 64/64 [00:20<00:00,  3.08batch/s]\n"
     ]
    },
    {
     "name": "stdout",
     "output_type": "stream",
     "text": [
      "Epoch [172/200], Loss: 0.0003\n",
      "Validation Loss: 1.0713\n"
     ]
    },
    {
     "name": "stderr",
     "output_type": "stream",
     "text": [
      "Epoch [173/200]: 100%|██████████| 64/64 [00:20<00:00,  3.08batch/s]\n"
     ]
    },
    {
     "name": "stdout",
     "output_type": "stream",
     "text": [
      "Epoch [173/200], Loss: 0.0003\n",
      "Validation Loss: 1.0672\n"
     ]
    },
    {
     "name": "stderr",
     "output_type": "stream",
     "text": [
      "Epoch [174/200]: 100%|██████████| 64/64 [00:20<00:00,  3.08batch/s]\n"
     ]
    },
    {
     "name": "stdout",
     "output_type": "stream",
     "text": [
      "Epoch [174/200], Loss: 0.0003\n",
      "Validation Loss: 1.0721\n"
     ]
    },
    {
     "name": "stderr",
     "output_type": "stream",
     "text": [
      "Epoch [175/200]: 100%|██████████| 64/64 [00:20<00:00,  3.08batch/s]\n"
     ]
    },
    {
     "name": "stdout",
     "output_type": "stream",
     "text": [
      "Epoch [175/200], Loss: 0.0003\n",
      "Validation Loss: 1.0721\n"
     ]
    },
    {
     "name": "stderr",
     "output_type": "stream",
     "text": [
      "Epoch [176/200]: 100%|██████████| 64/64 [00:20<00:00,  3.08batch/s]\n"
     ]
    },
    {
     "name": "stdout",
     "output_type": "stream",
     "text": [
      "Epoch [176/200], Loss: 0.0003\n",
      "Validation Loss: 1.0712\n"
     ]
    },
    {
     "name": "stderr",
     "output_type": "stream",
     "text": [
      "Epoch [177/200]: 100%|██████████| 64/64 [00:20<00:00,  3.08batch/s]\n"
     ]
    },
    {
     "name": "stdout",
     "output_type": "stream",
     "text": [
      "Epoch [177/200], Loss: 0.0003\n",
      "Validation Loss: 1.0638\n"
     ]
    },
    {
     "name": "stderr",
     "output_type": "stream",
     "text": [
      "Epoch [178/200]: 100%|██████████| 64/64 [00:20<00:00,  3.08batch/s]\n"
     ]
    },
    {
     "name": "stdout",
     "output_type": "stream",
     "text": [
      "Epoch [178/200], Loss: 0.0003\n",
      "Validation Loss: 1.0726\n"
     ]
    },
    {
     "name": "stderr",
     "output_type": "stream",
     "text": [
      "Epoch [179/200]: 100%|██████████| 64/64 [00:20<00:00,  3.08batch/s]\n"
     ]
    },
    {
     "name": "stdout",
     "output_type": "stream",
     "text": [
      "Epoch [179/200], Loss: 0.0003\n",
      "Validation Loss: 1.0704\n"
     ]
    },
    {
     "name": "stderr",
     "output_type": "stream",
     "text": [
      "Epoch [180/200]: 100%|██████████| 64/64 [00:20<00:00,  3.08batch/s]\n"
     ]
    },
    {
     "name": "stdout",
     "output_type": "stream",
     "text": [
      "Epoch [180/200], Loss: 0.0002\n",
      "Validation Loss: 1.0758\n"
     ]
    },
    {
     "name": "stderr",
     "output_type": "stream",
     "text": [
      "Epoch [181/200]: 100%|██████████| 64/64 [00:20<00:00,  3.08batch/s]\n"
     ]
    },
    {
     "name": "stdout",
     "output_type": "stream",
     "text": [
      "Epoch [181/200], Loss: 0.0003\n",
      "Validation Loss: 1.0717\n"
     ]
    },
    {
     "name": "stderr",
     "output_type": "stream",
     "text": [
      "Epoch [182/200]: 100%|██████████| 64/64 [00:20<00:00,  3.08batch/s]\n"
     ]
    },
    {
     "name": "stdout",
     "output_type": "stream",
     "text": [
      "Epoch [182/200], Loss: 0.0002\n",
      "Validation Loss: 1.0713\n"
     ]
    },
    {
     "name": "stderr",
     "output_type": "stream",
     "text": [
      "Epoch [183/200]: 100%|██████████| 64/64 [00:20<00:00,  3.08batch/s]\n"
     ]
    },
    {
     "name": "stdout",
     "output_type": "stream",
     "text": [
      "Epoch [183/200], Loss: 0.0002\n",
      "Validation Loss: 1.0694\n"
     ]
    },
    {
     "name": "stderr",
     "output_type": "stream",
     "text": [
      "Epoch [184/200]: 100%|██████████| 64/64 [00:20<00:00,  3.09batch/s]\n"
     ]
    },
    {
     "name": "stdout",
     "output_type": "stream",
     "text": [
      "Epoch [184/200], Loss: 0.0003\n",
      "Validation Loss: 1.0694\n"
     ]
    },
    {
     "name": "stderr",
     "output_type": "stream",
     "text": [
      "Epoch [185/200]: 100%|██████████| 64/64 [00:20<00:00,  3.09batch/s]\n"
     ]
    },
    {
     "name": "stdout",
     "output_type": "stream",
     "text": [
      "Epoch [185/200], Loss: 0.0002\n",
      "Validation Loss: 1.0685\n"
     ]
    },
    {
     "name": "stderr",
     "output_type": "stream",
     "text": [
      "Epoch [186/200]: 100%|██████████| 64/64 [00:20<00:00,  3.09batch/s]\n"
     ]
    },
    {
     "name": "stdout",
     "output_type": "stream",
     "text": [
      "Epoch [186/200], Loss: 0.0002\n",
      "Validation Loss: 1.0624\n"
     ]
    },
    {
     "name": "stderr",
     "output_type": "stream",
     "text": [
      "Epoch [187/200]: 100%|██████████| 64/64 [00:20<00:00,  3.09batch/s]\n"
     ]
    },
    {
     "name": "stdout",
     "output_type": "stream",
     "text": [
      "Epoch [187/200], Loss: 0.0002\n",
      "Validation Loss: 1.0783\n"
     ]
    },
    {
     "name": "stderr",
     "output_type": "stream",
     "text": [
      "Epoch [188/200]: 100%|██████████| 64/64 [00:20<00:00,  3.08batch/s]\n"
     ]
    },
    {
     "name": "stdout",
     "output_type": "stream",
     "text": [
      "Epoch [188/200], Loss: 0.0002\n",
      "Validation Loss: 1.0676\n"
     ]
    },
    {
     "name": "stderr",
     "output_type": "stream",
     "text": [
      "Epoch [189/200]: 100%|██████████| 64/64 [00:20<00:00,  3.08batch/s]\n"
     ]
    },
    {
     "name": "stdout",
     "output_type": "stream",
     "text": [
      "Epoch [189/200], Loss: 0.0003\n",
      "Validation Loss: 1.0656\n"
     ]
    },
    {
     "name": "stderr",
     "output_type": "stream",
     "text": [
      "Epoch [190/200]: 100%|██████████| 64/64 [00:20<00:00,  3.09batch/s]\n"
     ]
    },
    {
     "name": "stdout",
     "output_type": "stream",
     "text": [
      "Epoch [190/200], Loss: 0.0002\n",
      "Validation Loss: 1.0726\n"
     ]
    },
    {
     "name": "stderr",
     "output_type": "stream",
     "text": [
      "Epoch [191/200]: 100%|██████████| 64/64 [00:20<00:00,  3.07batch/s]\n"
     ]
    },
    {
     "name": "stdout",
     "output_type": "stream",
     "text": [
      "Epoch [191/200], Loss: 0.0003\n",
      "Validation Loss: 1.0683\n"
     ]
    },
    {
     "name": "stderr",
     "output_type": "stream",
     "text": [
      "Epoch [192/200]: 100%|██████████| 64/64 [00:20<00:00,  3.08batch/s]\n"
     ]
    },
    {
     "name": "stdout",
     "output_type": "stream",
     "text": [
      "Epoch [192/200], Loss: 0.0002\n",
      "Validation Loss: 1.0707\n"
     ]
    },
    {
     "name": "stderr",
     "output_type": "stream",
     "text": [
      "Epoch [193/200]: 100%|██████████| 64/64 [00:20<00:00,  3.08batch/s]\n"
     ]
    },
    {
     "name": "stdout",
     "output_type": "stream",
     "text": [
      "Epoch [193/200], Loss: 0.0002\n",
      "Validation Loss: 1.0760\n"
     ]
    },
    {
     "name": "stderr",
     "output_type": "stream",
     "text": [
      "Epoch [194/200]: 100%|██████████| 64/64 [00:20<00:00,  3.08batch/s]\n"
     ]
    },
    {
     "name": "stdout",
     "output_type": "stream",
     "text": [
      "Epoch [194/200], Loss: 0.0002\n",
      "Validation Loss: 1.0724\n"
     ]
    },
    {
     "name": "stderr",
     "output_type": "stream",
     "text": [
      "Epoch [195/200]: 100%|██████████| 64/64 [00:20<00:00,  3.08batch/s]\n"
     ]
    },
    {
     "name": "stdout",
     "output_type": "stream",
     "text": [
      "Epoch [195/200], Loss: 0.0002\n",
      "Validation Loss: 1.0724\n"
     ]
    },
    {
     "name": "stderr",
     "output_type": "stream",
     "text": [
      "Epoch [196/200]: 100%|██████████| 64/64 [00:20<00:00,  3.08batch/s]\n"
     ]
    },
    {
     "name": "stdout",
     "output_type": "stream",
     "text": [
      "Epoch [196/200], Loss: 0.0002\n",
      "Validation Loss: 1.0714\n"
     ]
    },
    {
     "name": "stderr",
     "output_type": "stream",
     "text": [
      "Epoch [197/200]: 100%|██████████| 64/64 [00:20<00:00,  3.08batch/s]\n"
     ]
    },
    {
     "name": "stdout",
     "output_type": "stream",
     "text": [
      "Epoch [197/200], Loss: 0.0002\n",
      "Validation Loss: 1.0774\n"
     ]
    },
    {
     "name": "stderr",
     "output_type": "stream",
     "text": [
      "Epoch [198/200]: 100%|██████████| 64/64 [00:20<00:00,  3.08batch/s]\n"
     ]
    },
    {
     "name": "stdout",
     "output_type": "stream",
     "text": [
      "Epoch [198/200], Loss: 0.0002\n",
      "Validation Loss: 1.0762\n"
     ]
    },
    {
     "name": "stderr",
     "output_type": "stream",
     "text": [
      "Epoch [199/200]: 100%|██████████| 64/64 [00:20<00:00,  3.08batch/s]\n"
     ]
    },
    {
     "name": "stdout",
     "output_type": "stream",
     "text": [
      "Epoch [199/200], Loss: 0.0002\n",
      "Validation Loss: 1.0722\n"
     ]
    },
    {
     "name": "stderr",
     "output_type": "stream",
     "text": [
      "Epoch [200/200]: 100%|██████████| 64/64 [00:20<00:00,  3.08batch/s]\n"
     ]
    },
    {
     "name": "stdout",
     "output_type": "stream",
     "text": [
      "Epoch [200/200], Loss: 0.0002\n",
      "Validation Loss: 1.0660\n"
     ]
    },
    {
     "data": {
      "image/png": "[encoded data removed]",
      "text/plain": [
       "<Figure size 640x480 with 1 Axes>"
      ]
     },
     "metadata": {},
     "output_type": "display_data"
    }
   ],
   "source": [
    "import matplotlib.pyplot as plt\n",
    "# Instantiate Model\n",
    "model = MCTestTacNet()\n",
    "model.to(device)\n",
    "\n",
    "\n",
    "# Training func\n",
    "def train_model(model, train_samples, train_labels,val_samples,val_labels,  num_epochs=10, batch_size=32, learning_rate=0.001):\n",
    "    train_dataset = TensorDataset(train_samples, train_labels)\n",
    "    train_loader = DataLoader(train_dataset, batch_size=batch_size, shuffle=True)\n",
    "    \n",
    "    val_dataset = TensorDataset(val_samples, val_labels)\n",
    "    val_loader = DataLoader(val_dataset, batch_size=batch_size, shuffle=True)    \n",
    "    \n",
    "    train_samples = train_samples.to(device)\n",
    "    train_labels = train_labels.to(device)\n",
    "    \n",
    "    # Define loss and optimizer\n",
    "    criterion = nn.CrossEntropyLoss()\n",
    "    optimizer = torch.optim.Adam(model.parameters(), lr=learning_rate)\n",
    "    scheduler = torch.optim.lr_scheduler.StepLR(optimizer, step_size=170, gamma=0.1)\n",
    "    \n",
    "    train_losses = []\n",
    "    val_losses = []\n",
    "\n",
    "    for epoch in range(num_epochs):\n",
    "        running_loss = 0.0\n",
    "        model.train(True)\n",
    "        \n",
    "        for inputs, labels in tqdm(train_loader, desc=f\"Epoch [{epoch+1}/{num_epochs}]\", unit=\"batch\"):\n",
    "            inputs = inputs.to(device)\n",
    "            labels = labels.to(device)\n",
    "\n",
    "            optimizer.zero_grad()\n",
    "            outputs = model(inputs) #forward pass\n",
    "            loss = criterion(outputs, labels) #loss\n",
    "            loss.backward() #backward pass\n",
    "            optimizer.step() #update params\n",
    "            running_loss += loss.item() #calc running loss\n",
    "\n",
    "        average_loss = running_loss / len(train_loader)\n",
    "        print(f\"Epoch [{epoch+1}/{num_epochs}], Loss: {average_loss:.4f}\")\n",
    "        train_losses.append(average_loss)\n",
    "\n",
    "        # Evaluate on validation set\n",
    "        model.eval()\n",
    "        val_loss = 0.0\n",
    "        with torch.no_grad():\n",
    "            for inputs, labels in val_loader:\n",
    "                inputs = inputs.to(device)\n",
    "                labels = labels.to(device)\n",
    "                outputs = model(inputs)\n",
    "                loss = criterion(outputs, labels)\n",
    "                val_loss += loss.item()\n",
    "\n",
    "        val_loss /= len(val_loader)\n",
    "        print(f\"Validation Loss: {val_loss:.4f}\")\n",
    "        val_losses.append(val_loss)  # Append validation loss to val_losses\n",
    "\n",
    "        scheduler.step()\n",
    "\n",
    "    # Plot training and validation loss\n",
    "    plt.plot(range(1, num_epochs+1), train_losses, label='Training Loss')\n",
    "    plt.plot(range(1, num_epochs+1), val_losses, label='Validation Loss')\n",
    "    plt.xlabel('Epoch')\n",
    "    plt.ylabel('Loss')\n",
    "    plt.legend()\n",
    "    plt.show()\n",
    "\n",
    "    return model, val_loss\n",
    "    \n",
    "    print(\"Training complete!\")\n",
    "\n",
    "#run training\n",
    "trained_model, val_error = train_model(model, train_samples, train_labels, val_samples, val_labels, num_epochs=200, batch_size=36, learning_rate=0.0001)\n",
    "\n",
    "# Save the model and validation error\n",
    "torch.save(trained_model.state_dict(), \"trained_model.pth\")\n",
    "with open(\"val_error.txt\", \"w\") as f:\n",
    "    f.write(str(val_error))"
   ]
  },
  {
   "cell_type": "code",
   "execution_count": 8,
   "id": "7fa7f89d-fa42-4883-9a8b-e3d4d0f0292b",
   "metadata": {
    "tags": []
   },
   "outputs": [],
   "source": [
    "# Save val_samples\n",
    "torch.save(test_samples, \"test_samples.pth\")\n",
    "\n",
    "# Save val_dataset\n",
    "torch.save(test_labels, \"test_labels.pth\")\n"
   ]
  },
  {
   "cell_type": "code",
   "execution_count": 9,
   "id": "4e71f9f9-29bb-48e5-aab1-ffa19d74f758",
   "metadata": {
    "tags": []
   },
   "outputs": [
    {
     "name": "stderr",
     "output_type": "stream",
     "text": [
      "/var/tmp/ipykernel_2880/3383654476.py:4: FutureWarning: You are using `torch.load` with `weights_only=False` (the current default value), which uses the default pickle module implicitly. It is possible to construct malicious pickle data which will execute arbitrary code during unpickling (See https://github.com/pytorch/pytorch/blob/main/SECURITY.md#untrusted-models for more details). In a future release, the default value for `weights_only` will be flipped to `True`. This limits the functions that could be executed during unpickling. Arbitrary objects will no longer be allowed to be loaded via this mode unless they are explicitly allowlisted by the user via `torch.serialization.add_safe_globals`. We recommend you start setting `weights_only=True` for any use case where you don't have full control of the loaded file. Please open an issue on GitHub for any issues related to this experimental feature.\n",
      "  test_samples = torch.load(\"test_samples.pth\")\n",
      "/var/tmp/ipykernel_2880/3383654476.py:5: FutureWarning: You are using `torch.load` with `weights_only=False` (the current default value), which uses the default pickle module implicitly. It is possible to construct malicious pickle data which will execute arbitrary code during unpickling (See https://github.com/pytorch/pytorch/blob/main/SECURITY.md#untrusted-models for more details). In a future release, the default value for `weights_only` will be flipped to `True`. This limits the functions that could be executed during unpickling. Arbitrary objects will no longer be allowed to be loaded via this mode unless they are explicitly allowlisted by the user via `torch.serialization.add_safe_globals`. We recommend you start setting `weights_only=True` for any use case where you don't have full control of the loaded file. Please open an issue on GitHub for any issues related to this experimental feature.\n",
      "  test_labels = torch.load(\"test_labels.pth\")\n",
      "/var/tmp/ipykernel_2880/3383654476.py:13: FutureWarning: You are using `torch.load` with `weights_only=False` (the current default value), which uses the default pickle module implicitly. It is possible to construct malicious pickle data which will execute arbitrary code during unpickling (See https://github.com/pytorch/pytorch/blob/main/SECURITY.md#untrusted-models for more details). In a future release, the default value for `weights_only` will be flipped to `True`. This limits the functions that could be executed during unpickling. Arbitrary objects will no longer be allowed to be loaded via this mode unless they are explicitly allowlisted by the user via `torch.serialization.add_safe_globals`. We recommend you start setting `weights_only=True` for any use case where you don't have full control of the loaded file. Please open an issue on GitHub for any issues related to this experimental feature.\n",
      "  model.load_state_dict(torch.load(\"trained_model.pth\"))\n"
     ]
    },
    {
     "name": "stdout",
     "output_type": "stream",
     "text": [
      "Mean Predictions: [[2.39554261e-02 1.73401390e-03 3.18077490e-01 ... 8.47796652e-04\n",
      "  5.91750827e-04 5.30736637e-04]\n",
      " [3.77636099e-02 5.99137667e-02 1.07514846e-02 ... 4.47898435e-04\n",
      "  1.93029273e-03 6.34859254e-04]\n",
      " [9.76898404e-01 1.68613517e-02 9.12100069e-05 ... 6.94288281e-06\n",
      "  1.34837538e-04 1.22106515e-05]\n",
      " ...\n",
      " [2.04157585e-05 5.73512606e-06 6.06319670e-07 ... 1.24104429e-06\n",
      "  1.75837259e-05 9.99717710e-01]\n",
      " [3.93400213e-06 1.54621896e-05 4.24636124e-06 ... 8.48827614e-07\n",
      "  2.73195208e-06 9.99061939e-01]\n",
      " [2.20113509e-05 1.12828189e-04 1.15233400e-06 ... 2.38686771e-05\n",
      "  9.45344799e-04 9.92750691e-01]]\n",
      "Variance Predictions: [[5.29918885e-04 2.02093658e-06 3.41530813e-02 ... 5.27193051e-07\n",
      "  1.39077227e-07 1.38769348e-07]\n",
      " [9.34896663e-04 4.96287999e-03 2.41020719e-04 ... 2.03671953e-07\n",
      "  2.17366067e-06 4.34591353e-07]\n",
      " [1.78167863e-03 1.23397143e-03 1.59347174e-08 ... 8.79241925e-11\n",
      "  3.51789124e-08 2.15752490e-10]\n",
      " ...\n",
      " [4.61657243e-10 4.07724958e-11 6.17988699e-13 ... 9.75310049e-13\n",
      "  1.70102929e-10 4.06000518e-08]\n",
      " [1.27777882e-11 4.22132184e-10 2.58434509e-11 ... 5.56437606e-13\n",
      "  1.10038679e-11 1.41121674e-06]\n",
      " [4.86013153e-10 2.15879578e-08 1.41977508e-12 ... 2.40162036e-10\n",
      "  6.00647107e-07 2.00611226e-05]]\n",
      "Entropy Predictions: [1.47427895e+00 1.91622897e+00 1.33645855e-01 8.95036296e-01\n",
      " 9.85967428e-01 2.11027762e+00 1.30913506e+00 2.15857894e-01\n",
      " 1.08654535e+00 1.12073821e+00 1.76917157e+00 1.54966988e+00\n",
      " 2.11747483e+00 8.78833794e-01 1.52626451e+00 1.28079938e+00\n",
      " 1.31748379e+00 1.10145201e+00 1.42126625e+00 9.47838032e-01\n",
      " 1.74742447e+00 8.53095464e-01 2.14127213e+00 1.33491152e+00\n",
      " 1.20867907e+00 1.71936790e+00 1.99769311e+00 1.96831470e+00\n",
      " 1.98956417e+00 1.76707844e+00 3.93259194e-01 9.57334365e-01\n",
      " 1.92587389e+00 4.26594815e-01 2.00772512e+00 1.93289663e+00\n",
      " 1.53010177e+00 2.29663476e+00 1.23288368e+00 1.31646587e+00\n",
      " 2.12084152e+00 1.99097146e-01 2.69419652e+00 2.47941986e+00\n",
      " 1.84835747e+00 3.62001379e-01 2.19291672e+00 8.05578569e-01\n",
      " 1.82703029e+00 1.58044541e+00 6.79688594e-01 2.34270434e+00\n",
      " 1.81034612e+00 1.72454250e+00 1.13979128e-01 1.40496792e+00\n",
      " 1.95752650e+00 1.61109931e+00 1.24331893e+00 2.31155847e+00\n",
      " 2.21956155e+00 4.79742465e-03 1.82618624e+00 1.12531401e+00\n",
      " 1.45409744e+00 1.67559364e+00 1.07360655e+00 7.21235024e-01\n",
      " 1.35729024e+00 5.28674383e-02 1.08274662e-01 1.14080557e+00\n",
      " 3.73999986e-01 1.75873371e+00 1.01649408e+00 5.20241231e-01\n",
      " 1.69421580e+00 3.58094071e-01 2.00959474e+00 7.77604156e-01\n",
      " 1.53820494e+00 9.29074785e-01 1.41634442e+00 1.06797737e+00\n",
      " 1.55213623e+00 2.68724380e-02 2.82446853e+00 1.04117843e+00\n",
      " 1.52557629e+00 1.47127968e+00 1.66284517e+00 2.01187386e-01\n",
      " 1.04498933e+00 1.52739466e+00 7.15945089e-02 1.95266272e+00\n",
      " 1.65478068e+00 9.21668031e-01 1.90192016e+00 1.58641401e+00\n",
      " 1.74283378e+00 2.52301112e+00 1.40905562e+00 9.43496272e-01\n",
      " 8.08000057e-01 2.66450167e+00 2.35641664e+00 1.46484698e+00\n",
      " 7.88152539e-01 2.54071330e+00 2.50927965e+00 1.91026894e+00\n",
      " 2.01373165e+00 2.18202698e+00 1.24462643e+00 2.35717136e+00\n",
      " 8.00391748e-01 1.94715516e+00 1.73816845e+00 1.12372430e+00\n",
      " 6.22557411e-01 1.86922565e+00 1.59345973e+00 1.66223555e+00\n",
      " 1.40403163e+00 1.71817930e+00 1.58288829e+00 2.19447269e+00\n",
      " 2.51330688e+00 2.00213918e+00 1.79299854e+00 3.43309633e-01\n",
      " 1.30264849e+00 1.95093882e+00 7.79476313e-01 2.33062164e+00\n",
      " 1.67051557e+00 2.18588169e+00 1.78619267e+00 2.49844526e+00\n",
      " 1.82112781e+00 1.86017778e+00 1.73202545e+00 1.00791699e+00\n",
      " 2.37838066e+00 2.12077606e+00 1.22719489e+00 1.76922583e+00\n",
      " 1.98746415e+00 2.42002745e+00 5.18671376e-01 2.46199484e+00\n",
      " 2.07636423e+00 7.84308091e-01 1.24996717e+00 1.44073319e+00\n",
      " 1.14746932e+00 1.09114941e+00 1.80946172e+00 7.59378797e-01\n",
      " 1.67653974e+00 8.08089648e-01 2.63957567e+00 1.84495792e+00\n",
      " 3.24334918e-01 5.12859058e-01 1.49591566e+00 1.20578629e+00\n",
      " 2.41149445e-01 1.87253360e+00 6.57213915e-01 1.26866229e+00\n",
      " 8.42210713e-01 1.66237460e+00 7.62082910e-01 2.12807105e+00\n",
      " 1.58631302e+00 4.32635241e-01 1.54030685e+00 3.29556360e-01\n",
      " 2.38452702e+00 2.04075564e-01 1.74516737e+00 4.84048573e-01\n",
      " 1.82911671e+00 3.89964087e-01 2.13752583e+00 1.95630200e+00\n",
      " 6.39864831e-01 1.63286972e+00 2.24170224e+00 2.19964973e-01\n",
      " 8.36804264e-01 2.14863337e+00 3.26563428e-01 1.27188959e+00\n",
      " 2.07840617e+00 1.42746867e+00 1.38638806e+00 6.99782237e-01\n",
      " 8.18044747e-01 1.08939440e+00 1.49377159e-01 1.38711619e-01\n",
      " 1.54412258e+00 1.44814446e+00 3.18141855e-01 4.13195303e-01\n",
      " 1.23606078e+00 1.58078638e+00 1.86826677e+00 6.80006322e-01\n",
      " 1.96557833e+00 8.39461536e-01 1.09302718e+00 1.23720677e+00\n",
      " 7.83018415e-01 1.38068285e+00 1.70187833e+00 1.36491339e+00\n",
      " 2.17067424e-01 1.29868437e+00 1.52660190e+00 1.55057605e+00\n",
      " 1.27933358e+00 1.77210801e+00 9.27882601e-02 5.01978932e-01\n",
      " 1.40090097e+00 1.57458964e+00 1.16444934e+00 1.20254210e+00\n",
      " 8.88535862e-01 8.54024524e-01 1.69023504e+00 1.03368151e+00\n",
      " 1.24298764e+00 1.18673930e+00 6.61075165e-01 1.53614667e+00\n",
      " 1.20796649e+00 1.47806951e+00 1.13684657e+00 1.42370281e+00\n",
      " 1.55792603e+00 1.09811322e+00 9.51244114e-01 2.54753895e-01\n",
      " 1.79267652e+00 1.06149101e+00 7.67272332e-01 1.77565374e+00\n",
      " 1.58035080e+00 1.80969824e+00 2.08200822e+00 1.07140006e+00\n",
      " 3.45949987e-01 1.50073268e+00 1.96110533e+00 1.70139291e+00\n",
      " 1.54137098e+00 3.40395308e-04 9.80162824e-01 5.32737659e-02\n",
      " 5.07780462e-01 7.08947344e-02 4.98346721e-01 9.36451924e-01\n",
      " 1.17334213e-01 2.74285381e-01 1.12491948e+00 7.32876568e-01\n",
      " 3.83205340e-01 1.13027246e+00 3.46067097e-01 1.36901218e-01\n",
      " 1.21505932e+00 4.63574420e-01 2.52951386e-01 8.14437375e-01\n",
      " 3.14205315e-04 2.18028550e-02 7.70554228e-02 2.29995956e-01\n",
      " 5.54905783e-03 7.45921140e-03 4.54646203e-02 3.58483530e-03\n",
      " 5.85210473e-04 7.02779743e-01 1.38425414e+00 6.70845635e-02\n",
      " 2.13361048e-04 2.27293746e-02 5.63099656e-01 8.99961434e-02\n",
      " 5.62607390e-01 9.16845354e-03 2.21190512e-01 2.17619868e-03\n",
      " 1.04151271e+00 1.23521522e-01 9.49628068e-03 3.62305922e-01\n",
      " 2.59847095e-01 8.39619844e-03 8.46770774e-01 4.09002203e-01\n",
      " 7.74068446e-01 3.97731737e-01 3.48482732e-01 6.81310252e-01\n",
      " 7.07198457e-01 4.51694782e-01 1.85736866e+00 9.10223606e-02\n",
      " 4.21297964e-01 2.14795573e-01 7.44198170e-01 9.09545429e-01\n",
      " 1.45867261e+00 1.83998012e+00 4.96773825e-02 1.03444434e-02\n",
      " 1.90680470e-01 3.07413082e-02 4.00131013e-01 1.46697321e-01\n",
      " 1.42936650e+00 7.45365217e-01 1.55245928e-01 1.22413696e+00\n",
      " 2.33181855e-01 1.25064881e-02 1.03246013e+00 8.34046969e-01\n",
      " 8.24447719e-01 4.63106498e-01 2.00066848e-01 1.51570489e-01\n",
      " 2.38152689e+00 1.19026418e+00 1.29659956e+00 3.74612499e-01\n",
      " 1.95014603e+00 1.07512716e+00 9.47747567e-02 1.82680123e+00\n",
      " 8.78419891e-01 1.23107258e+00 1.90746495e+00 3.69982779e-01\n",
      " 2.35125067e+00 1.98401803e+00 2.77950564e+00 4.97040588e-02\n",
      " 3.37165703e-01 1.54219211e+00 1.43191060e+00 2.48253133e-01\n",
      " 1.32677734e+00 1.71318914e+00 7.55896905e-01 1.20510580e+00\n",
      " 2.29442457e-01 3.50021632e-01 1.63346780e+00 1.37499634e+00\n",
      " 9.16594294e-02 1.42612236e+00 3.14540987e-01 1.82585382e+00\n",
      " 9.24834832e-01 2.17452681e+00 1.41063477e+00 6.77903936e-01\n",
      " 1.34911788e+00 4.20556698e-01 1.22474261e+00 1.23824938e-01\n",
      " 3.57309350e-01 1.41924891e-01 4.53863259e-01 5.37135790e-01\n",
      " 1.11325194e+00 1.36653510e+00 1.53675552e-01 5.46279000e-01\n",
      " 1.10319051e+00 4.02018250e-02 2.28074152e-01 3.82590596e-01\n",
      " 3.32772905e-01 1.67633222e+00 1.94280891e+00 5.96511449e-03\n",
      " 1.09977143e+00 3.91870379e-01 6.70566674e-01 4.84096511e-01\n",
      " 1.18573222e+00 1.30725533e-01 3.95584973e-03 1.33592541e+00\n",
      " 1.24566907e+00 4.74566873e-01 1.75098763e+00 9.45228251e-01\n",
      " 6.06632512e-02 1.29219936e+00 5.93465350e-01 1.23372373e+00\n",
      " 9.33675135e-01 1.61084430e+00 7.78367259e-01 1.45417061e-02\n",
      " 2.02853801e+00 1.44923632e-01 1.63384622e+00 7.89154403e-01\n",
      " 9.69971716e-02 1.95989347e+00 1.96664142e+00 2.42063192e+00\n",
      " 7.63562598e-01 2.13163685e+00 2.17793483e+00 6.23553911e-01\n",
      " 2.21730355e+00 2.16425685e+00 1.89731840e+00 2.32924140e+00\n",
      " 2.34430881e+00 5.33676294e-01 2.10379724e+00 1.79295891e+00\n",
      " 9.54362416e-01 1.11657080e+00 2.01808847e+00 1.07213123e+00\n",
      " 4.13553290e-01 1.44664451e+00 1.50195005e+00 7.44084954e-01\n",
      " 8.44816297e-01 6.09816718e-01 2.37632427e+00 1.41706849e-01\n",
      " 1.19669678e+00 4.94355767e-02 1.67159530e+00 2.39590859e+00\n",
      " 8.36333399e-01 3.66881929e-01 1.44569737e+00 3.92076969e-01\n",
      " 2.22319053e-02 7.10222179e-02 1.51476997e+00 1.80763704e+00\n",
      " 1.19309798e+00 1.99134169e+00 1.17999831e+00 1.46525909e+00\n",
      " 2.81216400e+00 1.71007050e+00 8.22202725e-01 2.59834337e+00\n",
      " 1.42861824e+00 1.52807999e+00 1.14174754e+00 4.58769251e-01\n",
      " 6.80907321e-01 6.83128742e-01 9.99613858e-01 2.07278233e+00\n",
      " 4.07421375e-01 4.07128944e-01 2.35654548e+00 1.48062788e+00\n",
      " 5.28239288e-02 4.54848340e-01 4.02383428e-02 1.33127235e+00\n",
      " 2.30720593e+00 1.05861747e+00 9.08024135e-02 2.35221558e+00\n",
      " 8.29754924e-02 2.19453970e-01 7.39622986e-02 2.40055802e+00\n",
      " 2.40715580e+00 1.35954309e+00 1.62742704e+00 4.42278322e-02\n",
      " 2.43247713e+00 5.26988624e-03 1.20980827e+00 4.39699840e-02\n",
      " 1.86673695e+00 1.44839752e+00 3.76491019e-01 3.34268920e-01\n",
      " 2.69817345e+00 2.14637305e+00 1.73812920e+00 1.72626338e+00\n",
      " 1.97880104e+00 5.62173498e-01 1.67686040e+00 1.76570911e+00\n",
      " 1.69331131e+00 9.96724137e-01 1.70845100e+00 1.35496942e+00\n",
      " 2.59346055e+00 6.60120982e-01 1.68943229e+00 7.67366592e-01\n",
      " 1.11336391e+00 1.16571008e+00 1.21494198e+00 1.23214071e+00\n",
      " 1.77027501e+00 2.08593392e+00 1.30312014e+00 1.00264026e+00\n",
      " 2.94504353e-01 4.86269935e-01 2.03283488e+00 1.41734070e+00\n",
      " 7.97675099e-01 9.18373494e-01 1.28578870e+00 1.66030138e+00\n",
      " 1.28132636e+00 1.00249437e+00 1.91619589e+00 1.03740310e+00\n",
      " 1.24951012e-02 3.32031284e-01 1.51815209e+00 2.44792944e+00\n",
      " 2.60493942e+00 1.76447759e+00 2.47306034e-01 3.33131806e-01\n",
      " 2.64713425e-01 1.82582913e-01 4.23976109e-02 2.03267083e+00\n",
      " 7.14179852e-01 4.66996988e-01 7.54823330e-01 5.58011190e-01\n",
      " 3.56489428e-03 6.98379558e-03 1.47409395e-01 1.18291311e+00\n",
      " 1.10308710e+00 2.83166181e-02 1.62649965e-02 2.14113614e-03\n",
      " 1.04058527e+00 2.85648367e-02 8.68826281e-01 6.86386985e-01\n",
      " 5.77575649e-02 6.07450639e-01 5.46432277e-01 2.20844389e+00\n",
      " 1.30983920e+00 3.85918964e-01 1.15820255e+00 6.33952887e-02\n",
      " 3.17445626e-01 1.95618934e+00 9.32850417e-01 2.00680524e-01\n",
      " 2.18516251e+00 3.55229405e-01 1.72754203e+00 2.13804546e-03\n",
      " 7.23913257e-02 1.93800844e-04 1.83418915e-02 2.82264008e-01\n",
      " 1.11521618e-01 5.16849105e-02 2.31322964e-01 1.80551242e+00\n",
      " 1.62778687e-01 8.04606105e-01 4.67878252e-01 2.42407099e-02\n",
      " 1.15148971e+00 1.92995388e-01 5.14724186e-02 4.22599305e-01\n",
      " 2.34332693e-01 1.07387618e-02 1.67152062e+00 1.94597688e+00\n",
      " 8.79311583e-01 3.05868637e-03 5.54369815e-01 3.22330485e-01\n",
      " 1.25299316e-02 1.21201152e+00 4.89997249e-02 4.05461785e-01\n",
      " 6.98638417e-01 7.62188645e-01 1.16130624e-02 5.85547313e-01\n",
      " 1.93051816e-01 1.20758824e+00 9.33943754e-01 9.68350757e-01\n",
      " 2.10552811e-02 8.82906673e-05 8.93570031e-01 3.81060777e-02\n",
      " 7.18892308e-01 1.14787615e-01 1.42870467e-04 9.15946567e-03\n",
      " 4.72322655e-03 2.21186135e-04 5.08567015e-02 1.81564288e-01\n",
      " 4.04105430e-01 3.58915197e-03 3.08917437e-02 2.10748790e-01\n",
      " 8.71871915e-01 5.93860323e-03 2.16284360e-04 1.83893527e-04\n",
      " 4.47276795e-01 4.58062104e-03 1.07067249e-02 1.60799863e-01\n",
      " 1.89917268e-03 2.71672361e-04 1.26600551e-03 2.58883184e-04\n",
      " 1.90497193e-02 5.77271184e-02 2.47126145e-01 1.20354071e+00\n",
      " 8.54976949e-01 1.43929602e-03 5.48757341e-03 2.33578216e-01\n",
      " 1.33956163e-02 7.17729289e-01 1.19615552e+00 2.39805203e-04\n",
      " 2.12064671e-03 1.49346874e-03 1.72687587e-03 1.25687809e-03\n",
      " 1.03768849e+00 2.96022733e-01 1.29335647e+00 4.62815892e-02\n",
      " 7.33225347e-02 4.51057564e-03 1.23307671e-03 9.67479785e-03\n",
      " 1.07185394e-02 4.08564566e-03 2.33037550e-03 2.75480496e-03\n",
      " 1.04752867e-02 3.81601731e-02 1.12750165e-03 5.86225967e-02\n",
      " 1.62541080e-03 2.43518965e-03 2.28852398e-01 7.37213612e-02\n",
      " 4.58268199e-01 6.10676968e-02 1.12644352e-04 9.15574791e-01\n",
      " 1.49161267e+00 8.29686640e-01 2.82073371e-03 1.86686630e-03\n",
      " 3.42634305e-01 1.20593780e-01 6.43495444e-01 2.23224294e-04\n",
      " 4.87483359e-03 6.85236434e-01 3.78413686e-03 2.93180874e-02\n",
      " 1.36561994e+00 2.23271581e-02 8.78610303e-02 4.24386304e-02\n",
      " 2.84126706e-04 5.20935341e-03 5.85249725e-03 3.36454756e-03\n",
      " 6.72335663e-04 1.53352943e-03 1.33445886e-03 6.40940612e-02\n",
      " 5.92318764e-03 2.52216971e-03 1.12743018e-03 6.73371009e-03\n",
      " 2.30743020e-01 3.25716086e-03 8.20571419e-03 6.01837568e-02]\n",
      "Mutual Information Predictions: [1.89497548e-01 2.76988494e-01 2.35844552e-02 1.31170896e-01\n",
      " 1.70527752e-01 3.05729045e-01 1.86542571e-01 3.41567847e-02\n",
      " 2.07430191e-01 2.01183191e-01 2.48741618e-01 2.03942508e-01\n",
      " 3.10877094e-01 1.45844612e-01 2.71361149e-01 2.65236072e-01\n",
      " 1.95785157e-01 1.98963560e-01 3.10411251e-01 2.03178765e-01\n",
      " 2.52689776e-01 1.56665503e-01 3.57382577e-01 2.49545439e-01\n",
      " 1.67526786e-01 2.39852388e-01 3.07245702e-01 2.36359700e-01\n",
      " 2.59144307e-01 2.42252180e-01 5.42241601e-02 1.94519062e-01\n",
      " 2.68685673e-01 8.42048215e-02 3.07085836e-01 3.01608903e-01\n",
      " 2.34543514e-01 3.17820166e-01 2.22201364e-01 2.40896774e-01\n",
      " 3.23971327e-01 2.32631308e-02 3.05183550e-01 3.06204591e-01\n",
      " 3.27768047e-01 5.68831217e-02 2.97588687e-01 1.33445501e-01\n",
      " 2.66339586e-01 2.75165372e-01 1.23510592e-01 3.63630922e-01\n",
      " 2.94903918e-01 3.49519267e-01 1.85124911e-02 2.05845237e-01\n",
      " 2.80380099e-01 1.76969105e-01 2.24889940e-01 3.53371352e-01\n",
      " 2.98575824e-01 3.10026889e-04 3.46077661e-01 1.85784441e-01\n",
      " 2.92218382e-01 2.12733982e-01 1.40597878e-01 1.47760565e-01\n",
      " 2.18661848e-01 6.42145877e-03 1.22005737e-02 2.09889990e-01\n",
      " 6.50147336e-02 2.40620437e-01 1.73103755e-01 8.12453625e-02\n",
      " 2.23861067e-01 3.65658079e-02 2.64953321e-01 1.66251132e-01\n",
      " 2.16224945e-01 2.02646633e-01 1.85256102e-01 2.08921155e-01\n",
      " 2.36350270e-01 2.86993221e-03 3.52570709e-01 1.48648288e-01\n",
      " 2.74642321e-01 2.13567108e-01 2.40236517e-01 1.87328949e-02\n",
      " 1.47696099e-01 2.10668042e-01 5.72800522e-03 2.95743647e-01\n",
      " 2.16719542e-01 1.58911046e-01 2.75055131e-01 2.56449044e-01\n",
      " 2.42437312e-01 3.70712127e-01 2.20462383e-01 1.38857815e-01\n",
      " 1.06067326e-01 3.40468706e-01 2.99523945e-01 2.50753826e-01\n",
      " 1.46620420e-01 3.56189910e-01 3.72103069e-01 3.10526018e-01\n",
      " 2.85539581e-01 3.16769456e-01 1.79658865e-01 2.86155433e-01\n",
      " 8.43995757e-02 2.63347186e-01 2.61606947e-01 1.79566312e-01\n",
      " 1.05280116e-01 2.91608839e-01 2.13038990e-01 3.01602244e-01\n",
      " 2.00256885e-01 3.30775057e-01 2.66977078e-01 3.06975579e-01\n",
      " 3.08543627e-01 2.82404796e-01 2.82660681e-01 4.37695065e-02\n",
      " 2.01977011e-01 3.40439951e-01 8.90628533e-02 3.16978805e-01\n",
      " 3.51935500e-01 2.97827501e-01 2.08054738e-01 3.52288393e-01\n",
      " 2.55855759e-01 2.86545613e-01 2.34824866e-01 1.31552411e-01\n",
      " 3.19901555e-01 2.74120000e-01 2.33580257e-01 2.69680768e-01\n",
      " 2.50397411e-01 3.74520036e-01 7.52013597e-02 3.73940199e-01\n",
      " 3.11050125e-01 1.54567385e-01 1.67802497e-01 2.13337698e-01\n",
      " 1.78835919e-01 1.43966066e-01 2.26728525e-01 1.28026095e-01\n",
      " 2.62089380e-01 9.87143868e-02 3.45120413e-01 2.35075573e-01\n",
      " 3.15729756e-02 6.98954347e-02 2.22789361e-01 1.93316055e-01\n",
      " 2.47092474e-02 2.69466756e-01 9.24768716e-02 1.83128176e-01\n",
      " 8.62356266e-02 2.33764902e-01 1.09323918e-01 2.77154550e-01\n",
      " 2.28347049e-01 6.22837835e-02 2.26640457e-01 3.56057936e-02\n",
      " 3.75268345e-01 2.42783249e-02 3.15205055e-01 6.34384707e-02\n",
      " 2.42489896e-01 5.10929674e-02 3.39546276e-01 3.51379752e-01\n",
      " 1.17794703e-01 3.09334559e-01 3.12608799e-01 2.44327470e-02\n",
      " 1.38273489e-01 3.70508702e-01 4.85786020e-02 2.22819133e-01\n",
      " 3.06269718e-01 2.18661482e-01 2.53657343e-01 1.20079282e-01\n",
      " 1.40730466e-01 1.82154909e-01 2.29886203e-02 2.05572622e-02\n",
      " 2.44172051e-01 2.34360425e-01 3.72462648e-02 9.73081714e-02\n",
      " 2.11089172e-01 2.47659773e-01 3.61583690e-01 1.03478839e-01\n",
      " 2.84163917e-01 1.78181000e-01 1.79215283e-01 2.16993672e-01\n",
      " 1.29835706e-01 2.25448631e-01 2.34663369e-01 2.59127133e-01\n",
      " 3.37273618e-02 2.58187859e-01 3.16120417e-01 1.78937885e-01\n",
      " 2.20790157e-01 3.10650690e-01 1.71242246e-02 1.25626216e-01\n",
      " 2.52408547e-01 2.68548100e-01 1.51662613e-01 2.03825478e-01\n",
      " 1.25622848e-01 2.13117757e-01 2.89431609e-01 1.89082773e-01\n",
      " 2.10485058e-01 2.35068457e-01 1.27226697e-01 2.18150846e-01\n",
      " 2.53585330e-01 2.36674975e-01 1.96825679e-01 2.21273747e-01\n",
      " 2.74854760e-01 2.07907935e-01 2.09516354e-01 4.02590165e-02\n",
      " 3.24675455e-01 2.06729612e-01 1.47615664e-01 3.27044512e-01\n",
      " 2.46428930e-01 2.99227993e-01 3.47032415e-01 2.35354270e-01\n",
      " 5.25208283e-02 2.53677220e-01 3.62062147e-01 1.83543805e-01\n",
      " 2.98927418e-01 2.13243819e-05 1.35411048e-01 4.43994077e-03\n",
      " 9.78949789e-02 7.94517179e-03 9.16672035e-02 1.69848827e-01\n",
      " 1.42946893e-02 3.37150754e-02 2.02155416e-01 1.29343747e-01\n",
      " 7.86878602e-02 1.78516522e-01 5.78486577e-02 1.20675391e-02\n",
      " 1.97341603e-01 6.80899091e-02 3.58212364e-02 1.32951757e-01\n",
      " 2.10239814e-05 2.63332944e-03 1.26487647e-02 4.34041916e-02\n",
      " 3.22953602e-04 8.59309884e-04 7.18092783e-03 2.73991863e-04\n",
      " 3.89453436e-05 1.81797082e-01 2.27447139e-01 1.33161710e-02\n",
      " 8.60714601e-06 5.65014158e-03 1.09239670e-01 1.14413649e-02\n",
      " 1.12003926e-01 9.31637221e-04 3.52207419e-02 1.20383134e-04\n",
      " 2.03441530e-01 1.19723225e-02 2.09079546e-03 8.31735567e-02\n",
      " 6.31124145e-02 1.30983817e-03 1.63270347e-01 1.37018634e-01\n",
      " 1.37891365e-01 9.21022705e-02 5.99177154e-02 1.54367493e-01\n",
      " 1.83876763e-01 5.54975203e-02 2.78469178e-01 1.18681108e-02\n",
      " 1.04315372e-01 7.67733288e-02 2.22321414e-01 2.03839565e-01\n",
      " 3.02598253e-01 3.15986848e-01 5.62667366e-03 9.62653587e-04\n",
      " 4.29959524e-02 3.70525505e-03 4.69521322e-02 1.36051567e-02\n",
      " 2.86251637e-01 9.92319408e-02 2.94765468e-02 1.78959213e-01\n",
      " 4.78008636e-02 1.19835140e-03 1.79705759e-01 1.74652503e-01\n",
      " 1.60642506e-01 1.02506640e-01 3.81611272e-02 1.48627422e-02\n",
      " 3.29032968e-01 2.11631987e-01 2.48629144e-01 8.03622800e-02\n",
      " 2.99322309e-01 2.22245723e-01 1.05743088e-02 2.98422609e-01\n",
      " 2.35678031e-01 2.28928048e-01 2.52084406e-01 4.16761631e-02\n",
      " 3.57498345e-01 3.39268149e-01 3.70343147e-01 7.07671960e-03\n",
      " 4.16912630e-02 2.40248734e-01 2.40087464e-01 4.31464288e-02\n",
      " 1.97524820e-01 2.68042109e-01 1.41543069e-01 2.23413198e-01\n",
      " 3.60982169e-02 9.50144454e-02 2.69494767e-01 2.10060948e-01\n",
      " 6.84633217e-03 2.58373727e-01 1.06521139e-01 3.18040582e-01\n",
      " 1.59514833e-01 2.77490452e-01 2.33854619e-01 5.86200896e-02\n",
      " 2.33842822e-01 5.75305235e-02 2.13263156e-01 1.65892885e-02\n",
      " 5.05104352e-02 1.15404893e-02 3.57348747e-02 4.91319293e-02\n",
      " 1.60216873e-01 1.24326359e-01 1.35487713e-02 5.00779715e-02\n",
      " 1.60266888e-01 2.69212895e-03 2.03763025e-02 2.97059576e-02\n",
      " 2.70477725e-02 2.57736579e-01 2.95200561e-01 3.60608208e-04\n",
      " 1.86642557e-01 4.19154174e-02 1.02616072e-01 5.96998892e-02\n",
      " 1.54356997e-01 1.41747347e-02 3.78266409e-04 1.97441539e-01\n",
      " 1.77131154e-01 9.57010878e-02 2.68816574e-01 1.46409154e-01\n",
      " 4.47871640e-03 2.43372360e-01 8.51179441e-02 1.54507860e-01\n",
      " 1.29707581e-01 2.71325408e-01 1.35104984e-01 1.15174236e-03\n",
      " 3.01947448e-01 1.95900127e-02 1.74223584e-01 9.84263302e-02\n",
      " 1.05530029e-02 3.13381510e-01 3.57801259e-01 3.16066103e-01\n",
      " 1.75636615e-01 3.57048673e-01 3.75139435e-01 1.15464474e-01\n",
      " 2.19539225e-01 3.86098545e-01 2.51918811e-01 2.92156637e-01\n",
      " 3.42372323e-01 1.05428468e-01 3.21188642e-01 2.51691426e-01\n",
      " 1.80122716e-01 1.67645091e-01 3.26804086e-01 1.53886884e-01\n",
      " 8.12086456e-02 2.70715340e-01 2.23192898e-01 1.68016688e-01\n",
      " 1.22247696e-01 8.80253497e-02 3.41887269e-01 2.22027150e-02\n",
      " 1.47962119e-01 4.75898089e-03 2.84337380e-01 3.00194317e-01\n",
      " 1.25114872e-01 5.04993911e-02 1.91609003e-01 7.25730199e-02\n",
      " 1.75098277e-03 9.49171637e-03 1.95697034e-01 2.45932411e-01\n",
      " 1.77825833e-01 3.35220703e-01 1.68617214e-01 2.15369367e-01\n",
      " 2.62730555e-01 2.65595638e-01 9.10024711e-02 3.41884381e-01\n",
      " 1.87417227e-01 2.42587595e-01 1.54793809e-01 7.27975430e-02\n",
      " 1.45158878e-01 7.77997978e-02 1.17451029e-01 2.58205724e-01\n",
      " 5.46449644e-02 6.63218788e-02 3.00499079e-01 2.15992317e-01\n",
      " 4.12356099e-03 8.62843357e-02 2.66501991e-03 2.07742608e-01\n",
      " 3.12627645e-01 1.98634766e-01 1.48851831e-02 3.44338797e-01\n",
      " 6.69031628e-03 3.41331696e-02 5.07483311e-03 2.93345623e-01\n",
      " 3.47138994e-01 2.10449908e-01 2.85382595e-01 5.37532491e-03\n",
      " 3.20265442e-01 3.79781416e-04 1.32495343e-01 3.94782446e-03\n",
      " 2.66486345e-01 2.08740012e-01 4.55617665e-02 4.71634892e-02\n",
      " 2.90469508e-01 2.24309163e-01 2.68803204e-01 2.25147077e-01\n",
      " 2.58146278e-01 7.77234113e-02 2.25072152e-01 2.18514391e-01\n",
      " 2.44108607e-01 2.05253322e-01 2.26358665e-01 1.96074837e-01\n",
      " 3.61891022e-01 9.12079461e-02 2.52125202e-01 1.66469661e-01\n",
      " 1.48983627e-01 1.61385625e-01 1.57012705e-01 1.81505569e-01\n",
      " 2.61038526e-01 3.00134193e-01 1.74999829e-01 1.67879238e-01\n",
      " 4.78055369e-02 1.01084988e-01 2.54465038e-01 2.70423406e-01\n",
      " 1.46949135e-01 1.05274338e-01 2.42721835e-01 2.20893894e-01\n",
      " 1.34909613e-01 1.65961794e-01 2.97306696e-01 2.00163324e-01\n",
      " 1.22687134e-03 4.01047951e-02 1.88878679e-01 2.82744216e-01\n",
      " 3.63834678e-01 2.51358165e-01 3.99931970e-02 4.04666979e-02\n",
      " 3.17478799e-02 1.87628891e-02 4.70581332e-03 2.59903955e-01\n",
      " 1.25065965e-01 9.01293541e-02 1.01973551e-01 6.87607578e-02\n",
      " 3.91169762e-04 5.86369558e-04 1.62391854e-02 1.46094864e-01\n",
      " 1.57731376e-01 1.77173937e-03 1.22919256e-03 1.36425687e-04\n",
      " 1.23000845e-01 1.82769052e-03 1.04774840e-01 6.10648076e-02\n",
      " 3.08458030e-03 6.57698377e-02 5.60631777e-02 2.75360400e-01\n",
      " 2.12913537e-01 3.58825973e-02 1.51674280e-01 7.03948914e-03\n",
      " 2.92229517e-02 2.36103144e-01 1.72739377e-01 2.00920841e-02\n",
      " 2.31558787e-01 3.07625913e-02 2.60887344e-01 1.20593006e-04\n",
      " 3.87895885e-03 8.19402617e-06 1.16964788e-03 3.77232338e-02\n",
      " 9.40980684e-03 3.39890984e-03 1.84451614e-02 2.12379272e-01\n",
      " 1.54430334e-02 8.77174041e-02 5.78217157e-02 1.29980614e-03\n",
      " 1.17760256e-01 1.51511455e-02 3.72270891e-03 3.22026644e-02\n",
      " 5.36193625e-02 7.66340164e-04 1.97172194e-01 2.47769578e-01\n",
      " 1.05608688e-01 2.92896450e-04 1.83774444e-01 4.04325896e-02\n",
      " 9.49880104e-04 2.32310364e-01 4.83388678e-03 8.95401079e-02\n",
      " 1.72782338e-01 1.17320705e-01 7.44612031e-04 8.51488582e-02\n",
      " 3.46079820e-02 1.94326397e-01 1.85375912e-01 1.91256033e-01\n",
      " 1.74395298e-03 3.92160888e-06 1.58121728e-01 3.89983912e-03\n",
      " 1.21419707e-01 1.58991739e-02 5.34679984e-06 4.40307171e-04\n",
      " 4.32540226e-04 2.34068195e-05 4.43179300e-03 1.45354329e-02\n",
      " 3.90193721e-02 1.65520265e-04 2.03508105e-03 2.61808952e-02\n",
      " 1.42388049e-01 2.72006140e-04 9.19791167e-06 1.00212851e-05\n",
      " 4.44766467e-02 2.38742197e-04 7.57535833e-04 1.83941929e-02\n",
      " 1.18704085e-04 1.31354468e-05 6.42739679e-05 1.17968204e-05\n",
      " 2.15460313e-03 3.44837788e-03 2.17505687e-02 1.57352927e-01\n",
      " 1.11114893e-01 7.09416443e-05 3.60821266e-04 2.53211299e-02\n",
      " 1.64295543e-03 8.11144071e-02 1.53935585e-01 1.20988480e-05\n",
      " 1.14102474e-04 5.36864905e-05 6.31324926e-05 6.88019092e-05\n",
      " 1.81838614e-01 4.71995631e-02 2.36357141e-01 3.52343725e-03\n",
      " 6.61024962e-03 3.15765959e-04 6.21356939e-05 6.18577430e-04\n",
      " 9.92991310e-04 2.33755355e-04 9.54887787e-05 3.60793806e-04\n",
      " 6.36050110e-04 4.64471777e-03 4.47165874e-05 5.48731234e-03\n",
      " 1.07389987e-04 1.29174928e-04 3.49611119e-02 9.65178912e-03\n",
      " 7.02467266e-02 5.16747918e-03 2.69200150e-06 9.78563801e-02\n",
      " 1.54084927e-01 7.36216806e-02 1.14452028e-04 8.03170366e-05\n",
      " 3.06022942e-02 1.00755420e-02 8.22854194e-02 6.53032835e-06\n",
      " 2.21055479e-04 1.08213135e-01 2.84688377e-04 2.19632233e-03\n",
      " 1.38160640e-01 1.60639470e-03 8.33508284e-03 2.43501004e-03\n",
      " 7.80162032e-06 2.39305672e-04 2.54072497e-04 1.87371922e-04\n",
      " 2.41991705e-05 8.61283110e-05 6.17337337e-05 7.97242902e-03\n",
      " 3.48813264e-04 1.10458392e-04 3.57407781e-05 2.47309913e-04\n",
      " 2.34740949e-02 1.08145621e-04 5.29952190e-04 2.91620134e-03]\n"
     ]
    }
   ],
   "source": [
    "import sys\n",
    "\n",
    "# Load Test Data\n",
    "test_samples = torch.load(\"test_samples.pth\")\n",
    "test_labels = torch.load(\"test_labels.pth\")\n",
    "\n",
    "# Define model class if not already defined (assuming MCTestTacNet class is defined as you've provided)\n",
    "# Instantiate the Model\n",
    "model = MCTestTacNet()\n",
    "model.to(device)\n",
    "\n",
    "# Load the Trained Model\n",
    "model.load_state_dict(torch.load(\"trained_model.pth\"))\n",
    "\n",
    "# Function to enable dropout layers during test-time\n",
    "def enable_dropout(model):\n",
    "    \"\"\" Function to enable the dropout layers during test-time \"\"\"\n",
    "    for m in model.modules():\n",
    "        if m.__class__.__name__.startswith('Dropout'):\n",
    "            m.train()\n",
    "\n",
    "# Function to get Monte Carlo predictions and uncertainty estimates\n",
    "def get_monte_carlo_predictions(data_loader, forward_passes, model, n_classes, n_samples):\n",
    "    \"\"\" Function to get the monte-carlo samples and uncertainty estimates through multiple forward passes \"\"\"\n",
    "    dropout_predictions = np.empty((0, n_samples, n_classes))\n",
    "    softmax = nn.Softmax(dim=1)\n",
    "\n",
    "    for i in range(forward_passes):\n",
    "        predictions = np.empty((0, n_classes))\n",
    "        model.eval()\n",
    "        enable_dropout(model)\n",
    "\n",
    "        for images, _ in data_loader:\n",
    "            images = images.to(device)\n",
    "            with torch.no_grad():\n",
    "                outputs = model(images)\n",
    "                outputs = softmax(outputs)\n",
    "            predictions = np.vstack((predictions, outputs.cpu().numpy()))\n",
    "\n",
    "        dropout_predictions = np.vstack((dropout_predictions, predictions[np.newaxis, :, :]))\n",
    "\n",
    "    # Calculate mean across multiple MC Dropout forward passes\n",
    "    mean = np.mean(dropout_predictions, axis=0)\n",
    "\n",
    "    # Calculate variance across multiple MC Dropout forward passes\n",
    "    variance = np.var(dropout_predictions, axis=0)\n",
    "\n",
    "    epsilon = sys.float_info.min\n",
    "    # Calculate entropy across multiple MC Dropout forward passes\n",
    "    entropy = -np.sum(mean * np.log(mean + epsilon), axis=-1)\n",
    "\n",
    "    # Calculate mutual information across multiple MC Dropout forward passes\n",
    "    mutual_info = entropy - np.mean(np.sum(-dropout_predictions * np.log(dropout_predictions + epsilon), axis=-1), axis=0)\n",
    "\n",
    "    return mean, variance, entropy, mutual_info\n",
    "\n",
    "# Prepare DataLoader for test data\n",
    "batch_size = 36\n",
    "test_dataset = TensorDataset(test_samples, test_labels)\n",
    "test_loader = DataLoader(test_dataset, batch_size=batch_size, shuffle=False)\n",
    "\n",
    "# Parameters for Monte Carlo Dropout\n",
    "forward_passes = 50  # Number of forward passes\n",
    "n_classes = 36  # Number of classes\n",
    "n_samples = len(test_samples)  # Number of test samples\n",
    "\n",
    "# Get Monte Carlo Predictions and Uncertainty Estimates\n",
    "mean, variance, entropy, mutual_info = get_monte_carlo_predictions(\n",
    "    test_loader, forward_passes, model, n_classes, n_samples\n",
    ")\n",
    "\n",
    "# Print results (or further analyze)\n",
    "print(\"Mean Predictions:\", mean)\n",
    "print(\"Variance Predictions:\", variance)\n",
    "print(\"Entropy Predictions:\", entropy)\n",
    "print(\"Mutual Information Predictions:\", mutual_info)"
   ]
  },
  {
   "cell_type": "code",
   "execution_count": 11,
   "id": "b2679dea",
   "metadata": {
    "tags": []
   },
   "outputs": [],
   "source": [
    "np.save(\"mean_predictions.npy\", mean)\n",
    "np.save(\"variance_predictions.npy\", variance)\n",
    "np.save(\"entropy_predictions.npy\", entropy)\n",
    "np.save(\"mutual_info_predictions.npy\", mutual_info)"
   ]
  },
  {
   "cell_type": "code",
   "execution_count": 9,
   "id": "94483307",
   "metadata": {},
   "outputs": [
    {
     "name": "stderr",
     "output_type": "stream",
     "text": [
      "C:\\Users\\Memetoglu\\AppData\\Local\\Temp\\ipykernel_41936\\527977089.py:2: FutureWarning: You are using `torch.load` with `weights_only=False` (the current default value), which uses the default pickle module implicitly. It is possible to construct malicious pickle data which will execute arbitrary code during unpickling (See https://github.com/pytorch/pytorch/blob/main/SECURITY.md#untrusted-models for more details). In a future release, the default value for `weights_only` will be flipped to `True`. This limits the functions that could be executed during unpickling. Arbitrary objects will no longer be allowed to be loaded via this mode unless they are explicitly allowlisted by the user via `torch.serialization.add_safe_globals`. We recommend you start setting `weights_only=True` for any use case where you don't have full control of the loaded file. Please open an issue on GitHub for any issues related to this experimental feature.\n",
      "  test_labels = torch.load(\"test_labels.pth\")\n"
     ]
    },
    {
     "data": {
      "text/plain": [
       "torch.Size([720])"
      ]
     },
     "execution_count": 9,
     "metadata": {},
     "output_type": "execute_result"
    }
   ],
   "source": [
    "import torch\n",
    "test_labels = torch.load(\"test_labels.pth\")\n",
    "test_labels.shape"
   ]
  },
  {
   "cell_type": "code",
   "execution_count": 22,
   "id": "d1768df0",
   "metadata": {},
   "outputs": [
    {
     "data": {
      "text/plain": [
       "(720,)"
      ]
     },
     "execution_count": 22,
     "metadata": {},
     "output_type": "execute_result"
    }
   ],
   "source": [
    "mutual_info.shape"
   ]
  },
  {
   "cell_type": "code",
   "execution_count": 23,
   "id": "836ea40a-fcec-4de7-b56b-907af9c3d1b8",
   "metadata": {},
   "outputs": [
    {
     "data": {
      "image/png": "[encoded data removed]",
      "text/plain": [
       "<Figure size 1500x1000 with 1 Axes>"
      ]
     },
     "metadata": {},
     "output_type": "display_data"
    }
   ],
   "source": [
    "import matplotlib.pyplot as plt\n",
    "import numpy as np\n",
    "\n",
    "mean = np.load(\"mean_predictions.npy\")\n",
    "variance = np.load(\"variance_predictions.npy\")\n",
    "entropy = np.load(\"entropy_predictions.npy\")\n",
    "mutual_info = np.load(\"mutual_info_predictions.npy\")\n",
    "\n",
    "\n",
    "plt.figure(figsize=(15, 10))\n",
    "plt.plot(entropy)\n",
    "plt.title(\"Entropy Predictions\")\n",
    "plt.xlabel(\"Sample Index\")\n",
    "plt.ylabel(\"Entropy\")\n",
    "plt.grid(True)\n",
    "plt.show()"
   ]
  },
  {
   "cell_type": "code",
   "execution_count": 10,
   "id": "d60bc3d6",
   "metadata": {
    "tags": []
   },
   "outputs": [
    {
     "name": "stderr",
     "output_type": "stream",
     "text": [
      "/var/tmp/ipykernel_2880/3109515044.py:6: FutureWarning: You are using `torch.load` with `weights_only=False` (the current default value), which uses the default pickle module implicitly. It is possible to construct malicious pickle data which will execute arbitrary code during unpickling (See https://github.com/pytorch/pytorch/blob/main/SECURITY.md#untrusted-models for more details). In a future release, the default value for `weights_only` will be flipped to `True`. This limits the functions that could be executed during unpickling. Arbitrary objects will no longer be allowed to be loaded via this mode unless they are explicitly allowlisted by the user via `torch.serialization.add_safe_globals`. We recommend you start setting `weights_only=True` for any use case where you don't have full control of the loaded file. Please open an issue on GitHub for any issues related to this experimental feature.\n",
      "  test_samples = torch.load(\"test_samples.pth\")\n",
      "/var/tmp/ipykernel_2880/3109515044.py:7: FutureWarning: You are using `torch.load` with `weights_only=False` (the current default value), which uses the default pickle module implicitly. It is possible to construct malicious pickle data which will execute arbitrary code during unpickling (See https://github.com/pytorch/pytorch/blob/main/SECURITY.md#untrusted-models for more details). In a future release, the default value for `weights_only` will be flipped to `True`. This limits the functions that could be executed during unpickling. Arbitrary objects will no longer be allowed to be loaded via this mode unless they are explicitly allowlisted by the user via `torch.serialization.add_safe_globals`. We recommend you start setting `weights_only=True` for any use case where you don't have full control of the loaded file. Please open an issue on GitHub for any issues related to this experimental feature.\n",
      "  test_labels = torch.load(\"test_labels.pth\")\n",
      "/var/tmp/ipykernel_2880/3109515044.py:18: FutureWarning: You are using `torch.load` with `weights_only=False` (the current default value), which uses the default pickle module implicitly. It is possible to construct malicious pickle data which will execute arbitrary code during unpickling (See https://github.com/pytorch/pytorch/blob/main/SECURITY.md#untrusted-models for more details). In a future release, the default value for `weights_only` will be flipped to `True`. This limits the functions that could be executed during unpickling. Arbitrary objects will no longer be allowed to be loaded via this mode unless they are explicitly allowlisted by the user via `torch.serialization.add_safe_globals`. We recommend you start setting `weights_only=True` for any use case where you don't have full control of the loaded file. Please open an issue on GitHub for any issues related to this experimental feature.\n",
      "  model.load_state_dict(torch.load(\"trained_model.pth\"))\n"
     ]
    },
    {
     "name": "stdout",
     "output_type": "stream",
     "text": [
      "Test Accuracy: 68.61%\n"
     ]
    }
   ],
   "source": [
    "import torch\n",
    "import torch.nn.functional as F\n",
    "from torch.utils.data import DataLoader, TensorDataset\n",
    "\n",
    "# Load Test Data\n",
    "test_samples = torch.load(\"test_samples.pth\")\n",
    "test_labels = torch.load(\"test_labels.pth\")\n",
    "\n",
    "# Device configuration\n",
    "device = torch.device('cuda' if torch.cuda.is_available() else 'cpu')\n",
    "\n",
    "# Define model class if not already defined (assuming MCTestTacNet class is defined as you've provided)\n",
    "# Instantiate the Model\n",
    "model = MCTestTacNet()\n",
    "model.to(device)\n",
    "\n",
    "# Load the Trained Model\n",
    "model.load_state_dict(torch.load(\"trained_model.pth\"))\n",
    "\n",
    "# Prepare DataLoader for test data\n",
    "batch_size = 36\n",
    "test_dataset = TensorDataset(test_samples, test_labels)\n",
    "test_loader = DataLoader(test_dataset, batch_size=batch_size, shuffle=False)\n",
    "\n",
    "# Function to calculate accuracy\n",
    "def calculate_accuracy(model, data_loader):\n",
    "    model.eval()\n",
    "    correct = 0\n",
    "    total = 0\n",
    "    with torch.no_grad():\n",
    "        for images, labels in data_loader:\n",
    "            images = images.to(device)\n",
    "            labels = labels.to(device)\n",
    "            outputs = model(images)\n",
    "            _, predicted = torch.max(outputs, 1)\n",
    "            total += labels.size(0)\n",
    "            correct += (predicted == labels).sum().item()\n",
    "    accuracy = 100 * correct / total\n",
    "    return accuracy\n",
    "\n",
    "# Calculate accuracy on the test data\n",
    "test_accuracy = calculate_accuracy(model, test_loader)\n",
    "print(f'Test Accuracy: {test_accuracy:.2f}%')\n"
   ]
  },
  {
   "cell_type": "code",
   "execution_count": null,
   "id": "71a9f32f-3f5e-43cc-aa2a-9353abe85055",
   "metadata": {},
   "outputs": [],
   "source": []
  }
 ],
 "metadata": {
  "environment": {
   "kernel": "conda-base-py",
   "name": "workbench-notebooks.m126",
   "type": "gcloud",
   "uri": "us-docker.pkg.dev/deeplearning-platform-release/gcr.io/workbench-notebooks:m126"
  },
  "kernelspec": {
   "display_name": "Python 3 (ipykernel)",
   "language": "python",
   "name": "conda-base-py"
  },
  "language_info": {
   "codemirror_mode": {
    "name": "ipython",
    "version": 3
   },
   "file_extension": ".py",
   "mimetype": "text/x-python",
   "name": "python",
   "nbconvert_exporter": "python",
   "pygments_lexer": "ipython3",
   "version": "3.10.15"
  }
 },
 "nbformat": 4,
 "nbformat_minor": 5
}
